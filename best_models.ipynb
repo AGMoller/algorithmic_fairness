{
 "cells": [
  {
   "cell_type": "code",
   "execution_count": 1,
   "metadata": {},
   "outputs": [],
   "source": [
    "import warnings\n",
    "from collections import Counter\n",
    "from typing import Callable, Dict, List, Tuple, Union\n",
    "\n",
    "import matplotlib.pyplot as plt\n",
    "import numpy as np\n",
    "import optuna\n",
    "import pandas as pd\n",
    "import seaborn as sns\n",
    "sns.set(style=\"darkgrid\")\n",
    "sns.set(rc={'figure.figsize':(16,8)})\n",
    "import scipy\n",
    "from imblearn.over_sampling import RandomOverSampler\n",
    "from sklearn import metrics, tree\n",
    "from sklearn.compose import ColumnTransformer\n",
    "from sklearn.metrics import classification_report, confusion_matrix, roc_curve, auc\n",
    "from sklearn.model_selection import train_test_split\n",
    "from sklearn.pipeline import Pipeline\n",
    "from sklearn.preprocessing import StandardScaler\n",
    "from sklearn.tree import DecisionTreeClassifier\n",
    "\n",
    "from metrics_eo import equailized_odds\n",
    "from objective import Objective\n",
    "from reprojections import reproject_features_w_regul, reproject_features\n",
    "from study_reprojection import data_preprocessing\n",
    "\n",
    "import utils"
   ]
  },
  {
   "cell_type": "code",
   "execution_count": 130,
   "metadata": {},
   "outputs": [],
   "source": [
    "standardize = True\n",
    "standardize_continuous = True\n",
    "resample = True\n",
    "reproject = False\n",
    "lambda_reproject = False\n",
    "run_optim_no_fairness = False\n",
    "\n",
    "train = pd.read_csv('data/heart_train.csv')\n",
    "val = pd.read_csv('data/heart_val.csv')\n",
    "test = pd.read_csv('data/heart_test.csv')\n",
    "\n",
    "# Select only rows with black and white race\n",
    "train = train.loc[train['Race'].isin(['White', 'Black'])]\n",
    "val = val.loc[val['Race'].isin(['White', 'Black'])]\n",
    "test = test.loc[test['Race'].isin(['White', 'Black'])]\n",
    "\n",
    "categorical_features = [\n",
    "    \"Smoking\",\n",
    "    \"AlcoholDrinking\",\n",
    "    \"Stroke\",\n",
    "    \"DiffWalking\",\n",
    "    \"Sex\",\n",
    "    \"AgeCategory\",\n",
    "    \"Race\",\n",
    "    \"Diabetic\",\n",
    "    \"PhysicalActivity\",\n",
    "    \"GenHealth\",\n",
    "    \"Asthma\",\n",
    "    \"KidneyDisease\",\n",
    "    \"SkinCancer\"\n",
    "]\n",
    "\n",
    "continuos_features = [\n",
    "    \"BMI\",\n",
    "    \"PhysicalHealth\",\n",
    "    \"MentalHealth\"\n",
    "]\n",
    "\n",
    "target_variable = \"HeartDisease\"\n",
    "\n",
    "train_processed, train_original, train_target, train_race = data_preprocessing(\n",
    "    train, categorical_features=categorical_features,\n",
    "    continuos_features=continuos_features,\n",
    "    target_variable=target_variable)\n",
    "val_processed, val_original, val_target, val_race = data_preprocessing(\n",
    "    val, categorical_features=categorical_features,\n",
    "    continuos_features=continuos_features,\n",
    "    target_variable=target_variable)\n",
    "test_processed, test_original, test_target, test_race = data_preprocessing(\n",
    "    test, categorical_features=categorical_features,\n",
    "    continuos_features=continuos_features,\n",
    "    target_variable=target_variable)\n",
    "\n",
    "y_train, y_val, y_test = train_target, val_target, test_target\n",
    "\n",
    "if standardize:\n",
    "    if standardize_continuous:\n",
    "        # Scale continuous variables\n",
    "        mean_ = np.mean(train_processed[continuos_features], axis=0)\n",
    "        std_ = np.std(train_processed[continuos_features], ddof=1, axis=0)\n",
    "\n",
    "        train_processed[continuos_features] = (\n",
    "            train_processed[continuos_features] - mean_) / std_\n",
    "        val_processed[continuos_features] = (val_processed[continuos_features] - mean_) / std_\n",
    "        test_processed[continuos_features] = (\n",
    "            test_processed[continuos_features] - mean_) / std_\n",
    "\n",
    "    else:\n",
    "        # Standardize all variables\n",
    "        mean_ = np.mean(train_processed, axis=0)\n",
    "        std_ = np.std(train_processed, ddof=1, axis=0)\n",
    "\n",
    "        train_processed = (train_processed - mean_) / std_\n",
    "        val_processed = (val_processed - mean_) / std_\n",
    "        test_processed = (test_processed - mean_) / std_\n",
    "\n",
    "sampler = optuna.samplers.TPESampler()\n",
    "\n",
    "# Do random oversampling to make class distribution even\n",
    "if resample:\n",
    "    ros = RandomOverSampler(random_state=42)\n",
    "    train_processed, y_train, = ros.fit_resample(\n",
    "        train_processed, y_train)\n",
    "\n",
    "best_params_exp1 = {'criterion': 'gini', 'max_depth': 29, 'min_samples_split': 0.0015208435967915194, 'min_samples_leaf': 0.00010984751659357859}\n",
    "best_params_exp2 = {'criterion': 'gini', 'max_depth': 30, 'min_samples_split': 0.008791657968284442, 'min_samples_leaf': 2.5756722034438575e-05}\n",
    "\n",
    "model = DecisionTreeClassifier(**best_params_exp2)\n",
    "model.fit(train_processed, y_train)\n",
    "\n",
    "val_pred = model.predict(val_processed)\n",
    "val_pred_proba = model.predict_proba(val_processed)\n",
    "test_pred = model.predict(test_processed)\n",
    "test_pred_proba = model.predict_proba(test_processed)"
   ]
  },
  {
   "cell_type": "code",
   "execution_count": 131,
   "metadata": {},
   "outputs": [],
   "source": [
    "def map_array(arr:np.ndarray):\n",
    "    d = {\"No\":0, \"Yes\":1}\n",
    "    \n",
    "    return np.array(list(map(lambda x: d[x], arr)))"
   ]
  },
  {
   "cell_type": "code",
   "execution_count": 132,
   "metadata": {},
   "outputs": [],
   "source": [
    "val_target = map_array(val_target)\n",
    "val_pred = map_array(val_pred)"
   ]
  },
  {
   "cell_type": "code",
   "execution_count": 133,
   "metadata": {},
   "outputs": [],
   "source": [
    "test_target = map_array(test_target)\n",
    "test_pred = map_array(test_pred)"
   ]
  },
  {
   "cell_type": "code",
   "execution_count": 62,
   "metadata": {},
   "outputs": [],
   "source": [
    "def evaluate(y_target, y_pred, y_race):\n",
    "    print(classification_report(y_target, y_pred))\n",
    "    print(utils.classification_report(y_target, y_pred, y_race))\n",
    "    print(confusion_matrix(y_target, y_pred, normalize='true', labels=[1,0]))"
   ]
  },
  {
   "cell_type": "code",
   "execution_count": 63,
   "metadata": {},
   "outputs": [],
   "source": [
    "def equalized_odds(preds, groups, test):\n",
    "    df = pd.DataFrame(list(zip(preds, groups, test)), columns=['preds', 'groups', 'test'])\n",
    "    targets = df['test'].unique()\n",
    "    groups = df['groups'].unique()\n",
    "    labels = []\n",
    "    y = []\n",
    "    \n",
    "    \n",
    "    for target in targets:\n",
    "        temp_labels = []\n",
    "        temp_y = []\n",
    "        for group in groups:\n",
    "            selection = df.loc[(df['test'] == target) & (df['groups'] == group)]\n",
    "            corrects = selection.loc[selection['preds'] == target]\n",
    "            score = round(len(corrects) / len(selection), 3) #how many correct out of all for this target and group\n",
    "            temp_labels.append(f'T: {target}, G: {group}')\n",
    "            temp_y.append(score)\n",
    "        labels.append(temp_labels)\n",
    "        y.append(temp_y)\n",
    "    \n",
    "\n",
    "    \n",
    "    # PLOTTING\n",
    "    fig, ax = plt.subplots(figsize=(6,5), sharey=True)\n",
    "    \n",
    "    x = np.arange(len(groups))  # the label locations\n",
    "    x = np.array([i*2 for i in x])\n",
    "    width = 0.5\n",
    "    \n",
    "    rects1 = ax.bar(x - width/2, y[0], width, label='No') #0\n",
    "    rects2 = ax.bar(x + width/2, y[1], width, label='Yes') #1\n",
    "    \n",
    "    # Add some text for labels, title and custom x-axis tick labels, etc.\n",
    "    ax.set_ylabel('Score')\n",
    "    ax.set_title('Scores by group and target')\n",
    "    ax.set_xticks(x, groups)\n",
    "    ax.legend(bbox_to_anchor=(1.01, 1), loc=2, borderaxespad=0.)\n",
    "    \n",
    "    ax.bar_label(rects1, padding=3)\n",
    "    ax.bar_label(rects2, padding=3)\n",
    "\n",
    "    plt.tight_layout()\n",
    "    plt.show()"
   ]
  },
  {
   "cell_type": "code",
   "execution_count": 64,
   "metadata": {},
   "outputs": [],
   "source": [
    "def find_thresholds(parameters, i, fpr_goal=0.6):\n",
    "    threshold = parameters[\"threshold\"][i]\n",
    "    fpr = parameters[\"fpr\"][i]\n",
    "    \n",
    "    idx = np.argmin(abs(fpr_goal - parameters[\"fpr\"][i]))\n",
    "    threshold = parameters[\"threshold\"][i][idx]\n",
    "    \n",
    "    return threshold, idx\n",
    "\n",
    "\n",
    "def plot_roc_curve(y_race:np.ndarray, y_target:np.ndarray, y_pred_proba:np.ndarray):\n",
    "    fig, ax = plt.subplots(figsize=(6,6))\n",
    "    parameters = {\"fpr\": [], \"tpr\": [], \"threshold\": []}\n",
    "\n",
    "    for race in np.unique(y_race):\n",
    "        y_score = y_pred_proba[y_race==race]\n",
    "        fpr, tpr, threshold = roc_curve(y_target[y_race==race], y_score[:, 1], drop_intermediate=False)\n",
    "        roc_auc = auc(fpr, tpr)\n",
    "\n",
    "        ax.plot(\n",
    "            fpr,\n",
    "            tpr,\n",
    "            lw=1,\n",
    "            label=f\"ROC curve {race} (area = %0.2f)\" % roc_auc)\n",
    "        parameters[\"fpr\"].append(fpr)\n",
    "        parameters[\"tpr\"].append(tpr)\n",
    "        parameters[\"threshold\"].append(threshold)\n",
    "    plt.xlabel('fpr', fontsize=12)\n",
    "    plt.ylabel('tpr', fontsize=12, rotation=0)\n",
    "    \n",
    "    return fig, ax, parameters"
   ]
  },
  {
   "cell_type": "code",
   "execution_count": 90,
   "metadata": {},
   "outputs": [],
   "source": [
    "def recalculate_predictions(val_race, val_pred_proba, white_threshold, black_threshold):\n",
    "    # Re-calculate predictions using new thresholds\n",
    "\n",
    "    y_pred_fair = list()\n",
    "    for race, proba in zip(val_race, val_pred_proba[:,1]):\n",
    "        if race == \"White\":\n",
    "            y_pred_fair.append(1 if proba >= white_threshold else 0)\n",
    "        elif race == \"Black\":\n",
    "            y_pred_fair.append(1 if proba >= black_threshold else 0)\n",
    "    y_pred_fair = np.array(y_pred_fair)\n",
    "    \n",
    "    return y_pred_fair"
   ]
  },
  {
   "cell_type": "markdown",
   "metadata": {},
   "source": [
    "# Experiment 1\n",
    "### Validation"
   ]
  },
  {
   "cell_type": "code",
   "execution_count": 91,
   "metadata": {},
   "outputs": [
    {
     "name": "stdout",
     "output_type": "stream",
     "text": [
      "              precision    recall  f1-score   support\n",
      "\n",
      "           0       0.92      0.99      0.95     36506\n",
      "           1       0.48      0.09      0.16      3609\n",
      "\n",
      "    accuracy                           0.91     40115\n",
      "   macro avg       0.70      0.54      0.55     40115\n",
      "weighted avg       0.88      0.91      0.88     40115\n",
      "\n",
      "A                              TPR   FPR   TNR   FNR  \n",
      "------------------------------------------------------\n",
      "Black                          0.10  0.01  1.00  1.00 \n",
      "White                          0.09  0.01  1.00  1.00 \n",
      "All                            0.09  0.01  1.00  1.00 \n",
      "[[0.09254641 0.90745359]\n",
      " [0.00980661 0.99019339]]\n"
     ]
    }
   ],
   "source": [
    "evaluate(val_target, val_pred, val_race)"
   ]
  },
  {
   "cell_type": "code",
   "execution_count": 92,
   "metadata": {},
   "outputs": [
    {
     "data": {
      "image/png": "[encoded data removed]",
      "text/plain": [
       "<Figure size 432x360 with 1 Axes>"
      ]
     },
     "metadata": {
      "needs_background": "light"
     },
     "output_type": "display_data"
    }
   ],
   "source": [
    "equalized_odds(val_pred, val_race, val_target)"
   ]
  },
  {
   "cell_type": "code",
   "execution_count": 93,
   "metadata": {},
   "outputs": [
    {
     "data": {
      "text/plain": [
       "<matplotlib.legend.Legend at 0x7f08a02d87f0>"
      ]
     },
     "execution_count": 93,
     "metadata": {},
     "output_type": "execute_result"
    },
    {
     "data": {
      "image/png": "[encoded data removed]",
      "text/plain": [
       "<Figure size 432x432 with 1 Axes>"
      ]
     },
     "metadata": {
      "needs_background": "light"
     },
     "output_type": "display_data"
    }
   ],
   "source": [
    "fig, ax, parameters = plot_roc_curve(val_race, val_target, val_pred_proba)\n",
    "plt.legend()"
   ]
  },
  {
   "cell_type": "code",
   "execution_count": 94,
   "metadata": {},
   "outputs": [
    {
     "data": {
      "text/plain": [
       "(0.016666666666666666, 0.014705882352941176)"
      ]
     },
     "execution_count": 94,
     "metadata": {},
     "output_type": "execute_result"
    }
   ],
   "source": [
    "fpr_goal = 0.6\n",
    "threshold_black, idx_b = find_thresholds(parameters, 0, fpr_goal) #0=black\n",
    "threshold_White, idx_w = find_thresholds(parameters, 1, fpr_goal) #1=white\n",
    "threshold_black, threshold_White"
   ]
  },
  {
   "cell_type": "code",
   "execution_count": 95,
   "metadata": {},
   "outputs": [
    {
     "data": {
      "text/plain": [
       "(0.60006373486297, 0.5989870534643971)"
      ]
     },
     "execution_count": 95,
     "metadata": {},
     "output_type": "execute_result"
    }
   ],
   "source": [
    "parameters[\"fpr\"][0][idx_b], parameters[\"fpr\"][1][idx_w]"
   ]
  },
  {
   "cell_type": "code",
   "execution_count": 96,
   "metadata": {},
   "outputs": [
    {
     "data": {
      "text/plain": [
       "(0.016666666666666666, 0.014705882352941176)"
      ]
     },
     "execution_count": 96,
     "metadata": {},
     "output_type": "execute_result"
    }
   ],
   "source": [
    "parameters[\"threshold\"][0][idx_b], parameters[\"threshold\"][1][idx_w]"
   ]
  },
  {
   "cell_type": "code",
   "execution_count": 97,
   "metadata": {},
   "outputs": [
    {
     "data": {
      "text/plain": [
       "(0.60006373486297, 0.9429657794676806)"
      ]
     },
     "execution_count": 97,
     "metadata": {},
     "output_type": "execute_result"
    }
   ],
   "source": [
    "p1 = parameters[\"fpr\"][0][idx_b], parameters[\"tpr\"][0][idx_b]\n",
    "p1"
   ]
  },
  {
   "cell_type": "code",
   "execution_count": 98,
   "metadata": {},
   "outputs": [
    {
     "data": {
      "image/png": "[encoded data removed]",
      "text/plain": [
       "<Figure size 432x432 with 1 Axes>"
      ]
     },
     "execution_count": 98,
     "metadata": {},
     "output_type": "execute_result"
    }
   ],
   "source": [
    "ax.scatter(p1[0], p1[1], s=50, color = 'green')\n",
    "ax.annotate(text = f'Thresholds:\\nBlack: {round(threshold_black, 3)}, White: {round(threshold_White, 3)}', xy = (p1[0]+0.01, p1[1]-0.1), size=10, color = 'black')\n",
    "fig"
   ]
  },
  {
   "cell_type": "code",
   "execution_count": 99,
   "metadata": {},
   "outputs": [],
   "source": [
    "val_pred_fair = recalculate_predictions(val_race, val_pred_proba, threshold_White, threshold_black)"
   ]
  },
  {
   "cell_type": "code",
   "execution_count": 100,
   "metadata": {},
   "outputs": [
    {
     "data": {
      "image/png": "[encoded data removed]",
      "text/plain": [
       "<Figure size 432x360 with 1 Axes>"
      ]
     },
     "metadata": {
      "needs_background": "light"
     },
     "output_type": "display_data"
    }
   ],
   "source": [
    "equalized_odds(val_pred_fair, val_race, val_target)"
   ]
  },
  {
   "cell_type": "code",
   "execution_count": 101,
   "metadata": {},
   "outputs": [
    {
     "name": "stdout",
     "output_type": "stream",
     "text": [
      "              precision    recall  f1-score   support\n",
      "\n",
      "           0       0.99      0.40      0.57     36506\n",
      "           1       0.13      0.94      0.24      3609\n",
      "\n",
      "    accuracy                           0.45     40115\n",
      "   macro avg       0.56      0.67      0.40     40115\n",
      "weighted avg       0.91      0.45      0.54     40115\n",
      "\n",
      "A                              TPR   FPR   TNR   FNR  \n",
      "------------------------------------------------------\n",
      "Black                          0.94  0.60  1.00  0.94 \n",
      "White                          0.94  0.60  1.00  1.00 \n",
      "All                            0.94  0.60  1.00  1.00 \n",
      "[[0.94208922 0.05791078]\n",
      " [0.5990796  0.4009204 ]]\n"
     ]
    }
   ],
   "source": [
    "evaluate(val_target, val_pred_fair, val_race)"
   ]
  },
  {
   "cell_type": "markdown",
   "metadata": {},
   "source": [
    "### Test"
   ]
  },
  {
   "cell_type": "code",
   "execution_count": 111,
   "metadata": {},
   "outputs": [
    {
     "name": "stdout",
     "output_type": "stream",
     "text": [
      "              precision    recall  f1-score   support\n",
      "\n",
      "           0       0.92      0.99      0.95     36590\n",
      "           1       0.49      0.09      0.16      3643\n",
      "\n",
      "    accuracy                           0.91     40233\n",
      "   macro avg       0.71      0.54      0.55     40233\n",
      "weighted avg       0.88      0.91      0.88     40233\n",
      "\n",
      "A                              TPR   FPR   TNR   FNR  \n",
      "------------------------------------------------------\n",
      "Black                          0.12  0.01  1.00  1.00 \n",
      "White                          0.09  0.01  1.00  1.00 \n",
      "All                            0.09  0.01  1.00  1.00 \n",
      "[[0.09387867 0.90612133]\n",
      " [0.00953813 0.99046187]]\n"
     ]
    }
   ],
   "source": [
    "evaluate(test_target, test_pred, test_race)"
   ]
  },
  {
   "cell_type": "code",
   "execution_count": 112,
   "metadata": {},
   "outputs": [
    {
     "data": {
      "image/png": "[encoded data removed]",
      "text/plain": [
       "<Figure size 432x360 with 1 Axes>"
      ]
     },
     "metadata": {
      "needs_background": "light"
     },
     "output_type": "display_data"
    }
   ],
   "source": [
    "equalized_odds(test_pred, test_race, test_target)"
   ]
  },
  {
   "cell_type": "code",
   "execution_count": 113,
   "metadata": {},
   "outputs": [],
   "source": [
    "test_pred_fair = recalculate_predictions(test_race, test_pred_proba, threshold_White, threshold_black)"
   ]
  },
  {
   "cell_type": "code",
   "execution_count": 114,
   "metadata": {},
   "outputs": [
    {
     "data": {
      "image/png": "[encoded data removed]",
      "text/plain": [
       "<Figure size 432x360 with 1 Axes>"
      ]
     },
     "metadata": {
      "needs_background": "light"
     },
     "output_type": "display_data"
    }
   ],
   "source": [
    "equalized_odds(test_pred_fair, test_race, test_target)"
   ]
  },
  {
   "cell_type": "code",
   "execution_count": 115,
   "metadata": {},
   "outputs": [
    {
     "name": "stdout",
     "output_type": "stream",
     "text": [
      "              precision    recall  f1-score   support\n",
      "\n",
      "           0       0.99      0.40      0.57     36590\n",
      "           1       0.13      0.94      0.24      3643\n",
      "\n",
      "    accuracy                           0.45     40233\n",
      "   macro avg       0.56      0.67      0.40     40233\n",
      "weighted avg       0.91      0.45      0.54     40233\n",
      "\n",
      "A                              TPR   FPR   TNR   FNR  \n",
      "------------------------------------------------------\n",
      "Black                          0.94  0.59  1.00  0.94 \n",
      "White                          0.94  0.60  1.00  1.00 \n",
      "All                            0.94  0.60  1.00  1.00 \n",
      "[[0.94070821 0.05929179]\n",
      " [0.60194042 0.39805958]]\n"
     ]
    }
   ],
   "source": [
    "evaluate(test_target, test_pred_fair, test_race)"
   ]
  },
  {
   "cell_type": "markdown",
   "metadata": {},
   "source": [
    "### Explainability "
   ]
  },
  {
   "cell_type": "code",
   "execution_count": 32,
   "metadata": {},
   "outputs": [],
   "source": [
    "arr = test_pred_proba"
   ]
  },
  {
   "cell_type": "code",
   "execution_count": 34,
   "metadata": {},
   "outputs": [
    {
     "data": {
      "text/plain": [
       "array([31471])"
      ]
     },
     "execution_count": 34,
     "metadata": {},
     "output_type": "execute_result"
    }
   ],
   "source": [
    "indexes = np.where(abs(arr-threshold_White) < 0.00001)[0] #0 is indexes of the array\n",
    "indexes"
   ]
  },
  {
   "cell_type": "code",
   "execution_count": 38,
   "metadata": {},
   "outputs": [
    {
     "data": {
      "text/plain": [
       "(array([[0.94736842, 0.05263158]]), 0.05263157894736842)"
      ]
     },
     "execution_count": 38,
     "metadata": {},
     "output_type": "execute_result"
    }
   ],
   "source": [
    "test_pred_proba[indexes], threshold_White"
   ]
  },
  {
   "cell_type": "code",
   "execution_count": 35,
   "metadata": {},
   "outputs": [
    {
     "data": {
      "text/html": [
       "<div>\n",
       "<style scoped>\n",
       "    .dataframe tbody tr th:only-of-type {\n",
       "        vertical-align: middle;\n",
       "    }\n",
       "\n",
       "    .dataframe tbody tr th {\n",
       "        vertical-align: top;\n",
       "    }\n",
       "\n",
       "    .dataframe thead th {\n",
       "        text-align: right;\n",
       "    }\n",
       "</style>\n",
       "<table border=\"1\" class=\"dataframe\">\n",
       "  <thead>\n",
       "    <tr style=\"text-align: right;\">\n",
       "      <th></th>\n",
       "      <th>BMI</th>\n",
       "      <th>PhysicalHealth</th>\n",
       "      <th>MentalHealth</th>\n",
       "      <th>Smoking_Yes</th>\n",
       "      <th>AlcoholDrinking_Yes</th>\n",
       "      <th>Stroke_Yes</th>\n",
       "      <th>DiffWalking_Yes</th>\n",
       "      <th>Sex_Male</th>\n",
       "      <th>AgeCategory_25-29</th>\n",
       "      <th>AgeCategory_30-34</th>\n",
       "      <th>...</th>\n",
       "      <th>Diabetic_Yes</th>\n",
       "      <th>Diabetic_Yes (during pregnancy)</th>\n",
       "      <th>PhysicalActivity_Yes</th>\n",
       "      <th>GenHealth_Fair</th>\n",
       "      <th>GenHealth_Good</th>\n",
       "      <th>GenHealth_Poor</th>\n",
       "      <th>GenHealth_Very good</th>\n",
       "      <th>Asthma_Yes</th>\n",
       "      <th>KidneyDisease_Yes</th>\n",
       "      <th>SkinCancer_Yes</th>\n",
       "    </tr>\n",
       "  </thead>\n",
       "  <tbody>\n",
       "    <tr>\n",
       "      <th>37553</th>\n",
       "      <td>-1.044752</td>\n",
       "      <td>0.453295</td>\n",
       "      <td>1.287308</td>\n",
       "      <td>1</td>\n",
       "      <td>0</td>\n",
       "      <td>0</td>\n",
       "      <td>0</td>\n",
       "      <td>0</td>\n",
       "      <td>0</td>\n",
       "      <td>0</td>\n",
       "      <td>...</td>\n",
       "      <td>0</td>\n",
       "      <td>0</td>\n",
       "      <td>0</td>\n",
       "      <td>0</td>\n",
       "      <td>1</td>\n",
       "      <td>0</td>\n",
       "      <td>0</td>\n",
       "      <td>0</td>\n",
       "      <td>1</td>\n",
       "      <td>0</td>\n",
       "    </tr>\n",
       "  </tbody>\n",
       "</table>\n",
       "<p>1 rows × 32 columns</p>\n",
       "</div>"
      ],
      "text/plain": [
       "            BMI  PhysicalHealth  MentalHealth  Smoking_Yes  \\\n",
       "37553 -1.044752        0.453295      1.287308            1   \n",
       "\n",
       "       AlcoholDrinking_Yes  Stroke_Yes  DiffWalking_Yes  Sex_Male  \\\n",
       "37553                    0           0                0         0   \n",
       "\n",
       "       AgeCategory_25-29  AgeCategory_30-34  ...  Diabetic_Yes  \\\n",
       "37553                  0                  0  ...             0   \n",
       "\n",
       "       Diabetic_Yes (during pregnancy)  PhysicalActivity_Yes  GenHealth_Fair  \\\n",
       "37553                                0                     0               0   \n",
       "\n",
       "       GenHealth_Good  GenHealth_Poor  GenHealth_Very good  Asthma_Yes  \\\n",
       "37553               1               0                    0           0   \n",
       "\n",
       "       KidneyDisease_Yes  SkinCancer_Yes  \n",
       "37553                  1               0  \n",
       "\n",
       "[1 rows x 32 columns]"
      ]
     },
     "execution_count": 35,
     "metadata": {},
     "output_type": "execute_result"
    }
   ],
   "source": [
    "df2 = test_processed.iloc[indexes].copy()\n",
    "df2"
   ]
  },
  {
   "cell_type": "code",
   "execution_count": 36,
   "metadata": {},
   "outputs": [
    {
     "data": {
      "text/plain": [
       "array([0])"
      ]
     },
     "execution_count": 36,
     "metadata": {},
     "output_type": "execute_result"
    }
   ],
   "source": [
    "test_target[indexes] #none of these have heartdisease!"
   ]
  },
  {
   "cell_type": "code",
   "execution_count": 40,
   "metadata": {},
   "outputs": [
    {
     "data": {
      "text/plain": [
       "array(['No'], dtype=object)"
      ]
     },
     "execution_count": 40,
     "metadata": {},
     "output_type": "execute_result"
    }
   ],
   "source": [
    "pred= model.predict(df2) #model predicts just that\n",
    "pred"
   ]
  },
  {
   "cell_type": "code",
   "execution_count": 43,
   "metadata": {},
   "outputs": [
    {
     "name": "stdout",
     "output_type": "stream",
     "text": [
      "1\n"
     ]
    }
   ],
   "source": [
    "print(1 if test_pred_proba[indexes][:, 1] >= threshold_White else 0)"
   ]
  },
  {
   "cell_type": "code",
   "execution_count": 50,
   "metadata": {},
   "outputs": [],
   "source": [
    "df2.at[37553, \"GenHealth_Very good\"] = 1 #changing last person's healthcondition\n",
    "df2.at[37553, \"GenHealth_Good\"] = 0"
   ]
  },
  {
   "cell_type": "code",
   "execution_count": 45,
   "metadata": {},
   "outputs": [
    {
     "data": {
      "text/plain": [
       "array([[0.99491094, 0.00508906]])"
      ]
     },
     "execution_count": 45,
     "metadata": {},
     "output_type": "execute_result"
    }
   ],
   "source": [
    "proba = model.predict_proba(df2) #model predicts just that\n",
    "proba"
   ]
  },
  {
   "cell_type": "code",
   "execution_count": 48,
   "metadata": {},
   "outputs": [
    {
     "name": "stdout",
     "output_type": "stream",
     "text": [
      "0\n"
     ]
    }
   ],
   "source": [
    "print(1 if proba[:, 1] >= threshold_White else 0)"
   ]
  },
  {
   "cell_type": "code",
   "execution_count": null,
   "metadata": {},
   "outputs": [],
   "source": []
  },
  {
   "cell_type": "code",
   "execution_count": 51,
   "metadata": {},
   "outputs": [],
   "source": [
    "df2.at[37553, \"GenHealth_Very good\"] = 0 #changing last person's healthcondition back to what it was\n",
    "df2.at[37553, \"GenHealth_Good\"] = 1"
   ]
  },
  {
   "cell_type": "code",
   "execution_count": 52,
   "metadata": {},
   "outputs": [
    {
     "data": {
      "text/plain": [
       "array([[0.94736842, 0.05263158]])"
      ]
     },
     "execution_count": 52,
     "metadata": {},
     "output_type": "execute_result"
    }
   ],
   "source": [
    "proba = model.predict_proba(df2)\n",
    "proba"
   ]
  },
  {
   "cell_type": "code",
   "execution_count": 53,
   "metadata": {},
   "outputs": [
    {
     "name": "stdout",
     "output_type": "stream",
     "text": [
      "1\n"
     ]
    }
   ],
   "source": [
    "print(1 if proba[:, 1] >= threshold_White else 0)"
   ]
  },
  {
   "cell_type": "code",
   "execution_count": 54,
   "metadata": {},
   "outputs": [],
   "source": [
    "df2.loc[:, \"Sex_Male\"] = 1"
   ]
  },
  {
   "cell_type": "code",
   "execution_count": 55,
   "metadata": {},
   "outputs": [
    {
     "data": {
      "text/plain": [
       "array([[0.94736842, 0.05263158]])"
      ]
     },
     "execution_count": 55,
     "metadata": {},
     "output_type": "execute_result"
    }
   ],
   "source": [
    "proba = model.predict_proba(df2)\n",
    "proba"
   ]
  },
  {
   "cell_type": "code",
   "execution_count": 56,
   "metadata": {},
   "outputs": [
    {
     "name": "stdout",
     "output_type": "stream",
     "text": [
      "1\n"
     ]
    }
   ],
   "source": [
    "print(1 if proba[:, 1] >= threshold_White else 0)"
   ]
  },
  {
   "cell_type": "code",
   "execution_count": null,
   "metadata": {},
   "outputs": [],
   "source": []
  },
  {
   "cell_type": "code",
   "execution_count": null,
   "metadata": {},
   "outputs": [],
   "source": []
  },
  {
   "cell_type": "code",
   "execution_count": null,
   "metadata": {},
   "outputs": [],
   "source": []
  },
  {
   "cell_type": "code",
   "execution_count": null,
   "metadata": {},
   "outputs": [],
   "source": []
  },
  {
   "cell_type": "markdown",
   "metadata": {},
   "source": [
    "# Experiment 2\n",
    "### Validation"
   ]
  },
  {
   "cell_type": "code",
   "execution_count": 135,
   "metadata": {},
   "outputs": [
    {
     "name": "stdout",
     "output_type": "stream",
     "text": [
      "              precision    recall  f1-score   support\n",
      "\n",
      "           0       0.97      0.71      0.82     36506\n",
      "           1       0.21      0.80      0.34      3609\n",
      "\n",
      "    accuracy                           0.72     40115\n",
      "   macro avg       0.59      0.75      0.58     40115\n",
      "weighted avg       0.90      0.72      0.78     40115\n",
      "\n",
      "A                              TPR   FPR   TNR   FNR  \n",
      "------------------------------------------------------\n",
      "Black                          0.80  0.29  1.00  0.99 \n",
      "White                          0.80  0.29  1.00  1.00 \n",
      "All                            0.80  0.29  1.00  1.00 \n",
      "[[0.80022167 0.19977833]\n",
      " [0.29288336 0.70711664]]\n"
     ]
    }
   ],
   "source": [
    "evaluate(val_target, val_pred, val_race)"
   ]
  },
  {
   "cell_type": "code",
   "execution_count": 136,
   "metadata": {},
   "outputs": [
    {
     "data": {
      "image/png": "[encoded data removed]",
      "text/plain": [
       "<Figure size 432x360 with 1 Axes>"
      ]
     },
     "metadata": {
      "needs_background": "light"
     },
     "output_type": "display_data"
    }
   ],
   "source": [
    "equalized_odds(val_pred, val_race, val_target)"
   ]
  },
  {
   "cell_type": "code",
   "execution_count": 137,
   "metadata": {},
   "outputs": [
    {
     "data": {
      "text/plain": [
       "<matplotlib.legend.Legend at 0x7f089a6347c0>"
      ]
     },
     "execution_count": 137,
     "metadata": {},
     "output_type": "execute_result"
    },
    {
     "data": {
      "image/png": "[encoded data removed]",
      "text/plain": [
       "<Figure size 432x432 with 1 Axes>"
      ]
     },
     "metadata": {
      "needs_background": "light"
     },
     "output_type": "display_data"
    }
   ],
   "source": [
    "fig, ax, parameters = plot_roc_curve(val_race, val_target, val_pred_proba)\n",
    "plt.legend()"
   ]
  },
  {
   "cell_type": "markdown",
   "metadata": {},
   "source": [
    "    Based on the roc curve we choose the cutpoint to be the intersection at fpr=0.6"
   ]
  },
  {
   "cell_type": "code",
   "execution_count": 138,
   "metadata": {},
   "outputs": [
    {
     "data": {
      "text/plain": [
       "(0.16977611940298507, 0.17389745428468986)"
      ]
     },
     "execution_count": 138,
     "metadata": {},
     "output_type": "execute_result"
    }
   ],
   "source": [
    "fpr_goal = 0.6\n",
    "threshold_black, idx_b = find_thresholds(parameters, 0, fpr_goal) #0=black\n",
    "threshold_White, idx_w = find_thresholds(parameters, 1, fpr_goal) #1=white\n",
    "threshold_black, threshold_White"
   ]
  },
  {
   "cell_type": "code",
   "execution_count": 139,
   "metadata": {},
   "outputs": [
    {
     "data": {
      "text/plain": [
       "163"
      ]
     },
     "execution_count": 139,
     "metadata": {},
     "output_type": "execute_result"
    }
   ],
   "source": [
    "np.argmin(abs(fpr_goal - parameters[\"fpr\"][0]))"
   ]
  },
  {
   "cell_type": "code",
   "execution_count": 140,
   "metadata": {},
   "outputs": [
    {
     "data": {
      "text/plain": [
       "(0.5968769917144678, 0.9581749049429658)"
      ]
     },
     "execution_count": 140,
     "metadata": {},
     "output_type": "execute_result"
    }
   ],
   "source": [
    "p1 = parameters[\"fpr\"][0][idx_b], parameters[\"tpr\"][0][idx_b]\n",
    "p1"
   ]
  },
  {
   "cell_type": "code",
   "execution_count": 141,
   "metadata": {},
   "outputs": [
    {
     "data": {
      "image/png": "[encoded data removed]",
      "text/plain": [
       "<Figure size 432x432 with 1 Axes>"
      ]
     },
     "execution_count": 141,
     "metadata": {},
     "output_type": "execute_result"
    }
   ],
   "source": [
    "ax.scatter(p1[0], p1[1], s=50, color = 'green')\n",
    "ax.annotate(text = f'Thresholds:\\nBlack: {round(threshold_black, 2)}, White: {round(threshold_White, 2)}', xy = (p1[0]+0.01, p1[1]-0.1), size=10, color = 'black')\n",
    "fig"
   ]
  },
  {
   "cell_type": "code",
   "execution_count": 142,
   "metadata": {},
   "outputs": [],
   "source": [
    "val_pred_fair = recalculate_predictions(val_race, val_pred_proba, threshold_White, threshold_black)"
   ]
  },
  {
   "cell_type": "code",
   "execution_count": 143,
   "metadata": {},
   "outputs": [
    {
     "data": {
      "image/png": "[encoded data removed]",
      "text/plain": [
       "<Figure size 432x360 with 1 Axes>"
      ]
     },
     "metadata": {
      "needs_background": "light"
     },
     "output_type": "display_data"
    }
   ],
   "source": [
    "equalized_odds(val_pred_fair, val_race, val_target)"
   ]
  },
  {
   "cell_type": "code",
   "execution_count": 144,
   "metadata": {},
   "outputs": [
    {
     "name": "stdout",
     "output_type": "stream",
     "text": [
      "              precision    recall  f1-score   support\n",
      "\n",
      "           0       0.99      0.40      0.57     36506\n",
      "           1       0.14      0.96      0.24      3609\n",
      "\n",
      "    accuracy                           0.45     40115\n",
      "   macro avg       0.56      0.68      0.41     40115\n",
      "weighted avg       0.91      0.45      0.54     40115\n",
      "\n",
      "A                              TPR   FPR   TNR   FNR  \n",
      "------------------------------------------------------\n",
      "Black                          0.96  0.60  1.00  0.92 \n",
      "White                          0.96  0.60  1.00  0.99 \n",
      "All                            0.96  0.60  1.00  0.99 \n",
      "[[0.95871433 0.04128567]\n",
      " [0.59839478 0.40160522]]\n"
     ]
    }
   ],
   "source": [
    "evaluate(val_target, val_pred_fair, val_race)"
   ]
  },
  {
   "cell_type": "markdown",
   "metadata": {},
   "source": [
    "### Test set"
   ]
  },
  {
   "cell_type": "code",
   "execution_count": null,
   "metadata": {},
   "outputs": [],
   "source": [
    "evaluate(test_target, test_pred, test_race)"
   ]
  },
  {
   "cell_type": "code",
   "execution_count": null,
   "metadata": {},
   "outputs": [],
   "source": [
    "equalized_odds(test_pred, test_race, test_target)"
   ]
  },
  {
   "cell_type": "code",
   "execution_count": null,
   "metadata": {},
   "outputs": [],
   "source": [
    "test_pred_fair = recalculate_predictions(test_race, test_pred_proba, threshold_White, threshold_black)"
   ]
  },
  {
   "cell_type": "code",
   "execution_count": null,
   "metadata": {},
   "outputs": [],
   "source": [
    "evaluate(test_target, test_pred_fair, test_race)"
   ]
  },
  {
   "cell_type": "code",
   "execution_count": null,
   "metadata": {},
   "outputs": [],
   "source": []
  }
 ],
 "metadata": {
  "interpreter": {
   "hash": "4168ca1474844f3f5fca761e685cf164ea20722acc5773b61bcc07160dedfd10"
  },
  "kernelspec": {
   "display_name": "Python 3 (ipykernel)",
   "language": "python",
   "name": "python3"
  },
  "language_info": {
   "codemirror_mode": {
    "name": "ipython",
    "version": 3
   },
   "file_extension": ".py",
   "mimetype": "text/x-python",
   "name": "python",
   "nbconvert_exporter": "python",
   "pygments_lexer": "ipython3",
   "version": "3.8.10"
  }
 },
 "nbformat": 4,
 "nbformat_minor": 2
}
