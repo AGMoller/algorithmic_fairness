{
 "cells": [
  {
   "cell_type": "code",
   "execution_count": 1,
   "id": "7020504c",
   "metadata": {},
   "outputs": [],
   "source": [
    "from typing import List\n",
    "\n",
    "import matplotlib.pyplot as plt\n",
    "import numpy as np\n",
    "import pandas as pd\n",
    "import seaborn as sns\n",
    "sns.set(style=\"darkgrid\")\n",
    "sns.set(rc={'figure.figsize':(16,8)})\n",
    "\n",
    "\n",
    "from sklearn.metrics import confusion_matrix\n",
    "from sklearn.metrics import classification_report, roc_curve, auc\n",
    "from sklearn.linear_model import LogisticRegression\n",
    "from sklearn.tree import DecisionTreeClassifier\n",
    "from sklearn.compose import ColumnTransformer\n",
    "from sklearn.preprocessing import StandardScaler\n",
    "from sklearn.pipeline import Pipeline\n",
    "\n",
    "import utils"
   ]
  },
  {
   "cell_type": "markdown",
   "id": "6cbf6bcd",
   "metadata": {},
   "source": [
    "# Preprocessing Data"
   ]
  },
  {
   "cell_type": "code",
   "execution_count": 12,
   "id": "059f5b40",
   "metadata": {},
   "outputs": [],
   "source": [
    "train = pd.read_csv('data/heart_train.csv')\n",
    "val = pd.read_csv('data/heart_val.csv')\n",
    "test = pd.read_csv('data/heart_test.csv')\n",
    "\n",
    "protected = \"Race\"\n",
    "target_variable = \"HeartDisease\"\n",
    "\n",
    "continuous_features = list(train._get_numeric_data().columns)\n",
    "categorical_features = list(set(train.columns) - set(continuous_features) - set([target_variable]) - set([protected]))"
   ]
  },
  {
   "cell_type": "code",
   "execution_count": 13,
   "id": "91d2fa22",
   "metadata": {},
   "outputs": [],
   "source": [
    "def mean_of_age_category(row):\n",
    "    if \"older\" in row:\n",
    "        return 80\n",
    "    else:\n",
    "        return np.mean(list(map(int, row.split(\"-\"))))\n",
    "\n",
    "\n",
    "def data_preprocessing(data: pd.DataFrame, categorical_features: List[str], continuous_features: List[str], target_variable: str):\n",
    "\n",
    "    df = data.copy()\n",
    "    \n",
    "    # subset df\n",
    "    df = df[(df[\"Race\"]==\"White\") | (df[\"Race\"]==\"Black\")]\n",
    "    df[\"AgeCategory\"] = df[\"AgeCategory\"].apply(mean_of_age_category)\n",
    "    \n",
    "    # target\n",
    "    target = df[target_variable].values\n",
    "    d = {\"No\":0, \"Yes\":1}\n",
    "    target = np.array(list(map(lambda x: d[x], target)))\n",
    "\n",
    "    # protected variables\n",
    "    sex = df[\"Sex\"].values\n",
    "    age = df[\"AgeCategory\"].values\n",
    "    race = df[\"Race\"].values\n",
    "\n",
    "    df_processed = df[categorical_features + continuous_features].copy()\n",
    "    df_processed = pd.get_dummies(df_processed, prefix=None, prefix_sep='_',\n",
    "                                  dummy_na=False, columns=categorical_features, drop_first=True)\n",
    "\n",
    "    return df_processed, df, target, sex, age, race\n",
    "\n",
    "\n",
    "train_processed, train_original, train_target, train_sex, train_age, train_race = data_preprocessing(\n",
    "    train, categorical_features=categorical_features, continuous_features=continuous_features, target_variable=target_variable)\n",
    "\n",
    "val_processed, val_original, val_target, val_sex, val_age, val_race = data_preprocessing(\n",
    "    val, categorical_features=categorical_features, continuous_features=continuous_features, target_variable=target_variable)\n",
    "\n",
    "test_processed, test_original, test_target, test_sex, test_age, test_race = data_preprocessing(\n",
    "test, categorical_features=categorical_features, continuous_features=continuous_features, target_variable=target_variable)"
   ]
  },
  {
   "cell_type": "code",
   "execution_count": 14,
   "id": "6ed35434",
   "metadata": {},
   "outputs": [
    {
     "data": {
      "text/html": [
       "<div>\n",
       "<style scoped>\n",
       "    .dataframe tbody tr th:only-of-type {\n",
       "        vertical-align: middle;\n",
       "    }\n",
       "\n",
       "    .dataframe tbody tr th {\n",
       "        vertical-align: top;\n",
       "    }\n",
       "\n",
       "    .dataframe thead th {\n",
       "        text-align: right;\n",
       "    }\n",
       "</style>\n",
       "<table border=\"1\" class=\"dataframe\">\n",
       "  <thead>\n",
       "    <tr style=\"text-align: right;\">\n",
       "      <th></th>\n",
       "      <th>BMI</th>\n",
       "      <th>PhysicalHealth</th>\n",
       "      <th>MentalHealth</th>\n",
       "      <th>SleepTime</th>\n",
       "      <th>Sex_Male</th>\n",
       "      <th>Asthma_Yes</th>\n",
       "      <th>Smoking_Yes</th>\n",
       "      <th>PhysicalActivity_Yes</th>\n",
       "      <th>AgeCategory_27.0</th>\n",
       "      <th>AgeCategory_32.0</th>\n",
       "      <th>...</th>\n",
       "      <th>GenHealth_Poor</th>\n",
       "      <th>GenHealth_Very good</th>\n",
       "      <th>AlcoholDrinking_Yes</th>\n",
       "      <th>KidneyDisease_Yes</th>\n",
       "      <th>DiffWalking_Yes</th>\n",
       "      <th>Diabetic_No, borderline diabetes</th>\n",
       "      <th>Diabetic_Yes</th>\n",
       "      <th>Diabetic_Yes (during pregnancy)</th>\n",
       "      <th>SkinCancer_Yes</th>\n",
       "      <th>Stroke_Yes</th>\n",
       "    </tr>\n",
       "  </thead>\n",
       "  <tbody>\n",
       "    <tr>\n",
       "      <th>0</th>\n",
       "      <td>23.44</td>\n",
       "      <td>0.0</td>\n",
       "      <td>1.0</td>\n",
       "      <td>7.0</td>\n",
       "      <td>0</td>\n",
       "      <td>0</td>\n",
       "      <td>1</td>\n",
       "      <td>1</td>\n",
       "      <td>0</td>\n",
       "      <td>0</td>\n",
       "      <td>...</td>\n",
       "      <td>0</td>\n",
       "      <td>0</td>\n",
       "      <td>0</td>\n",
       "      <td>0</td>\n",
       "      <td>0</td>\n",
       "      <td>0</td>\n",
       "      <td>0</td>\n",
       "      <td>0</td>\n",
       "      <td>0</td>\n",
       "      <td>0</td>\n",
       "    </tr>\n",
       "    <tr>\n",
       "      <th>1</th>\n",
       "      <td>23.11</td>\n",
       "      <td>0.0</td>\n",
       "      <td>0.0</td>\n",
       "      <td>7.0</td>\n",
       "      <td>1</td>\n",
       "      <td>0</td>\n",
       "      <td>0</td>\n",
       "      <td>0</td>\n",
       "      <td>0</td>\n",
       "      <td>0</td>\n",
       "      <td>...</td>\n",
       "      <td>0</td>\n",
       "      <td>0</td>\n",
       "      <td>0</td>\n",
       "      <td>0</td>\n",
       "      <td>0</td>\n",
       "      <td>0</td>\n",
       "      <td>0</td>\n",
       "      <td>0</td>\n",
       "      <td>0</td>\n",
       "      <td>0</td>\n",
       "    </tr>\n",
       "    <tr>\n",
       "      <th>2</th>\n",
       "      <td>35.51</td>\n",
       "      <td>2.0</td>\n",
       "      <td>1.0</td>\n",
       "      <td>7.0</td>\n",
       "      <td>0</td>\n",
       "      <td>0</td>\n",
       "      <td>0</td>\n",
       "      <td>1</td>\n",
       "      <td>0</td>\n",
       "      <td>0</td>\n",
       "      <td>...</td>\n",
       "      <td>0</td>\n",
       "      <td>0</td>\n",
       "      <td>0</td>\n",
       "      <td>0</td>\n",
       "      <td>0</td>\n",
       "      <td>0</td>\n",
       "      <td>0</td>\n",
       "      <td>0</td>\n",
       "      <td>0</td>\n",
       "      <td>0</td>\n",
       "    </tr>\n",
       "    <tr>\n",
       "      <th>3</th>\n",
       "      <td>21.79</td>\n",
       "      <td>0.0</td>\n",
       "      <td>0.0</td>\n",
       "      <td>8.0</td>\n",
       "      <td>0</td>\n",
       "      <td>0</td>\n",
       "      <td>0</td>\n",
       "      <td>1</td>\n",
       "      <td>0</td>\n",
       "      <td>0</td>\n",
       "      <td>...</td>\n",
       "      <td>0</td>\n",
       "      <td>0</td>\n",
       "      <td>0</td>\n",
       "      <td>0</td>\n",
       "      <td>0</td>\n",
       "      <td>0</td>\n",
       "      <td>0</td>\n",
       "      <td>1</td>\n",
       "      <td>0</td>\n",
       "      <td>0</td>\n",
       "    </tr>\n",
       "    <tr>\n",
       "      <th>4</th>\n",
       "      <td>47.59</td>\n",
       "      <td>30.0</td>\n",
       "      <td>20.0</td>\n",
       "      <td>6.0</td>\n",
       "      <td>1</td>\n",
       "      <td>0</td>\n",
       "      <td>1</td>\n",
       "      <td>1</td>\n",
       "      <td>0</td>\n",
       "      <td>0</td>\n",
       "      <td>...</td>\n",
       "      <td>1</td>\n",
       "      <td>0</td>\n",
       "      <td>0</td>\n",
       "      <td>0</td>\n",
       "      <td>1</td>\n",
       "      <td>0</td>\n",
       "      <td>0</td>\n",
       "      <td>0</td>\n",
       "      <td>0</td>\n",
       "      <td>0</td>\n",
       "    </tr>\n",
       "    <tr>\n",
       "      <th>...</th>\n",
       "      <td>...</td>\n",
       "      <td>...</td>\n",
       "      <td>...</td>\n",
       "      <td>...</td>\n",
       "      <td>...</td>\n",
       "      <td>...</td>\n",
       "      <td>...</td>\n",
       "      <td>...</td>\n",
       "      <td>...</td>\n",
       "      <td>...</td>\n",
       "      <td>...</td>\n",
       "      <td>...</td>\n",
       "      <td>...</td>\n",
       "      <td>...</td>\n",
       "      <td>...</td>\n",
       "      <td>...</td>\n",
       "      <td>...</td>\n",
       "      <td>...</td>\n",
       "      <td>...</td>\n",
       "      <td>...</td>\n",
       "      <td>...</td>\n",
       "    </tr>\n",
       "    <tr>\n",
       "      <th>223851</th>\n",
       "      <td>30.81</td>\n",
       "      <td>0.0</td>\n",
       "      <td>0.0</td>\n",
       "      <td>5.0</td>\n",
       "      <td>1</td>\n",
       "      <td>1</td>\n",
       "      <td>1</td>\n",
       "      <td>1</td>\n",
       "      <td>0</td>\n",
       "      <td>0</td>\n",
       "      <td>...</td>\n",
       "      <td>0</td>\n",
       "      <td>0</td>\n",
       "      <td>0</td>\n",
       "      <td>0</td>\n",
       "      <td>0</td>\n",
       "      <td>0</td>\n",
       "      <td>0</td>\n",
       "      <td>0</td>\n",
       "      <td>0</td>\n",
       "      <td>1</td>\n",
       "    </tr>\n",
       "    <tr>\n",
       "      <th>223852</th>\n",
       "      <td>31.45</td>\n",
       "      <td>4.0</td>\n",
       "      <td>0.0</td>\n",
       "      <td>10.0</td>\n",
       "      <td>0</td>\n",
       "      <td>0</td>\n",
       "      <td>1</td>\n",
       "      <td>0</td>\n",
       "      <td>0</td>\n",
       "      <td>0</td>\n",
       "      <td>...</td>\n",
       "      <td>0</td>\n",
       "      <td>1</td>\n",
       "      <td>0</td>\n",
       "      <td>1</td>\n",
       "      <td>1</td>\n",
       "      <td>0</td>\n",
       "      <td>1</td>\n",
       "      <td>0</td>\n",
       "      <td>0</td>\n",
       "      <td>0</td>\n",
       "    </tr>\n",
       "    <tr>\n",
       "      <th>223853</th>\n",
       "      <td>18.89</td>\n",
       "      <td>0.0</td>\n",
       "      <td>0.0</td>\n",
       "      <td>7.0</td>\n",
       "      <td>0</td>\n",
       "      <td>0</td>\n",
       "      <td>0</td>\n",
       "      <td>1</td>\n",
       "      <td>0</td>\n",
       "      <td>0</td>\n",
       "      <td>...</td>\n",
       "      <td>0</td>\n",
       "      <td>0</td>\n",
       "      <td>0</td>\n",
       "      <td>0</td>\n",
       "      <td>0</td>\n",
       "      <td>0</td>\n",
       "      <td>0</td>\n",
       "      <td>0</td>\n",
       "      <td>0</td>\n",
       "      <td>0</td>\n",
       "    </tr>\n",
       "    <tr>\n",
       "      <th>223854</th>\n",
       "      <td>25.02</td>\n",
       "      <td>0.0</td>\n",
       "      <td>0.0</td>\n",
       "      <td>8.0</td>\n",
       "      <td>1</td>\n",
       "      <td>0</td>\n",
       "      <td>0</td>\n",
       "      <td>1</td>\n",
       "      <td>0</td>\n",
       "      <td>0</td>\n",
       "      <td>...</td>\n",
       "      <td>0</td>\n",
       "      <td>0</td>\n",
       "      <td>0</td>\n",
       "      <td>0</td>\n",
       "      <td>0</td>\n",
       "      <td>0</td>\n",
       "      <td>1</td>\n",
       "      <td>0</td>\n",
       "      <td>0</td>\n",
       "      <td>0</td>\n",
       "    </tr>\n",
       "    <tr>\n",
       "      <th>223855</th>\n",
       "      <td>32.55</td>\n",
       "      <td>0.0</td>\n",
       "      <td>0.0</td>\n",
       "      <td>7.0</td>\n",
       "      <td>1</td>\n",
       "      <td>0</td>\n",
       "      <td>0</td>\n",
       "      <td>1</td>\n",
       "      <td>0</td>\n",
       "      <td>0</td>\n",
       "      <td>...</td>\n",
       "      <td>0</td>\n",
       "      <td>0</td>\n",
       "      <td>0</td>\n",
       "      <td>0</td>\n",
       "      <td>0</td>\n",
       "      <td>0</td>\n",
       "      <td>0</td>\n",
       "      <td>0</td>\n",
       "      <td>0</td>\n",
       "      <td>0</td>\n",
       "    </tr>\n",
       "  </tbody>\n",
       "</table>\n",
       "<p>187803 rows × 32 columns</p>\n",
       "</div>"
      ],
      "text/plain": [
       "          BMI  PhysicalHealth  MentalHealth  SleepTime  Sex_Male  Asthma_Yes  \\\n",
       "0       23.44             0.0           1.0        7.0         0           0   \n",
       "1       23.11             0.0           0.0        7.0         1           0   \n",
       "2       35.51             2.0           1.0        7.0         0           0   \n",
       "3       21.79             0.0           0.0        8.0         0           0   \n",
       "4       47.59            30.0          20.0        6.0         1           0   \n",
       "...       ...             ...           ...        ...       ...         ...   \n",
       "223851  30.81             0.0           0.0        5.0         1           1   \n",
       "223852  31.45             4.0           0.0       10.0         0           0   \n",
       "223853  18.89             0.0           0.0        7.0         0           0   \n",
       "223854  25.02             0.0           0.0        8.0         1           0   \n",
       "223855  32.55             0.0           0.0        7.0         1           0   \n",
       "\n",
       "        Smoking_Yes  PhysicalActivity_Yes  AgeCategory_27.0  AgeCategory_32.0  \\\n",
       "0                 1                     1                 0                 0   \n",
       "1                 0                     0                 0                 0   \n",
       "2                 0                     1                 0                 0   \n",
       "3                 0                     1                 0                 0   \n",
       "4                 1                     1                 0                 0   \n",
       "...             ...                   ...               ...               ...   \n",
       "223851            1                     1                 0                 0   \n",
       "223852            1                     0                 0                 0   \n",
       "223853            0                     1                 0                 0   \n",
       "223854            0                     1                 0                 0   \n",
       "223855            0                     1                 0                 0   \n",
       "\n",
       "        ...  GenHealth_Poor  GenHealth_Very good  AlcoholDrinking_Yes  \\\n",
       "0       ...               0                    0                    0   \n",
       "1       ...               0                    0                    0   \n",
       "2       ...               0                    0                    0   \n",
       "3       ...               0                    0                    0   \n",
       "4       ...               1                    0                    0   \n",
       "...     ...             ...                  ...                  ...   \n",
       "223851  ...               0                    0                    0   \n",
       "223852  ...               0                    1                    0   \n",
       "223853  ...               0                    0                    0   \n",
       "223854  ...               0                    0                    0   \n",
       "223855  ...               0                    0                    0   \n",
       "\n",
       "        KidneyDisease_Yes  DiffWalking_Yes  Diabetic_No, borderline diabetes  \\\n",
       "0                       0                0                                 0   \n",
       "1                       0                0                                 0   \n",
       "2                       0                0                                 0   \n",
       "3                       0                0                                 0   \n",
       "4                       0                1                                 0   \n",
       "...                   ...              ...                               ...   \n",
       "223851                  0                0                                 0   \n",
       "223852                  1                1                                 0   \n",
       "223853                  0                0                                 0   \n",
       "223854                  0                0                                 0   \n",
       "223855                  0                0                                 0   \n",
       "\n",
       "        Diabetic_Yes  Diabetic_Yes (during pregnancy)  SkinCancer_Yes  \\\n",
       "0                  0                                0               0   \n",
       "1                  0                                0               0   \n",
       "2                  0                                0               0   \n",
       "3                  0                                1               0   \n",
       "4                  0                                0               0   \n",
       "...              ...                              ...             ...   \n",
       "223851             0                                0               0   \n",
       "223852             1                                0               0   \n",
       "223853             0                                0               0   \n",
       "223854             1                                0               0   \n",
       "223855             0                                0               0   \n",
       "\n",
       "        Stroke_Yes  \n",
       "0                0  \n",
       "1                0  \n",
       "2                0  \n",
       "3                0  \n",
       "4                0  \n",
       "...            ...  \n",
       "223851           1  \n",
       "223852           0  \n",
       "223853           0  \n",
       "223854           0  \n",
       "223855           0  \n",
       "\n",
       "[187803 rows x 32 columns]"
      ]
     },
     "execution_count": 14,
     "metadata": {},
     "output_type": "execute_result"
    }
   ],
   "source": [
    "train_processed"
   ]
  },
  {
   "cell_type": "markdown",
   "id": "e5652dd4",
   "metadata": {},
   "source": [
    "# Equalized odds with roc curves"
   ]
  },
  {
   "cell_type": "markdown",
   "id": "03af919f",
   "metadata": {},
   "source": [
    "### Model Training"
   ]
  },
  {
   "cell_type": "code",
   "execution_count": 4,
   "id": "76180504",
   "metadata": {},
   "outputs": [
    {
     "data": {
      "text/html": [
       "<style>#sk-container-id-1 {color: black;background-color: white;}#sk-container-id-1 pre{padding: 0;}#sk-container-id-1 div.sk-toggleable {background-color: white;}#sk-container-id-1 label.sk-toggleable__label {cursor: pointer;display: block;width: 100%;margin-bottom: 0;padding: 0.3em;box-sizing: border-box;text-align: center;}#sk-container-id-1 label.sk-toggleable__label-arrow:before {content: \"▸\";float: left;margin-right: 0.25em;color: #696969;}#sk-container-id-1 label.sk-toggleable__label-arrow:hover:before {color: black;}#sk-container-id-1 div.sk-estimator:hover label.sk-toggleable__label-arrow:before {color: black;}#sk-container-id-1 div.sk-toggleable__content {max-height: 0;max-width: 0;overflow: hidden;text-align: left;background-color: #f0f8ff;}#sk-container-id-1 div.sk-toggleable__content pre {margin: 0.2em;color: black;border-radius: 0.25em;background-color: #f0f8ff;}#sk-container-id-1 input.sk-toggleable__control:checked~div.sk-toggleable__content {max-height: 200px;max-width: 100%;overflow: auto;}#sk-container-id-1 input.sk-toggleable__control:checked~label.sk-toggleable__label-arrow:before {content: \"▾\";}#sk-container-id-1 div.sk-estimator input.sk-toggleable__control:checked~label.sk-toggleable__label {background-color: #d4ebff;}#sk-container-id-1 div.sk-label input.sk-toggleable__control:checked~label.sk-toggleable__label {background-color: #d4ebff;}#sk-container-id-1 input.sk-hidden--visually {border: 0;clip: rect(1px 1px 1px 1px);clip: rect(1px, 1px, 1px, 1px);height: 1px;margin: -1px;overflow: hidden;padding: 0;position: absolute;width: 1px;}#sk-container-id-1 div.sk-estimator {font-family: monospace;background-color: #f0f8ff;border: 1px dotted black;border-radius: 0.25em;box-sizing: border-box;margin-bottom: 0.5em;}#sk-container-id-1 div.sk-estimator:hover {background-color: #d4ebff;}#sk-container-id-1 div.sk-parallel-item::after {content: \"\";width: 100%;border-bottom: 1px solid gray;flex-grow: 1;}#sk-container-id-1 div.sk-label:hover label.sk-toggleable__label {background-color: #d4ebff;}#sk-container-id-1 div.sk-serial::before {content: \"\";position: absolute;border-left: 1px solid gray;box-sizing: border-box;top: 0;bottom: 0;left: 50%;z-index: 0;}#sk-container-id-1 div.sk-serial {display: flex;flex-direction: column;align-items: center;background-color: white;padding-right: 0.2em;padding-left: 0.2em;position: relative;}#sk-container-id-1 div.sk-item {position: relative;z-index: 1;}#sk-container-id-1 div.sk-parallel {display: flex;align-items: stretch;justify-content: center;background-color: white;position: relative;}#sk-container-id-1 div.sk-item::before, #sk-container-id-1 div.sk-parallel-item::before {content: \"\";position: absolute;border-left: 1px solid gray;box-sizing: border-box;top: 0;bottom: 0;left: 50%;z-index: -1;}#sk-container-id-1 div.sk-parallel-item {display: flex;flex-direction: column;z-index: 1;position: relative;background-color: white;}#sk-container-id-1 div.sk-parallel-item:first-child::after {align-self: flex-end;width: 50%;}#sk-container-id-1 div.sk-parallel-item:last-child::after {align-self: flex-start;width: 50%;}#sk-container-id-1 div.sk-parallel-item:only-child::after {width: 0;}#sk-container-id-1 div.sk-dashed-wrapped {border: 1px dashed gray;margin: 0 0.4em 0.5em 0.4em;box-sizing: border-box;padding-bottom: 0.4em;background-color: white;}#sk-container-id-1 div.sk-label label {font-family: monospace;font-weight: bold;display: inline-block;line-height: 1.2em;}#sk-container-id-1 div.sk-label-container {text-align: center;}#sk-container-id-1 div.sk-container {/* jupyter's `normalize.less` sets `[hidden] { display: none; }` but bootstrap.min.css set `[hidden] { display: none !important; }` so we also need the `!important` here to be able to override the default hidden behavior on the sphinx rendered scikit-learn.org. See: https://github.com/scikit-learn/scikit-learn/issues/21755 */display: inline-block !important;position: relative;}#sk-container-id-1 div.sk-text-repr-fallback {display: none;}</style><div id=\"sk-container-id-1\" class=\"sk-top-container\"><div class=\"sk-text-repr-fallback\"><pre>Pipeline(steps=[(&#x27;scaler&#x27;,\n",
       "                 ColumnTransformer(remainder=&#x27;passthrough&#x27;,\n",
       "                                   transformers=[(&#x27;scaler&#x27;, StandardScaler(),\n",
       "                                                  [&#x27;BMI&#x27;, &#x27;PhysicalHealth&#x27;,\n",
       "                                                   &#x27;MentalHealth&#x27;,\n",
       "                                                   &#x27;SleepTime&#x27;])])),\n",
       "                (&#x27;clf&#x27;, DecisionTreeClassifier())])</pre><b>In a Jupyter environment, please rerun this cell to show the HTML representation or trust the notebook. <br />On GitHub, the HTML representation is unable to render, please try loading this page with nbviewer.org.</b></div><div class=\"sk-container\" hidden><div class=\"sk-item sk-dashed-wrapped\"><div class=\"sk-label-container\"><div class=\"sk-label sk-toggleable\"><input class=\"sk-toggleable__control sk-hidden--visually\" id=\"sk-estimator-id-1\" type=\"checkbox\" ><label for=\"sk-estimator-id-1\" class=\"sk-toggleable__label sk-toggleable__label-arrow\">Pipeline</label><div class=\"sk-toggleable__content\"><pre>Pipeline(steps=[(&#x27;scaler&#x27;,\n",
       "                 ColumnTransformer(remainder=&#x27;passthrough&#x27;,\n",
       "                                   transformers=[(&#x27;scaler&#x27;, StandardScaler(),\n",
       "                                                  [&#x27;BMI&#x27;, &#x27;PhysicalHealth&#x27;,\n",
       "                                                   &#x27;MentalHealth&#x27;,\n",
       "                                                   &#x27;SleepTime&#x27;])])),\n",
       "                (&#x27;clf&#x27;, DecisionTreeClassifier())])</pre></div></div></div><div class=\"sk-serial\"><div class=\"sk-item sk-dashed-wrapped\"><div class=\"sk-label-container\"><div class=\"sk-label sk-toggleable\"><input class=\"sk-toggleable__control sk-hidden--visually\" id=\"sk-estimator-id-2\" type=\"checkbox\" ><label for=\"sk-estimator-id-2\" class=\"sk-toggleable__label sk-toggleable__label-arrow\">scaler: ColumnTransformer</label><div class=\"sk-toggleable__content\"><pre>ColumnTransformer(remainder=&#x27;passthrough&#x27;,\n",
       "                  transformers=[(&#x27;scaler&#x27;, StandardScaler(),\n",
       "                                 [&#x27;BMI&#x27;, &#x27;PhysicalHealth&#x27;, &#x27;MentalHealth&#x27;,\n",
       "                                  &#x27;SleepTime&#x27;])])</pre></div></div></div><div class=\"sk-parallel\"><div class=\"sk-parallel-item\"><div class=\"sk-item\"><div class=\"sk-label-container\"><div class=\"sk-label sk-toggleable\"><input class=\"sk-toggleable__control sk-hidden--visually\" id=\"sk-estimator-id-3\" type=\"checkbox\" ><label for=\"sk-estimator-id-3\" class=\"sk-toggleable__label sk-toggleable__label-arrow\">scaler</label><div class=\"sk-toggleable__content\"><pre>[&#x27;BMI&#x27;, &#x27;PhysicalHealth&#x27;, &#x27;MentalHealth&#x27;, &#x27;SleepTime&#x27;]</pre></div></div></div><div class=\"sk-serial\"><div class=\"sk-item\"><div class=\"sk-estimator sk-toggleable\"><input class=\"sk-toggleable__control sk-hidden--visually\" id=\"sk-estimator-id-4\" type=\"checkbox\" ><label for=\"sk-estimator-id-4\" class=\"sk-toggleable__label sk-toggleable__label-arrow\">StandardScaler</label><div class=\"sk-toggleable__content\"><pre>StandardScaler()</pre></div></div></div></div></div></div><div class=\"sk-parallel-item\"><div class=\"sk-item\"><div class=\"sk-label-container\"><div class=\"sk-label sk-toggleable\"><input class=\"sk-toggleable__control sk-hidden--visually\" id=\"sk-estimator-id-5\" type=\"checkbox\" ><label for=\"sk-estimator-id-5\" class=\"sk-toggleable__label sk-toggleable__label-arrow\">remainder</label><div class=\"sk-toggleable__content\"><pre>[&#x27;Sex_Male&#x27;, &#x27;Asthma_Yes&#x27;, &#x27;Smoking_Yes&#x27;, &#x27;PhysicalActivity_Yes&#x27;, &#x27;AgeCategory_27.0&#x27;, &#x27;AgeCategory_32.0&#x27;, &#x27;AgeCategory_37.0&#x27;, &#x27;AgeCategory_42.0&#x27;, &#x27;AgeCategory_47.0&#x27;, &#x27;AgeCategory_52.0&#x27;, &#x27;AgeCategory_57.0&#x27;, &#x27;AgeCategory_62.0&#x27;, &#x27;AgeCategory_67.0&#x27;, &#x27;AgeCategory_72.0&#x27;, &#x27;AgeCategory_77.0&#x27;, &#x27;AgeCategory_80.0&#x27;, &#x27;GenHealth_Fair&#x27;, &#x27;GenHealth_Good&#x27;, &#x27;GenHealth_Poor&#x27;, &#x27;GenHealth_Very good&#x27;, &#x27;AlcoholDrinking_Yes&#x27;, &#x27;KidneyDisease_Yes&#x27;, &#x27;DiffWalking_Yes&#x27;, &#x27;Diabetic_No, borderline diabetes&#x27;, &#x27;Diabetic_Yes&#x27;, &#x27;Diabetic_Yes (during pregnancy)&#x27;, &#x27;SkinCancer_Yes&#x27;, &#x27;Stroke_Yes&#x27;]</pre></div></div></div><div class=\"sk-serial\"><div class=\"sk-item\"><div class=\"sk-estimator sk-toggleable\"><input class=\"sk-toggleable__control sk-hidden--visually\" id=\"sk-estimator-id-6\" type=\"checkbox\" ><label for=\"sk-estimator-id-6\" class=\"sk-toggleable__label sk-toggleable__label-arrow\">passthrough</label><div class=\"sk-toggleable__content\"><pre>passthrough</pre></div></div></div></div></div></div></div></div><div class=\"sk-item\"><div class=\"sk-estimator sk-toggleable\"><input class=\"sk-toggleable__control sk-hidden--visually\" id=\"sk-estimator-id-7\" type=\"checkbox\" ><label for=\"sk-estimator-id-7\" class=\"sk-toggleable__label sk-toggleable__label-arrow\">DecisionTreeClassifier</label><div class=\"sk-toggleable__content\"><pre>DecisionTreeClassifier()</pre></div></div></div></div></div></div></div>"
      ],
      "text/plain": [
       "Pipeline(steps=[('scaler',\n",
       "                 ColumnTransformer(remainder='passthrough',\n",
       "                                   transformers=[('scaler', StandardScaler(),\n",
       "                                                  ['BMI', 'PhysicalHealth',\n",
       "                                                   'MentalHealth',\n",
       "                                                   'SleepTime'])])),\n",
       "                ('clf', DecisionTreeClassifier())])"
      ]
     },
     "execution_count": 4,
     "metadata": {},
     "output_type": "execute_result"
    }
   ],
   "source": [
    "scaler = ColumnTransformer(\n",
    "    [('scaler', StandardScaler(), continuous_features)], remainder='passthrough')\n",
    "\n",
    "whitebox_model = Pipeline(steps=[('scaler', scaler), ('clf', DecisionTreeClassifier())])\n",
    "\n",
    "whitebox_model.fit(train_processed, train_target)"
   ]
  },
  {
   "cell_type": "markdown",
   "id": "cf96bfb1",
   "metadata": {},
   "source": [
    "## Validation & Equalized Odds"
   ]
  },
  {
   "cell_type": "code",
   "execution_count": 5,
   "id": "8634ce30",
   "metadata": {},
   "outputs": [],
   "source": [
    "def equalized_odds(preds, groups, test):\n",
    "    df = pd.DataFrame(list(zip(preds, groups, test)), columns=['preds', 'groups', 'test'])\n",
    "    targets = df['test'].unique()\n",
    "    groups = df['groups'].unique()\n",
    "    labels = []\n",
    "    y = []\n",
    "    \n",
    "    for target in targets:\n",
    "        temp_labels = []\n",
    "        temp_y = []\n",
    "        for group in groups:\n",
    "            selection = df.loc[(df['test'] == target) & (df['groups'] == group)]\n",
    "            corrects = selection.loc[selection['preds'] == target]\n",
    "            score = round(len(corrects) / len(selection), 3)\n",
    "            temp_labels.append(f'T: {target}, G: {group}')\n",
    "            temp_y.append(score)\n",
    "        labels.append(temp_labels)\n",
    "        y.append(temp_y)\n",
    "    \n",
    "\n",
    "    \n",
    "    # PLOTTING\n",
    "    fig, ax = plt.subplots(figsize=(8,6), sharey=True)\n",
    "    \n",
    "    x = np.arange(len(groups))  # the label locations\n",
    "    x = np.array([i*2 for i in x])\n",
    "    width = 0.8\n",
    "    \n",
    "    rects1 = ax.bar(x - width/2, y[0], width, label='No') #0\n",
    "    rects2 = ax.bar(x + width/2, y[1], width, label='Yes') #1\n",
    "    \n",
    "    # Add some text for labels, title and custom x-axis tick labels, etc.\n",
    "    ax.set_ylabel('Score')\n",
    "    ax.set_title('Scores by group and target')\n",
    "    ax.set_xticks(x, groups, rotation=10)\n",
    "    ax.legend(bbox_to_anchor=(1.01, 1), loc=2, borderaxespad=0.)\n",
    "    \n",
    "    ax.bar_label(rects1, padding=3)\n",
    "    ax.bar_label(rects2, padding=3)\n",
    "\n",
    "    plt.tight_layout()\n",
    "    plt.show()"
   ]
  },
  {
   "cell_type": "code",
   "execution_count": 6,
   "id": "395b60ae",
   "metadata": {},
   "outputs": [],
   "source": [
    "def plot_roc_curve(y_race:np.ndarray, y_target:np.ndarray, y_pred_proba:np.ndarray):\n",
    "    fix, ax = plt.subplots(figsize=(6,6))\n",
    "    parameters = {\"fpr\": [], \"tpr\": [], \"threshold\": []}\n",
    "\n",
    "    for race in np.unique(y_race):\n",
    "        y_score = y_pred_proba[y_race==race]\n",
    "        fpr, tpr, threshold = roc_curve(y_target[y_race==race], y_score[:, 1], drop_intermediate=False)\n",
    "        roc_auc = auc(fpr, tpr)\n",
    "\n",
    "        ax.plot(\n",
    "            fpr,\n",
    "            tpr,\n",
    "            lw=1,\n",
    "            label=f\"ROC curve {race} (area = %0.2f)\" % roc_auc)\n",
    "        parameters[\"fpr\"].append(fpr)\n",
    "        parameters[\"tpr\"].append(tpr)\n",
    "        parameters[\"threshold\"].append(threshold)\n",
    "\n",
    "    plt.vlines(0.087, 0, 1) #example of desired fpr\n",
    "    plt.legend()"
   ]
  },
  {
   "cell_type": "code",
   "execution_count": 7,
   "id": "17943183",
   "metadata": {},
   "outputs": [],
   "source": [
    "def check_equalized_odds(y_pred:np.ndarray, y_pred_proba:np.ndarray, y_target:np.ndarray, y_race:np.ndarray):\n",
    "    print(classification_report(y_target, y_pred))\n",
    "    print(utils.classification_report(y_target, y_pred, y_race))\n",
    "    print(confusion_matrix(y_target, y_pred, normalize='true', labels=[1,0]))\n",
    "    \n",
    "    equalized_odds(y_pred, y_race, y_target)\n",
    "    plot_roc_curve"
   ]
  },
  {
   "cell_type": "code",
   "execution_count": 9,
   "id": "3d150975",
   "metadata": {},
   "outputs": [
    {
     "name": "stdout",
     "output_type": "stream",
     "text": [
      "              precision    recall  f1-score   support\n",
      "\n",
      "           0       0.93      0.92      0.92     36506\n",
      "           1       0.23      0.25      0.24      3609\n",
      "\n",
      "    accuracy                           0.86     40115\n",
      "   macro avg       0.58      0.58      0.58     40115\n",
      "weighted avg       0.86      0.86      0.86     40115\n",
      "\n"
     ]
    },
    {
     "ename": "IndexError",
     "evalue": "boolean index did not match indexed array along dimension 0; dimension is 40115 but corresponding boolean dimension is 2",
     "output_type": "error",
     "traceback": [
      "\u001b[0;31m---------------------------------------------------------------------------\u001b[0m",
      "\u001b[0;31mIndexError\u001b[0m                                Traceback (most recent call last)",
      "Input \u001b[0;32mIn [9]\u001b[0m, in \u001b[0;36m<cell line: 5>\u001b[0;34m()\u001b[0m\n\u001b[1;32m      2\u001b[0m y_pred_proba_whitebox \u001b[38;5;241m=\u001b[39m whitebox_model\u001b[38;5;241m.\u001b[39mpredict_proba(val_processed)\n\u001b[1;32m      4\u001b[0m \u001b[38;5;28mprint\u001b[39m(classification_report(val_target, y_pred_whitebox))\n\u001b[0;32m----> 5\u001b[0m \u001b[38;5;28mprint\u001b[39m(\u001b[43mutils\u001b[49m\u001b[38;5;241;43m.\u001b[39;49m\u001b[43mclassification_report\u001b[49m\u001b[43m(\u001b[49m\u001b[43mval_target\u001b[49m\u001b[43m,\u001b[49m\u001b[43m \u001b[49m\u001b[43my_pred_whitebox\u001b[49m\u001b[43m,\u001b[49m\u001b[43m \u001b[49m\u001b[43mval_race\u001b[49m\u001b[43m)\u001b[49m)\n\u001b[1;32m      6\u001b[0m \u001b[38;5;28mprint\u001b[39m(confusion_matrix(val_target, y_pred_whitebox, normalize\u001b[38;5;241m=\u001b[39m\u001b[38;5;124m'\u001b[39m\u001b[38;5;124mtrue\u001b[39m\u001b[38;5;124m'\u001b[39m, labels\u001b[38;5;241m=\u001b[39m[\u001b[38;5;241m1\u001b[39m, \u001b[38;5;241m0\u001b[39m]))\n",
      "File \u001b[0;32m/mnt/c/Users/johan/itu/fair/exam/algorithmic_fairness/utils.py:101\u001b[0m, in \u001b[0;36mclassification_report\u001b[0;34m(y_true, y_pred, A)\u001b[0m\n\u001b[1;32m     99\u001b[0m lines \u001b[38;5;241m=\u001b[39m [header, \u001b[38;5;124m\"\u001b[39m\u001b[38;5;124m-\u001b[39m\u001b[38;5;124m\"\u001b[39m \u001b[38;5;241m*\u001b[39m \u001b[38;5;28mlen\u001b[39m(header)]\n\u001b[1;32m    100\u001b[0m \u001b[38;5;28;01mfor\u001b[39;00m group \u001b[38;5;129;01min\u001b[39;00m groups:\n\u001b[0;32m--> 101\u001b[0m     y_true_g \u001b[38;5;241m=\u001b[39m \u001b[43my_true\u001b[49m\u001b[43m[\u001b[49m\u001b[43mgroups\u001b[49m\u001b[43m \u001b[49m\u001b[38;5;241;43m==\u001b[39;49m\u001b[43m \u001b[49m\u001b[43mgroup\u001b[49m\u001b[43m]\u001b[49m\n\u001b[1;32m    102\u001b[0m     y_pred_g \u001b[38;5;241m=\u001b[39m y_pred[groups \u001b[38;5;241m==\u001b[39m group]\n\u001b[1;32m    103\u001b[0m     tp, fp, tn, fn \u001b[38;5;241m=\u001b[39m perf_measure(y_true_g, y_pred_g)\n",
      "\u001b[0;31mIndexError\u001b[0m: boolean index did not match indexed array along dimension 0; dimension is 40115 but corresponding boolean dimension is 2"
     ]
    }
   ],
   "source": [
    "y_pred_whitebox = whitebox_model.predict(val_processed)\n",
    "y_pred_proba_whitebox = whitebox_model.predict_proba(val_processed)\n",
    "\n",
    "print(classification_report(val_target, y_pred_whitebox))\n",
    "print(utils.classification_report(val_target, y_pred_whitebox, val_race))\n",
    "print(confusion_matrix(val_target, y_pred_whitebox, normalize='true', labels=[1, 0]))"
   ]
  },
  {
   "cell_type": "code",
   "execution_count": 37,
   "id": "0f219fc4",
   "metadata": {},
   "outputs": [
    {
     "data": {
      "image/png": "[encoded data removed]",
      "text/plain": [
       "<Figure size 576x432 with 1 Axes>"
      ]
     },
     "metadata": {
      "needs_background": "light"
     },
     "output_type": "display_data"
    }
   ],
   "source": [
    "equalized_odds(y_pred_whitebox, val_race, val_target)"
   ]
  },
  {
   "cell_type": "markdown",
   "id": "c258525d",
   "metadata": {},
   "source": [
    "### Roc curve\n"
   ]
  },
  {
   "cell_type": "code",
   "execution_count": 82,
   "id": "dd37c972",
   "metadata": {},
   "outputs": [
    {
     "data": {
      "text/plain": [
       "1.000000    3027\n",
       "0.000000     358\n",
       "0.500000       8\n",
       "0.666667       4\n",
       "0.857143       1\n",
       "0.833333       1\n",
       "0.875000       1\n",
       "0.750000       1\n",
       "dtype: int64"
      ]
     },
     "execution_count": 82,
     "metadata": {},
     "output_type": "execute_result"
    }
   ],
   "source": [
    "pd.value_counts(y_pred_proba_whitebox[val_race==\"Black\"][:, 0])"
   ]
  },
  {
   "cell_type": "code",
   "execution_count": 66,
   "id": "40fd6e5f",
   "metadata": {},
   "outputs": [
    {
     "data": {
      "text/plain": [
       "<matplotlib.legend.Legend at 0x7f3d6991da00>"
      ]
     },
     "execution_count": 66,
     "metadata": {},
     "output_type": "execute_result"
    },
    {
     "data": {
      "image/png": "[encoded data removed]",
      "text/plain": [
       "<Figure size 432x432 with 1 Axes>"
      ]
     },
     "metadata": {
      "needs_background": "light"
     },
     "output_type": "display_data"
    }
   ],
   "source": [
    "fix, ax = plt.subplots(figsize=(6,6))\n",
    "parameters = {\"fpr\": [], \"tpr\": [], \"threshold\": []}\n",
    "\n",
    "for race in np.unique(val_race):\n",
    "    y_score = y_pred_proba_whitebox[val_race==race]\n",
    "    fpr, tpr, threshold = roc_curve(val_target[val_race==race], y_score[:, 1], drop_intermediate=False)\n",
    "    roc_auc = auc(fpr, tpr)\n",
    "    \n",
    "    ax.plot(\n",
    "        fpr,\n",
    "        tpr,\n",
    "        lw=1,\n",
    "        label=f\"ROC curve {race} (area = %0.2f)\" % roc_auc)\n",
    "    parameters[\"fpr\"].append(fpr)\n",
    "    parameters[\"tpr\"].append(tpr)\n",
    "    parameters[\"threshold\"].append(threshold)\n",
    "    \n",
    "plt.vlines(0.087, 0, 1) #example of desired fpr\n",
    "plt.legend()"
   ]
  },
  {
   "cell_type": "code",
   "execution_count": 67,
   "id": "7723bff2",
   "metadata": {},
   "outputs": [],
   "source": [
    "def find_thresholds(parameters, i, fpr_goal=0.087):\n",
    "    threshold = parameters[\"threshold\"][i]\n",
    "    fpr = parameters[\"fpr\"][i]\n",
    "    \n",
    "    idx = np.argmin(abs(fpr_goal - parameters[\"fpr\"][i]))\n",
    "    threshold = parameters[\"threshold\"][i][idx]\n",
    "    \n",
    "    return threshold, idx"
   ]
  },
  {
   "cell_type": "code",
   "execution_count": 26,
   "id": "688e61ad",
   "metadata": {},
   "outputs": [
    {
     "data": {
      "text/plain": [
       "0.8598326359832636"
      ]
     },
     "execution_count": 26,
     "metadata": {},
     "output_type": "execute_result"
    }
   ],
   "source": [
    "parameters[\"tpr\"][0][idx_w]"
   ]
  },
  {
   "cell_type": "code",
   "execution_count": 74,
   "id": "f5fad6b2",
   "metadata": {},
   "outputs": [
    {
     "data": {
      "text/plain": [
       "1"
      ]
     },
     "execution_count": 74,
     "metadata": {},
     "output_type": "execute_result"
    }
   ],
   "source": [
    "np.argmin(abs(0.087 - parameters[\"fpr\"][0]))"
   ]
  },
  {
   "cell_type": "code",
   "execution_count": null,
   "id": "3740b737",
   "metadata": {},
   "outputs": [],
   "source": []
  },
  {
   "cell_type": "code",
   "execution_count": 83,
   "id": "404dcacb",
   "metadata": {},
   "outputs": [
    {
     "name": "stdout",
     "output_type": "stream",
     "text": [
      "1.0 0.42857142857142855\n"
     ]
    }
   ],
   "source": [
    "races = [\"White\", \"Black\"]\n",
    "\n",
    "white_threshold, idx_w = find_thresholds(parameters, 0)\n",
    "black_threshold, idx_b = find_thresholds(parameters, 1)\n",
    "\n",
    "\n",
    "print(white_threshold, black_threshold)"
   ]
  },
  {
   "cell_type": "code",
   "execution_count": 84,
   "id": "39b0be7b",
   "metadata": {},
   "outputs": [],
   "source": [
    "# Re-calculate fairness metrics (equalized odds) with new thresholds\n",
    "# this could be done with more races\n",
    "\n",
    "y_pred_fair = list()\n",
    "for race, proba in zip(val_original['Race'], y_pred_proba_whitebox[:,1]):\n",
    "    if race == \"White\":\n",
    "        y_pred_fair.append(1 if proba >= white_threshold else 0)\n",
    "    elif race == \"Black\":\n",
    "        y_pred_fair.append(1 if proba >= black_threshold else 0)\n",
    "y_pred_fair = np.array(y_pred_fair)"
   ]
  },
  {
   "cell_type": "code",
   "execution_count": 85,
   "id": "14308d4a",
   "metadata": {},
   "outputs": [
    {
     "data": {
      "image/png": "[encoded data removed]",
      "text/plain": [
       "<Figure size 576x432 with 1 Axes>"
      ]
     },
     "metadata": {
      "needs_background": "light"
     },
     "output_type": "display_data"
    }
   ],
   "source": [
    "equalized_odds(y_pred_fair, val_race, val_target)"
   ]
  },
  {
   "cell_type": "code",
   "execution_count": 86,
   "id": "05ed1092",
   "metadata": {},
   "outputs": [
    {
     "name": "stdout",
     "output_type": "stream",
     "text": [
      "              precision    recall  f1-score   support\n",
      "\n",
      "           0       0.93      0.92      0.92     36506\n",
      "           1       0.23      0.25      0.24      3609\n",
      "\n",
      "    accuracy                           0.86     40115\n",
      "   macro avg       0.58      0.59      0.58     40115\n",
      "weighted avg       0.86      0.86      0.86     40115\n",
      "\n",
      "A                              TPR   FPR  \n",
      "------------------------------------------\n",
      "Black                          0.24  0.10 \n",
      "White                          0.25  0.08 \n",
      "All                            0.25  0.08 \n",
      "[[0.25325575 0.74674425]\n",
      " [0.0832192  0.9167808 ]]\n"
     ]
    }
   ],
   "source": [
    "print(classification_report(val_target, y_pred_fair))\n",
    "print(utils.classification_report(val_target, y_pred_fair, val_race))\n",
    "print(confusion_matrix(val_target, y_pred_fair, normalize='true', labels=[1, 0]))"
   ]
  },
  {
   "cell_type": "markdown",
   "id": "badf40f6",
   "metadata": {},
   "source": [
    "# Test set"
   ]
  },
  {
   "cell_type": "code",
   "execution_count": 87,
   "id": "2b8a4e74",
   "metadata": {},
   "outputs": [],
   "source": [
    "y_pred_whitebox = whitebox_model.predict(test_processed)\n",
    "y_pred_proba_whitebox = whitebox_model.predict_proba(test_processed)"
   ]
  },
  {
   "cell_type": "code",
   "execution_count": 88,
   "id": "d8459feb",
   "metadata": {},
   "outputs": [
    {
     "name": "stdout",
     "output_type": "stream",
     "text": [
      "              precision    recall  f1-score   support\n",
      "\n",
      "           0       0.92      0.92      0.92     36590\n",
      "           1       0.23      0.25      0.24      3643\n",
      "\n",
      "    accuracy                           0.86     40233\n",
      "   macro avg       0.58      0.58      0.58     40233\n",
      "weighted avg       0.86      0.86      0.86     40233\n",
      "\n",
      "A                              TPR   FPR  \n",
      "------------------------------------------\n",
      "Black                          0.26  0.08 \n",
      "White                          0.25  0.08 \n",
      "All                            0.25  0.08 \n",
      "[[0.24732363 0.75267637]\n",
      " [0.08196228 0.91803772]]\n"
     ]
    }
   ],
   "source": [
    "print(classification_report(test_target, y_pred_whitebox))\n",
    "print(utils.classification_report(test_target, y_pred_whitebox, test_race))\n",
    "print(confusion_matrix(test_target, y_pred_whitebox, normalize='true', labels=[1, 0]))"
   ]
  },
  {
   "cell_type": "code",
   "execution_count": 89,
   "id": "4d4c6791",
   "metadata": {},
   "outputs": [],
   "source": [
    "y_pred_fair = list()\n",
    "for race, proba in zip(test_original['Race'], y_pred_proba_whitebox[:,1]):\n",
    "    if race == \"White\":\n",
    "        y_pred_fair.append(1 if proba >= white_threshold else 0)\n",
    "    elif race == \"Black\":\n",
    "        y_pred_fair.append(1 if proba >= black_threshold else 0)\n",
    "y_pred_fair = np.array(y_pred_fair)"
   ]
  },
  {
   "cell_type": "code",
   "execution_count": 90,
   "id": "31f71fb1",
   "metadata": {},
   "outputs": [
    {
     "data": {
      "image/png": "[encoded data removed]",
      "text/plain": [
       "<Figure size 576x432 with 1 Axes>"
      ]
     },
     "metadata": {
      "needs_background": "light"
     },
     "output_type": "display_data"
    }
   ],
   "source": [
    "equalized_odds(y_pred_fair, test_race, test_target)"
   ]
  },
  {
   "cell_type": "code",
   "execution_count": 91,
   "id": "d7decfc8",
   "metadata": {},
   "outputs": [
    {
     "name": "stdout",
     "output_type": "stream",
     "text": [
      "              precision    recall  f1-score   support\n",
      "\n",
      "           0       0.92      0.92      0.92     36590\n",
      "           1       0.23      0.25      0.24      3643\n",
      "\n",
      "    accuracy                           0.86     40233\n",
      "   macro avg       0.58      0.58      0.58     40233\n",
      "weighted avg       0.86      0.86      0.86     40233\n",
      "\n",
      "A                              TPR   FPR  \n",
      "------------------------------------------\n",
      "Black                          0.26  0.08 \n",
      "White                          0.25  0.08 \n",
      "All                            0.25  0.08 \n",
      "[[0.24677464 0.75322536]\n",
      " [0.08204427 0.91795573]]\n"
     ]
    }
   ],
   "source": [
    "print(classification_report(test_target, y_pred_fair))\n",
    "print(utils.classification_report(test_target, y_pred_fair, test_race))\n",
    "print(confusion_matrix(test_target, y_pred_fair, normalize='true', labels=[1, 0]))"
   ]
  },
  {
   "cell_type": "markdown",
   "id": "3ded0e88",
   "metadata": {},
   "source": [
    "# Counterfactual Tests"
   ]
  },
  {
   "cell_type": "code",
   "execution_count": 266,
   "id": "60376541",
   "metadata": {},
   "outputs": [
    {
     "data": {
      "text/html": [
       "<div>\n",
       "<style scoped>\n",
       "    .dataframe tbody tr th:only-of-type {\n",
       "        vertical-align: middle;\n",
       "    }\n",
       "\n",
       "    .dataframe tbody tr th {\n",
       "        vertical-align: top;\n",
       "    }\n",
       "\n",
       "    .dataframe thead th {\n",
       "        text-align: right;\n",
       "    }\n",
       "</style>\n",
       "<table border=\"1\" class=\"dataframe\">\n",
       "  <thead>\n",
       "    <tr style=\"text-align: right;\">\n",
       "      <th></th>\n",
       "      <th>BMI</th>\n",
       "      <th>PhysicalHealth</th>\n",
       "      <th>MentalHealth</th>\n",
       "      <th>SleepTime</th>\n",
       "      <th>AgeCategory</th>\n",
       "      <th>Race_White</th>\n",
       "      <th>Smoking_Yes</th>\n",
       "      <th>DiffWalking_Yes</th>\n",
       "      <th>GenHealth_Fair</th>\n",
       "      <th>GenHealth_Good</th>\n",
       "      <th>...</th>\n",
       "      <th>Asthma_Yes</th>\n",
       "      <th>Sex_Male</th>\n",
       "      <th>PhysicalActivity_Yes</th>\n",
       "      <th>AlcoholDrinking_Yes</th>\n",
       "      <th>KidneyDisease_Yes</th>\n",
       "      <th>SkinCancer_Yes</th>\n",
       "      <th>Stroke_Yes</th>\n",
       "      <th>Diabetic_No, borderline diabetes</th>\n",
       "      <th>Diabetic_Yes</th>\n",
       "      <th>Diabetic_Yes (during pregnancy)</th>\n",
       "    </tr>\n",
       "  </thead>\n",
       "  <tbody>\n",
       "    <tr>\n",
       "      <th>0</th>\n",
       "      <td>45.33</td>\n",
       "      <td>0.0</td>\n",
       "      <td>0.0</td>\n",
       "      <td>8.0</td>\n",
       "      <td>67.0</td>\n",
       "      <td>1.0</td>\n",
       "      <td>1.0</td>\n",
       "      <td>0.0</td>\n",
       "      <td>1.0</td>\n",
       "      <td>0.0</td>\n",
       "      <td>...</td>\n",
       "      <td>0.0</td>\n",
       "      <td>1.0</td>\n",
       "      <td>1.0</td>\n",
       "      <td>0.0</td>\n",
       "      <td>0.0</td>\n",
       "      <td>0.0</td>\n",
       "      <td>0.0</td>\n",
       "      <td>0.0</td>\n",
       "      <td>1.0</td>\n",
       "      <td>0.0</td>\n",
       "    </tr>\n",
       "  </tbody>\n",
       "</table>\n",
       "<p>1 rows × 22 columns</p>\n",
       "</div>"
      ],
      "text/plain": [
       "     BMI  PhysicalHealth  MentalHealth  SleepTime  AgeCategory  Race_White  \\\n",
       "0  45.33             0.0           0.0        8.0         67.0         1.0   \n",
       "\n",
       "   Smoking_Yes  DiffWalking_Yes  GenHealth_Fair  GenHealth_Good  ...  \\\n",
       "0          1.0              0.0             1.0             0.0  ...   \n",
       "\n",
       "   Asthma_Yes  Sex_Male  PhysicalActivity_Yes  AlcoholDrinking_Yes  \\\n",
       "0         0.0       1.0                   1.0                  0.0   \n",
       "\n",
       "   KidneyDisease_Yes  SkinCancer_Yes  Stroke_Yes  \\\n",
       "0                0.0             0.0         0.0   \n",
       "\n",
       "   Diabetic_No, borderline diabetes  Diabetic_Yes  \\\n",
       "0                               0.0           1.0   \n",
       "\n",
       "   Diabetic_Yes (during pregnancy)  \n",
       "0                              0.0  \n",
       "\n",
       "[1 rows x 22 columns]"
      ]
     },
     "execution_count": 266,
     "metadata": {},
     "output_type": "execute_result"
    }
   ],
   "source": [
    "# Example\n",
    "counter_factual_test = pd.DataFrame(test_processed.iloc[0]).T\n",
    "counter_factual_test"
   ]
  },
  {
   "cell_type": "code",
   "execution_count": 267,
   "id": "4ce8ff1c",
   "metadata": {},
   "outputs": [
    {
     "data": {
      "text/plain": [
       "array([0.63161718, 0.36838282])"
      ]
     },
     "execution_count": 267,
     "metadata": {},
     "output_type": "execute_result"
    }
   ],
   "source": [
    "y_pred_proba_whitebox[0] #this is the models probability for 0 and 1 for this row ^"
   ]
  },
  {
   "cell_type": "code",
   "execution_count": 269,
   "id": "2b4c4156",
   "metadata": {},
   "outputs": [
    {
     "data": {
      "text/plain": [
       "array([[ True,  True]])"
      ]
     },
     "execution_count": 269,
     "metadata": {},
     "output_type": "execute_result"
    }
   ],
   "source": [
    "whitebox_model.predict_proba(counter_factual_test) == y_pred_proba_whitebox[0]"
   ]
  },
  {
   "cell_type": "code",
   "execution_count": 270,
   "id": "94f4d151",
   "metadata": {},
   "outputs": [],
   "source": [
    "# changing the DiffWalking_Yes\n",
    "counter_factual_test[\"DiffWalking_Yes\"] = 1.0"
   ]
  },
  {
   "cell_type": "code",
   "execution_count": 272,
   "id": "7b1bb90d",
   "metadata": {},
   "outputs": [
    {
     "data": {
      "text/plain": [
       "array([[0.5792354, 0.4207646]])"
      ]
     },
     "execution_count": 272,
     "metadata": {},
     "output_type": "execute_result"
    }
   ],
   "source": [
    "whitebox_model.predict_proba(counter_factual_test) #probability of heartdisease increases as expected"
   ]
  },
  {
   "cell_type": "markdown",
   "id": "61e2131d",
   "metadata": {},
   "source": [
    "    Now trying to change the race"
   ]
  },
  {
   "cell_type": "code",
   "execution_count": 275,
   "id": "e6900ef0",
   "metadata": {},
   "outputs": [],
   "source": [
    "counter_factual_test[\"DiffWalking_Yes\"] = 0 #changing it back for this experiment\n",
    "counter_factual_test[\"Race_White\"] = 0"
   ]
  },
  {
   "cell_type": "code",
   "execution_count": 277,
   "id": "23c03594",
   "metadata": {},
   "outputs": [
    {
     "data": {
      "text/plain": [
       "array([[0.68773385, 0.31226615]])"
      ]
     },
     "execution_count": 277,
     "metadata": {},
     "output_type": "execute_result"
    }
   ],
   "source": [
    "proba = whitebox_model.predict_proba(counter_factual_test) #we see a less change of heartdisease\n",
    "proba"
   ]
  },
  {
   "cell_type": "code",
   "execution_count": 280,
   "id": "cae06603",
   "metadata": {},
   "outputs": [
    {
     "data": {
      "text/plain": [
       "1"
      ]
     },
     "execution_count": 280,
     "metadata": {},
     "output_type": "execute_result"
    }
   ],
   "source": [
    "1 if proba[:, 1] >= black_threshold else 0 #however, the check to ensure equalized odds does it thing"
   ]
  },
  {
   "cell_type": "code",
   "execution_count": null,
   "id": "2f5f0590",
   "metadata": {},
   "outputs": [],
   "source": []
  },
  {
   "cell_type": "markdown",
   "id": "4a2f8086",
   "metadata": {},
   "source": [
    "    Testing some edge cases near the probability thresholds"
   ]
  },
  {
   "cell_type": "code",
   "execution_count": 406,
   "id": "5e8e9e7e",
   "metadata": {},
   "outputs": [],
   "source": [
    "arr = y_pred_proba_whitebox"
   ]
  },
  {
   "cell_type": "code",
   "execution_count": 407,
   "id": "113d7aa2",
   "metadata": {},
   "outputs": [
    {
     "data": {
      "text/plain": [
       "array([10339, 13154, 24402, 30603])"
      ]
     },
     "execution_count": 407,
     "metadata": {},
     "output_type": "execute_result"
    }
   ],
   "source": [
    "indexes = np.where(abs(arr-white_threshold) < 0.00001)[0] #0 is indexes of the array\n",
    "indexes"
   ]
  },
  {
   "cell_type": "code",
   "execution_count": 408,
   "id": "2fca9000",
   "metadata": {},
   "outputs": [
    {
     "data": {
      "text/html": [
       "<div>\n",
       "<style scoped>\n",
       "    .dataframe tbody tr th:only-of-type {\n",
       "        vertical-align: middle;\n",
       "    }\n",
       "\n",
       "    .dataframe tbody tr th {\n",
       "        vertical-align: top;\n",
       "    }\n",
       "\n",
       "    .dataframe thead th {\n",
       "        text-align: right;\n",
       "    }\n",
       "</style>\n",
       "<table border=\"1\" class=\"dataframe\">\n",
       "  <thead>\n",
       "    <tr style=\"text-align: right;\">\n",
       "      <th></th>\n",
       "      <th>BMI</th>\n",
       "      <th>PhysicalHealth</th>\n",
       "      <th>MentalHealth</th>\n",
       "      <th>SleepTime</th>\n",
       "      <th>AgeCategory</th>\n",
       "      <th>Race_White</th>\n",
       "      <th>Smoking_Yes</th>\n",
       "      <th>DiffWalking_Yes</th>\n",
       "      <th>GenHealth_Fair</th>\n",
       "      <th>GenHealth_Good</th>\n",
       "      <th>GenHealth_Poor</th>\n",
       "      <th>GenHealth_Very good</th>\n",
       "      <th>Asthma_Yes</th>\n",
       "      <th>Sex_Male</th>\n",
       "      <th>PhysicalActivity_Yes</th>\n",
       "      <th>AlcoholDrinking_Yes</th>\n",
       "      <th>KidneyDisease_Yes</th>\n",
       "      <th>SkinCancer_Yes</th>\n",
       "      <th>Stroke_Yes</th>\n",
       "      <th>Diabetic_No, borderline diabetes</th>\n",
       "      <th>Diabetic_Yes</th>\n",
       "      <th>Diabetic_Yes (during pregnancy)</th>\n",
       "    </tr>\n",
       "  </thead>\n",
       "  <tbody>\n",
       "    <tr>\n",
       "      <th>12278</th>\n",
       "      <td>21.79</td>\n",
       "      <td>0.0</td>\n",
       "      <td>0.0</td>\n",
       "      <td>6.0</td>\n",
       "      <td>80.0</td>\n",
       "      <td>1</td>\n",
       "      <td>0</td>\n",
       "      <td>0</td>\n",
       "      <td>0</td>\n",
       "      <td>0</td>\n",
       "      <td>0</td>\n",
       "      <td>1</td>\n",
       "      <td>0</td>\n",
       "      <td>0</td>\n",
       "      <td>1</td>\n",
       "      <td>0</td>\n",
       "      <td>0</td>\n",
       "      <td>0</td>\n",
       "      <td>0</td>\n",
       "      <td>0</td>\n",
       "      <td>0</td>\n",
       "      <td>0</td>\n",
       "    </tr>\n",
       "    <tr>\n",
       "      <th>15607</th>\n",
       "      <td>32.28</td>\n",
       "      <td>0.0</td>\n",
       "      <td>0.0</td>\n",
       "      <td>8.0</td>\n",
       "      <td>72.0</td>\n",
       "      <td>1</td>\n",
       "      <td>0</td>\n",
       "      <td>0</td>\n",
       "      <td>0</td>\n",
       "      <td>0</td>\n",
       "      <td>0</td>\n",
       "      <td>1</td>\n",
       "      <td>1</td>\n",
       "      <td>0</td>\n",
       "      <td>1</td>\n",
       "      <td>0</td>\n",
       "      <td>0</td>\n",
       "      <td>0</td>\n",
       "      <td>0</td>\n",
       "      <td>1</td>\n",
       "      <td>0</td>\n",
       "      <td>0</td>\n",
       "    </tr>\n",
       "    <tr>\n",
       "      <th>29045</th>\n",
       "      <td>28.97</td>\n",
       "      <td>0.0</td>\n",
       "      <td>20.0</td>\n",
       "      <td>7.0</td>\n",
       "      <td>62.0</td>\n",
       "      <td>1</td>\n",
       "      <td>1</td>\n",
       "      <td>0</td>\n",
       "      <td>0</td>\n",
       "      <td>1</td>\n",
       "      <td>0</td>\n",
       "      <td>0</td>\n",
       "      <td>0</td>\n",
       "      <td>0</td>\n",
       "      <td>0</td>\n",
       "      <td>0</td>\n",
       "      <td>0</td>\n",
       "      <td>0</td>\n",
       "      <td>0</td>\n",
       "      <td>0</td>\n",
       "      <td>0</td>\n",
       "      <td>0</td>\n",
       "    </tr>\n",
       "    <tr>\n",
       "      <th>36494</th>\n",
       "      <td>27.12</td>\n",
       "      <td>0.0</td>\n",
       "      <td>0.0</td>\n",
       "      <td>8.0</td>\n",
       "      <td>67.0</td>\n",
       "      <td>1</td>\n",
       "      <td>0</td>\n",
       "      <td>0</td>\n",
       "      <td>0</td>\n",
       "      <td>0</td>\n",
       "      <td>0</td>\n",
       "      <td>1</td>\n",
       "      <td>0</td>\n",
       "      <td>1</td>\n",
       "      <td>1</td>\n",
       "      <td>0</td>\n",
       "      <td>0</td>\n",
       "      <td>0</td>\n",
       "      <td>0</td>\n",
       "      <td>0</td>\n",
       "      <td>0</td>\n",
       "      <td>0</td>\n",
       "    </tr>\n",
       "  </tbody>\n",
       "</table>\n",
       "</div>"
      ],
      "text/plain": [
       "         BMI  PhysicalHealth  MentalHealth  SleepTime  AgeCategory  \\\n",
       "12278  21.79             0.0           0.0        6.0         80.0   \n",
       "15607  32.28             0.0           0.0        8.0         72.0   \n",
       "29045  28.97             0.0          20.0        7.0         62.0   \n",
       "36494  27.12             0.0           0.0        8.0         67.0   \n",
       "\n",
       "       Race_White  Smoking_Yes  DiffWalking_Yes  GenHealth_Fair  \\\n",
       "12278           1            0                0               0   \n",
       "15607           1            0                0               0   \n",
       "29045           1            1                0               0   \n",
       "36494           1            0                0               0   \n",
       "\n",
       "       GenHealth_Good  GenHealth_Poor  GenHealth_Very good  Asthma_Yes  \\\n",
       "12278               0               0                    1           0   \n",
       "15607               0               0                    1           1   \n",
       "29045               1               0                    0           0   \n",
       "36494               0               0                    1           0   \n",
       "\n",
       "       Sex_Male  PhysicalActivity_Yes  AlcoholDrinking_Yes  KidneyDisease_Yes  \\\n",
       "12278         0                     1                    0                  0   \n",
       "15607         0                     1                    0                  0   \n",
       "29045         0                     0                    0                  0   \n",
       "36494         1                     1                    0                  0   \n",
       "\n",
       "       SkinCancer_Yes  Stroke_Yes  Diabetic_No, borderline diabetes  \\\n",
       "12278               0           0                                 0   \n",
       "15607               0           0                                 1   \n",
       "29045               0           0                                 0   \n",
       "36494               0           0                                 0   \n",
       "\n",
       "       Diabetic_Yes  Diabetic_Yes (during pregnancy)  \n",
       "12278             0                                0  \n",
       "15607             0                                0  \n",
       "29045             0                                0  \n",
       "36494             0                                0  "
      ]
     },
     "execution_count": 408,
     "metadata": {},
     "output_type": "execute_result"
    }
   ],
   "source": [
    "df2 = test_processed.iloc[indexes].copy()\n",
    "df2"
   ]
  },
  {
   "cell_type": "code",
   "execution_count": 409,
   "id": "3f3a4e6d",
   "metadata": {},
   "outputs": [
    {
     "data": {
      "text/plain": [
       "array([0, 0, 0, 0])"
      ]
     },
     "execution_count": 409,
     "metadata": {},
     "output_type": "execute_result"
    }
   ],
   "source": [
    "test_target[indexes] #none of these have heartdisease!"
   ]
  },
  {
   "cell_type": "code",
   "execution_count": 410,
   "id": "fd9fbf4c",
   "metadata": {},
   "outputs": [
    {
     "data": {
      "text/plain": [
       "array([[0.93375618, 0.06624382],\n",
       "       [0.93375549, 0.06624451],\n",
       "       [0.93374343, 0.06625657],\n",
       "       [0.93375313, 0.06624687]])"
      ]
     },
     "execution_count": 410,
     "metadata": {},
     "output_type": "execute_result"
    }
   ],
   "source": [
    "proba = whitebox_model.predict_proba(df2) #model predicts just that\n",
    "proba"
   ]
  },
  {
   "cell_type": "code",
   "execution_count": 411,
   "id": "7719c0f9",
   "metadata": {},
   "outputs": [
    {
     "data": {
      "text/plain": [
       "(0.06624852769216266, 0.05431522517974116)"
      ]
     },
     "execution_count": 411,
     "metadata": {},
     "output_type": "execute_result"
    }
   ],
   "source": [
    "white_threshold, black_threshold"
   ]
  },
  {
   "cell_type": "code",
   "execution_count": 412,
   "id": "94eda6c6",
   "metadata": {},
   "outputs": [
    {
     "name": "stdout",
     "output_type": "stream",
     "text": [
      "0\n",
      "0\n",
      "1\n",
      "0\n"
     ]
    }
   ],
   "source": [
    "for prob in proba[:,1]:\n",
    "    print(1 if prob >= white_threshold else 0) #the threshold predicts one of them to have heartdisease!"
   ]
  },
  {
   "cell_type": "code",
   "execution_count": 387,
   "id": "5770c042",
   "metadata": {},
   "outputs": [],
   "source": [
    "df2.at[36494, \"GenHealth_Very good\"] = 0 #changing last person's healthcondition"
   ]
  },
  {
   "cell_type": "code",
   "execution_count": 388,
   "id": "443d8c85",
   "metadata": {},
   "outputs": [],
   "source": [
    "df2.at[36494, \"GenHealth_Good\"] = 1"
   ]
  },
  {
   "cell_type": "code",
   "execution_count": 389,
   "id": "945a6d5e",
   "metadata": {},
   "outputs": [
    {
     "data": {
      "text/html": [
       "<div>\n",
       "<style scoped>\n",
       "    .dataframe tbody tr th:only-of-type {\n",
       "        vertical-align: middle;\n",
       "    }\n",
       "\n",
       "    .dataframe tbody tr th {\n",
       "        vertical-align: top;\n",
       "    }\n",
       "\n",
       "    .dataframe thead th {\n",
       "        text-align: right;\n",
       "    }\n",
       "</style>\n",
       "<table border=\"1\" class=\"dataframe\">\n",
       "  <thead>\n",
       "    <tr style=\"text-align: right;\">\n",
       "      <th></th>\n",
       "      <th>BMI</th>\n",
       "      <th>PhysicalHealth</th>\n",
       "      <th>MentalHealth</th>\n",
       "      <th>SleepTime</th>\n",
       "      <th>AgeCategory</th>\n",
       "      <th>Race_White</th>\n",
       "      <th>Smoking_Yes</th>\n",
       "      <th>DiffWalking_Yes</th>\n",
       "      <th>GenHealth_Fair</th>\n",
       "      <th>GenHealth_Good</th>\n",
       "      <th>GenHealth_Poor</th>\n",
       "      <th>GenHealth_Very good</th>\n",
       "      <th>Asthma_Yes</th>\n",
       "      <th>Sex_Male</th>\n",
       "      <th>PhysicalActivity_Yes</th>\n",
       "      <th>AlcoholDrinking_Yes</th>\n",
       "      <th>KidneyDisease_Yes</th>\n",
       "      <th>SkinCancer_Yes</th>\n",
       "      <th>Stroke_Yes</th>\n",
       "      <th>Diabetic_No, borderline diabetes</th>\n",
       "      <th>Diabetic_Yes</th>\n",
       "      <th>Diabetic_Yes (during pregnancy)</th>\n",
       "      <th>GenHealth_VeryGood</th>\n",
       "    </tr>\n",
       "  </thead>\n",
       "  <tbody>\n",
       "    <tr>\n",
       "      <th>12278</th>\n",
       "      <td>21.79</td>\n",
       "      <td>0.0</td>\n",
       "      <td>0.0</td>\n",
       "      <td>6.0</td>\n",
       "      <td>80.0</td>\n",
       "      <td>1</td>\n",
       "      <td>0</td>\n",
       "      <td>0</td>\n",
       "      <td>0</td>\n",
       "      <td>0</td>\n",
       "      <td>0</td>\n",
       "      <td>1</td>\n",
       "      <td>0</td>\n",
       "      <td>0</td>\n",
       "      <td>1</td>\n",
       "      <td>0</td>\n",
       "      <td>0</td>\n",
       "      <td>0</td>\n",
       "      <td>0</td>\n",
       "      <td>0</td>\n",
       "      <td>0</td>\n",
       "      <td>0</td>\n",
       "      <td>NaN</td>\n",
       "    </tr>\n",
       "    <tr>\n",
       "      <th>15607</th>\n",
       "      <td>32.28</td>\n",
       "      <td>0.0</td>\n",
       "      <td>0.0</td>\n",
       "      <td>8.0</td>\n",
       "      <td>72.0</td>\n",
       "      <td>1</td>\n",
       "      <td>0</td>\n",
       "      <td>0</td>\n",
       "      <td>0</td>\n",
       "      <td>0</td>\n",
       "      <td>0</td>\n",
       "      <td>1</td>\n",
       "      <td>1</td>\n",
       "      <td>0</td>\n",
       "      <td>1</td>\n",
       "      <td>0</td>\n",
       "      <td>0</td>\n",
       "      <td>0</td>\n",
       "      <td>0</td>\n",
       "      <td>1</td>\n",
       "      <td>0</td>\n",
       "      <td>0</td>\n",
       "      <td>NaN</td>\n",
       "    </tr>\n",
       "    <tr>\n",
       "      <th>29045</th>\n",
       "      <td>28.97</td>\n",
       "      <td>0.0</td>\n",
       "      <td>20.0</td>\n",
       "      <td>7.0</td>\n",
       "      <td>62.0</td>\n",
       "      <td>1</td>\n",
       "      <td>1</td>\n",
       "      <td>0</td>\n",
       "      <td>0</td>\n",
       "      <td>1</td>\n",
       "      <td>0</td>\n",
       "      <td>0</td>\n",
       "      <td>0</td>\n",
       "      <td>0</td>\n",
       "      <td>0</td>\n",
       "      <td>0</td>\n",
       "      <td>0</td>\n",
       "      <td>0</td>\n",
       "      <td>0</td>\n",
       "      <td>0</td>\n",
       "      <td>0</td>\n",
       "      <td>0</td>\n",
       "      <td>NaN</td>\n",
       "    </tr>\n",
       "    <tr>\n",
       "      <th>36494</th>\n",
       "      <td>27.12</td>\n",
       "      <td>0.0</td>\n",
       "      <td>0.0</td>\n",
       "      <td>8.0</td>\n",
       "      <td>67.0</td>\n",
       "      <td>1</td>\n",
       "      <td>0</td>\n",
       "      <td>0</td>\n",
       "      <td>0</td>\n",
       "      <td>1</td>\n",
       "      <td>0</td>\n",
       "      <td>0</td>\n",
       "      <td>0</td>\n",
       "      <td>1</td>\n",
       "      <td>1</td>\n",
       "      <td>0</td>\n",
       "      <td>0</td>\n",
       "      <td>0</td>\n",
       "      <td>0</td>\n",
       "      <td>0</td>\n",
       "      <td>0</td>\n",
       "      <td>0</td>\n",
       "      <td>0.0</td>\n",
       "    </tr>\n",
       "  </tbody>\n",
       "</table>\n",
       "</div>"
      ],
      "text/plain": [
       "         BMI  PhysicalHealth  MentalHealth  SleepTime  AgeCategory  \\\n",
       "12278  21.79             0.0           0.0        6.0         80.0   \n",
       "15607  32.28             0.0           0.0        8.0         72.0   \n",
       "29045  28.97             0.0          20.0        7.0         62.0   \n",
       "36494  27.12             0.0           0.0        8.0         67.0   \n",
       "\n",
       "       Race_White  Smoking_Yes  DiffWalking_Yes  GenHealth_Fair  \\\n",
       "12278           1            0                0               0   \n",
       "15607           1            0                0               0   \n",
       "29045           1            1                0               0   \n",
       "36494           1            0                0               0   \n",
       "\n",
       "       GenHealth_Good  GenHealth_Poor  GenHealth_Very good  Asthma_Yes  \\\n",
       "12278               0               0                    1           0   \n",
       "15607               0               0                    1           1   \n",
       "29045               1               0                    0           0   \n",
       "36494               1               0                    0           0   \n",
       "\n",
       "       Sex_Male  PhysicalActivity_Yes  AlcoholDrinking_Yes  KidneyDisease_Yes  \\\n",
       "12278         0                     1                    0                  0   \n",
       "15607         0                     1                    0                  0   \n",
       "29045         0                     0                    0                  0   \n",
       "36494         1                     1                    0                  0   \n",
       "\n",
       "       SkinCancer_Yes  Stroke_Yes  Diabetic_No, borderline diabetes  \\\n",
       "12278               0           0                                 0   \n",
       "15607               0           0                                 1   \n",
       "29045               0           0                                 0   \n",
       "36494               0           0                                 0   \n",
       "\n",
       "       Diabetic_Yes  Diabetic_Yes (during pregnancy)  GenHealth_VeryGood  \n",
       "12278             0                                0                 NaN  \n",
       "15607             0                                0                 NaN  \n",
       "29045             0                                0                 NaN  \n",
       "36494             0                                0                 0.0  "
      ]
     },
     "execution_count": 389,
     "metadata": {},
     "output_type": "execute_result"
    }
   ],
   "source": [
    "df2"
   ]
  },
  {
   "cell_type": "code",
   "execution_count": 390,
   "id": "63d1b745",
   "metadata": {},
   "outputs": [
    {
     "data": {
      "text/plain": [
       "array([[0.93375618, 0.06624382],\n",
       "       [0.93375549, 0.06624451],\n",
       "       [0.93374343, 0.06625657],\n",
       "       [0.88588372, 0.11411628]])"
      ]
     },
     "execution_count": 390,
     "metadata": {},
     "output_type": "execute_result"
    }
   ],
   "source": [
    "proba = whitebox_model.predict_proba(df2) #model predicts just that\n",
    "proba"
   ]
  },
  {
   "cell_type": "code",
   "execution_count": 391,
   "id": "0a55617f",
   "metadata": {},
   "outputs": [
    {
     "name": "stdout",
     "output_type": "stream",
     "text": [
      "0\n",
      "0\n",
      "1\n",
      "1\n"
     ]
    }
   ],
   "source": [
    "for prob in proba[:,1]:\n",
    "    print(1 if prob >= white_threshold else 0) #the threshold predicts one of them to have heartdisease!"
   ]
  },
  {
   "cell_type": "markdown",
   "id": "f52da066",
   "metadata": {},
   "source": [
    "    Just above we see that changing a person's health from very good to good, means that our fair approach reports that thee person has heart disease! And by a lot in probability. Also, person with index 29045 has Good Health but his probability is a lot lower? "
   ]
  },
  {
   "cell_type": "code",
   "execution_count": 393,
   "id": "0424d34c",
   "metadata": {},
   "outputs": [],
   "source": [
    "pd.set_option('display.max_columns', None)"
   ]
  },
  {
   "cell_type": "code",
   "execution_count": 395,
   "id": "166622e4",
   "metadata": {},
   "outputs": [
    {
     "data": {
      "text/html": [
       "<div>\n",
       "<style scoped>\n",
       "    .dataframe tbody tr th:only-of-type {\n",
       "        vertical-align: middle;\n",
       "    }\n",
       "\n",
       "    .dataframe tbody tr th {\n",
       "        vertical-align: top;\n",
       "    }\n",
       "\n",
       "    .dataframe thead th {\n",
       "        text-align: right;\n",
       "    }\n",
       "</style>\n",
       "<table border=\"1\" class=\"dataframe\">\n",
       "  <thead>\n",
       "    <tr style=\"text-align: right;\">\n",
       "      <th></th>\n",
       "      <th>BMI</th>\n",
       "      <th>PhysicalHealth</th>\n",
       "      <th>MentalHealth</th>\n",
       "      <th>SleepTime</th>\n",
       "      <th>AgeCategory</th>\n",
       "      <th>Race_White</th>\n",
       "      <th>Smoking_Yes</th>\n",
       "      <th>DiffWalking_Yes</th>\n",
       "      <th>GenHealth_Fair</th>\n",
       "      <th>GenHealth_Good</th>\n",
       "      <th>GenHealth_Poor</th>\n",
       "      <th>GenHealth_Very good</th>\n",
       "      <th>Asthma_Yes</th>\n",
       "      <th>Sex_Male</th>\n",
       "      <th>PhysicalActivity_Yes</th>\n",
       "      <th>AlcoholDrinking_Yes</th>\n",
       "      <th>KidneyDisease_Yes</th>\n",
       "      <th>SkinCancer_Yes</th>\n",
       "      <th>Stroke_Yes</th>\n",
       "      <th>Diabetic_No, borderline diabetes</th>\n",
       "      <th>Diabetic_Yes</th>\n",
       "      <th>Diabetic_Yes (during pregnancy)</th>\n",
       "      <th>GenHealth_VeryGood</th>\n",
       "    </tr>\n",
       "  </thead>\n",
       "  <tbody>\n",
       "    <tr>\n",
       "      <th>29045</th>\n",
       "      <td>28.97</td>\n",
       "      <td>0.0</td>\n",
       "      <td>20.0</td>\n",
       "      <td>7.0</td>\n",
       "      <td>62.0</td>\n",
       "      <td>1.0</td>\n",
       "      <td>1.0</td>\n",
       "      <td>0.0</td>\n",
       "      <td>0.0</td>\n",
       "      <td>1.0</td>\n",
       "      <td>0.0</td>\n",
       "      <td>0.0</td>\n",
       "      <td>0.0</td>\n",
       "      <td>0.0</td>\n",
       "      <td>0.0</td>\n",
       "      <td>0.0</td>\n",
       "      <td>0.0</td>\n",
       "      <td>0.0</td>\n",
       "      <td>0.0</td>\n",
       "      <td>0.0</td>\n",
       "      <td>0.0</td>\n",
       "      <td>0.0</td>\n",
       "      <td>NaN</td>\n",
       "    </tr>\n",
       "    <tr>\n",
       "      <th>36494</th>\n",
       "      <td>27.12</td>\n",
       "      <td>0.0</td>\n",
       "      <td>0.0</td>\n",
       "      <td>8.0</td>\n",
       "      <td>67.0</td>\n",
       "      <td>1.0</td>\n",
       "      <td>0.0</td>\n",
       "      <td>0.0</td>\n",
       "      <td>0.0</td>\n",
       "      <td>1.0</td>\n",
       "      <td>0.0</td>\n",
       "      <td>0.0</td>\n",
       "      <td>0.0</td>\n",
       "      <td>1.0</td>\n",
       "      <td>1.0</td>\n",
       "      <td>0.0</td>\n",
       "      <td>0.0</td>\n",
       "      <td>0.0</td>\n",
       "      <td>0.0</td>\n",
       "      <td>0.0</td>\n",
       "      <td>0.0</td>\n",
       "      <td>0.0</td>\n",
       "      <td>0.0</td>\n",
       "    </tr>\n",
       "  </tbody>\n",
       "</table>\n",
       "</div>"
      ],
      "text/plain": [
       "         BMI  PhysicalHealth  MentalHealth  SleepTime  AgeCategory  \\\n",
       "29045  28.97             0.0          20.0        7.0         62.0   \n",
       "36494  27.12             0.0           0.0        8.0         67.0   \n",
       "\n",
       "       Race_White  Smoking_Yes  DiffWalking_Yes  GenHealth_Fair  \\\n",
       "29045         1.0          1.0              0.0             0.0   \n",
       "36494         1.0          0.0              0.0             0.0   \n",
       "\n",
       "       GenHealth_Good  GenHealth_Poor  GenHealth_Very good  Asthma_Yes  \\\n",
       "29045             1.0             0.0                  0.0         0.0   \n",
       "36494             1.0             0.0                  0.0         0.0   \n",
       "\n",
       "       Sex_Male  PhysicalActivity_Yes  AlcoholDrinking_Yes  KidneyDisease_Yes  \\\n",
       "29045       0.0                   0.0                  0.0                0.0   \n",
       "36494       1.0                   1.0                  0.0                0.0   \n",
       "\n",
       "       SkinCancer_Yes  Stroke_Yes  Diabetic_No, borderline diabetes  \\\n",
       "29045             0.0         0.0                               0.0   \n",
       "36494             0.0         0.0                               0.0   \n",
       "\n",
       "       Diabetic_Yes  Diabetic_Yes (during pregnancy)  GenHealth_VeryGood  \n",
       "29045           0.0                              0.0                 NaN  \n",
       "36494           0.0                              0.0                 0.0  "
      ]
     },
     "execution_count": 395,
     "metadata": {},
     "output_type": "execute_result"
    }
   ],
   "source": [
    "pd.DataFrame([df2.xs(29045), df2.xs(36494)]) #well, we notice that he is younger."
   ]
  },
  {
   "cell_type": "markdown",
   "id": "fa9d693b",
   "metadata": {},
   "source": [
    "    changing race"
   ]
  },
  {
   "cell_type": "code",
   "execution_count": 413,
   "id": "295f0728",
   "metadata": {},
   "outputs": [
    {
     "data": {
      "text/html": [
       "<div>\n",
       "<style scoped>\n",
       "    .dataframe tbody tr th:only-of-type {\n",
       "        vertical-align: middle;\n",
       "    }\n",
       "\n",
       "    .dataframe tbody tr th {\n",
       "        vertical-align: top;\n",
       "    }\n",
       "\n",
       "    .dataframe thead th {\n",
       "        text-align: right;\n",
       "    }\n",
       "</style>\n",
       "<table border=\"1\" class=\"dataframe\">\n",
       "  <thead>\n",
       "    <tr style=\"text-align: right;\">\n",
       "      <th></th>\n",
       "      <th>BMI</th>\n",
       "      <th>PhysicalHealth</th>\n",
       "      <th>MentalHealth</th>\n",
       "      <th>SleepTime</th>\n",
       "      <th>AgeCategory</th>\n",
       "      <th>Race_White</th>\n",
       "      <th>Smoking_Yes</th>\n",
       "      <th>DiffWalking_Yes</th>\n",
       "      <th>GenHealth_Fair</th>\n",
       "      <th>GenHealth_Good</th>\n",
       "      <th>GenHealth_Poor</th>\n",
       "      <th>GenHealth_Very good</th>\n",
       "      <th>Asthma_Yes</th>\n",
       "      <th>Sex_Male</th>\n",
       "      <th>PhysicalActivity_Yes</th>\n",
       "      <th>AlcoholDrinking_Yes</th>\n",
       "      <th>KidneyDisease_Yes</th>\n",
       "      <th>SkinCancer_Yes</th>\n",
       "      <th>Stroke_Yes</th>\n",
       "      <th>Diabetic_No, borderline diabetes</th>\n",
       "      <th>Diabetic_Yes</th>\n",
       "      <th>Diabetic_Yes (during pregnancy)</th>\n",
       "    </tr>\n",
       "  </thead>\n",
       "  <tbody>\n",
       "    <tr>\n",
       "      <th>12278</th>\n",
       "      <td>21.79</td>\n",
       "      <td>0.0</td>\n",
       "      <td>0.0</td>\n",
       "      <td>6.0</td>\n",
       "      <td>80.0</td>\n",
       "      <td>1</td>\n",
       "      <td>0</td>\n",
       "      <td>0</td>\n",
       "      <td>0</td>\n",
       "      <td>0</td>\n",
       "      <td>0</td>\n",
       "      <td>1</td>\n",
       "      <td>0</td>\n",
       "      <td>0</td>\n",
       "      <td>1</td>\n",
       "      <td>0</td>\n",
       "      <td>0</td>\n",
       "      <td>0</td>\n",
       "      <td>0</td>\n",
       "      <td>0</td>\n",
       "      <td>0</td>\n",
       "      <td>0</td>\n",
       "    </tr>\n",
       "    <tr>\n",
       "      <th>15607</th>\n",
       "      <td>32.28</td>\n",
       "      <td>0.0</td>\n",
       "      <td>0.0</td>\n",
       "      <td>8.0</td>\n",
       "      <td>72.0</td>\n",
       "      <td>1</td>\n",
       "      <td>0</td>\n",
       "      <td>0</td>\n",
       "      <td>0</td>\n",
       "      <td>0</td>\n",
       "      <td>0</td>\n",
       "      <td>1</td>\n",
       "      <td>1</td>\n",
       "      <td>0</td>\n",
       "      <td>1</td>\n",
       "      <td>0</td>\n",
       "      <td>0</td>\n",
       "      <td>0</td>\n",
       "      <td>0</td>\n",
       "      <td>1</td>\n",
       "      <td>0</td>\n",
       "      <td>0</td>\n",
       "    </tr>\n",
       "    <tr>\n",
       "      <th>29045</th>\n",
       "      <td>28.97</td>\n",
       "      <td>0.0</td>\n",
       "      <td>20.0</td>\n",
       "      <td>7.0</td>\n",
       "      <td>62.0</td>\n",
       "      <td>1</td>\n",
       "      <td>1</td>\n",
       "      <td>0</td>\n",
       "      <td>0</td>\n",
       "      <td>1</td>\n",
       "      <td>0</td>\n",
       "      <td>0</td>\n",
       "      <td>0</td>\n",
       "      <td>0</td>\n",
       "      <td>0</td>\n",
       "      <td>0</td>\n",
       "      <td>0</td>\n",
       "      <td>0</td>\n",
       "      <td>0</td>\n",
       "      <td>0</td>\n",
       "      <td>0</td>\n",
       "      <td>0</td>\n",
       "    </tr>\n",
       "    <tr>\n",
       "      <th>36494</th>\n",
       "      <td>27.12</td>\n",
       "      <td>0.0</td>\n",
       "      <td>0.0</td>\n",
       "      <td>8.0</td>\n",
       "      <td>67.0</td>\n",
       "      <td>1</td>\n",
       "      <td>0</td>\n",
       "      <td>0</td>\n",
       "      <td>0</td>\n",
       "      <td>0</td>\n",
       "      <td>0</td>\n",
       "      <td>1</td>\n",
       "      <td>0</td>\n",
       "      <td>1</td>\n",
       "      <td>1</td>\n",
       "      <td>0</td>\n",
       "      <td>0</td>\n",
       "      <td>0</td>\n",
       "      <td>0</td>\n",
       "      <td>0</td>\n",
       "      <td>0</td>\n",
       "      <td>0</td>\n",
       "    </tr>\n",
       "  </tbody>\n",
       "</table>\n",
       "</div>"
      ],
      "text/plain": [
       "         BMI  PhysicalHealth  MentalHealth  SleepTime  AgeCategory  \\\n",
       "12278  21.79             0.0           0.0        6.0         80.0   \n",
       "15607  32.28             0.0           0.0        8.0         72.0   \n",
       "29045  28.97             0.0          20.0        7.0         62.0   \n",
       "36494  27.12             0.0           0.0        8.0         67.0   \n",
       "\n",
       "       Race_White  Smoking_Yes  DiffWalking_Yes  GenHealth_Fair  \\\n",
       "12278           1            0                0               0   \n",
       "15607           1            0                0               0   \n",
       "29045           1            1                0               0   \n",
       "36494           1            0                0               0   \n",
       "\n",
       "       GenHealth_Good  GenHealth_Poor  GenHealth_Very good  Asthma_Yes  \\\n",
       "12278               0               0                    1           0   \n",
       "15607               0               0                    1           1   \n",
       "29045               1               0                    0           0   \n",
       "36494               0               0                    1           0   \n",
       "\n",
       "       Sex_Male  PhysicalActivity_Yes  AlcoholDrinking_Yes  KidneyDisease_Yes  \\\n",
       "12278         0                     1                    0                  0   \n",
       "15607         0                     1                    0                  0   \n",
       "29045         0                     0                    0                  0   \n",
       "36494         1                     1                    0                  0   \n",
       "\n",
       "       SkinCancer_Yes  Stroke_Yes  Diabetic_No, borderline diabetes  \\\n",
       "12278               0           0                                 0   \n",
       "15607               0           0                                 1   \n",
       "29045               0           0                                 0   \n",
       "36494               0           0                                 0   \n",
       "\n",
       "       Diabetic_Yes  Diabetic_Yes (during pregnancy)  \n",
       "12278             0                                0  \n",
       "15607             0                                0  \n",
       "29045             0                                0  \n",
       "36494             0                                0  "
      ]
     },
     "execution_count": 413,
     "metadata": {},
     "output_type": "execute_result"
    }
   ],
   "source": [
    "df2 = test_processed.iloc[indexes].copy()\n",
    "df2"
   ]
  },
  {
   "cell_type": "code",
   "execution_count": 414,
   "id": "f70c8b9c",
   "metadata": {},
   "outputs": [
    {
     "data": {
      "text/plain": [
       "array([[0.93375618, 0.06624382],\n",
       "       [0.93375549, 0.06624451],\n",
       "       [0.93374343, 0.06625657],\n",
       "       [0.93375313, 0.06624687]])"
      ]
     },
     "execution_count": 414,
     "metadata": {},
     "output_type": "execute_result"
    }
   ],
   "source": [
    "proba = whitebox_model.predict_proba(df2)\n",
    "proba"
   ]
  },
  {
   "cell_type": "code",
   "execution_count": 416,
   "id": "b55767ed",
   "metadata": {},
   "outputs": [
    {
     "name": "stdout",
     "output_type": "stream",
     "text": [
      "0\n",
      "0\n",
      "1\n",
      "0\n"
     ]
    }
   ],
   "source": [
    "for prob in proba[:,1]:\n",
    "    print(1 if prob >= white_threshold else 0)"
   ]
  },
  {
   "cell_type": "code",
   "execution_count": 417,
   "id": "02828fe4",
   "metadata": {},
   "outputs": [],
   "source": [
    "df2.loc[:, \"Race_White\"] = 0"
   ]
  },
  {
   "cell_type": "code",
   "execution_count": 418,
   "id": "39a3ea6b",
   "metadata": {},
   "outputs": [
    {
     "data": {
      "text/html": [
       "<div>\n",
       "<style scoped>\n",
       "    .dataframe tbody tr th:only-of-type {\n",
       "        vertical-align: middle;\n",
       "    }\n",
       "\n",
       "    .dataframe tbody tr th {\n",
       "        vertical-align: top;\n",
       "    }\n",
       "\n",
       "    .dataframe thead th {\n",
       "        text-align: right;\n",
       "    }\n",
       "</style>\n",
       "<table border=\"1\" class=\"dataframe\">\n",
       "  <thead>\n",
       "    <tr style=\"text-align: right;\">\n",
       "      <th></th>\n",
       "      <th>BMI</th>\n",
       "      <th>PhysicalHealth</th>\n",
       "      <th>MentalHealth</th>\n",
       "      <th>SleepTime</th>\n",
       "      <th>AgeCategory</th>\n",
       "      <th>Race_White</th>\n",
       "      <th>Smoking_Yes</th>\n",
       "      <th>DiffWalking_Yes</th>\n",
       "      <th>GenHealth_Fair</th>\n",
       "      <th>GenHealth_Good</th>\n",
       "      <th>GenHealth_Poor</th>\n",
       "      <th>GenHealth_Very good</th>\n",
       "      <th>Asthma_Yes</th>\n",
       "      <th>Sex_Male</th>\n",
       "      <th>PhysicalActivity_Yes</th>\n",
       "      <th>AlcoholDrinking_Yes</th>\n",
       "      <th>KidneyDisease_Yes</th>\n",
       "      <th>SkinCancer_Yes</th>\n",
       "      <th>Stroke_Yes</th>\n",
       "      <th>Diabetic_No, borderline diabetes</th>\n",
       "      <th>Diabetic_Yes</th>\n",
       "      <th>Diabetic_Yes (during pregnancy)</th>\n",
       "    </tr>\n",
       "  </thead>\n",
       "  <tbody>\n",
       "    <tr>\n",
       "      <th>12278</th>\n",
       "      <td>21.79</td>\n",
       "      <td>0.0</td>\n",
       "      <td>0.0</td>\n",
       "      <td>6.0</td>\n",
       "      <td>80.0</td>\n",
       "      <td>0</td>\n",
       "      <td>0</td>\n",
       "      <td>0</td>\n",
       "      <td>0</td>\n",
       "      <td>0</td>\n",
       "      <td>0</td>\n",
       "      <td>1</td>\n",
       "      <td>0</td>\n",
       "      <td>0</td>\n",
       "      <td>1</td>\n",
       "      <td>0</td>\n",
       "      <td>0</td>\n",
       "      <td>0</td>\n",
       "      <td>0</td>\n",
       "      <td>0</td>\n",
       "      <td>0</td>\n",
       "      <td>0</td>\n",
       "    </tr>\n",
       "    <tr>\n",
       "      <th>15607</th>\n",
       "      <td>32.28</td>\n",
       "      <td>0.0</td>\n",
       "      <td>0.0</td>\n",
       "      <td>8.0</td>\n",
       "      <td>72.0</td>\n",
       "      <td>0</td>\n",
       "      <td>0</td>\n",
       "      <td>0</td>\n",
       "      <td>0</td>\n",
       "      <td>0</td>\n",
       "      <td>0</td>\n",
       "      <td>1</td>\n",
       "      <td>1</td>\n",
       "      <td>0</td>\n",
       "      <td>1</td>\n",
       "      <td>0</td>\n",
       "      <td>0</td>\n",
       "      <td>0</td>\n",
       "      <td>0</td>\n",
       "      <td>1</td>\n",
       "      <td>0</td>\n",
       "      <td>0</td>\n",
       "    </tr>\n",
       "    <tr>\n",
       "      <th>29045</th>\n",
       "      <td>28.97</td>\n",
       "      <td>0.0</td>\n",
       "      <td>20.0</td>\n",
       "      <td>7.0</td>\n",
       "      <td>62.0</td>\n",
       "      <td>0</td>\n",
       "      <td>1</td>\n",
       "      <td>0</td>\n",
       "      <td>0</td>\n",
       "      <td>1</td>\n",
       "      <td>0</td>\n",
       "      <td>0</td>\n",
       "      <td>0</td>\n",
       "      <td>0</td>\n",
       "      <td>0</td>\n",
       "      <td>0</td>\n",
       "      <td>0</td>\n",
       "      <td>0</td>\n",
       "      <td>0</td>\n",
       "      <td>0</td>\n",
       "      <td>0</td>\n",
       "      <td>0</td>\n",
       "    </tr>\n",
       "    <tr>\n",
       "      <th>36494</th>\n",
       "      <td>27.12</td>\n",
       "      <td>0.0</td>\n",
       "      <td>0.0</td>\n",
       "      <td>8.0</td>\n",
       "      <td>67.0</td>\n",
       "      <td>0</td>\n",
       "      <td>0</td>\n",
       "      <td>0</td>\n",
       "      <td>0</td>\n",
       "      <td>0</td>\n",
       "      <td>0</td>\n",
       "      <td>1</td>\n",
       "      <td>0</td>\n",
       "      <td>1</td>\n",
       "      <td>1</td>\n",
       "      <td>0</td>\n",
       "      <td>0</td>\n",
       "      <td>0</td>\n",
       "      <td>0</td>\n",
       "      <td>0</td>\n",
       "      <td>0</td>\n",
       "      <td>0</td>\n",
       "    </tr>\n",
       "  </tbody>\n",
       "</table>\n",
       "</div>"
      ],
      "text/plain": [
       "         BMI  PhysicalHealth  MentalHealth  SleepTime  AgeCategory  \\\n",
       "12278  21.79             0.0           0.0        6.0         80.0   \n",
       "15607  32.28             0.0           0.0        8.0         72.0   \n",
       "29045  28.97             0.0          20.0        7.0         62.0   \n",
       "36494  27.12             0.0           0.0        8.0         67.0   \n",
       "\n",
       "       Race_White  Smoking_Yes  DiffWalking_Yes  GenHealth_Fair  \\\n",
       "12278           0            0                0               0   \n",
       "15607           0            0                0               0   \n",
       "29045           0            1                0               0   \n",
       "36494           0            0                0               0   \n",
       "\n",
       "       GenHealth_Good  GenHealth_Poor  GenHealth_Very good  Asthma_Yes  \\\n",
       "12278               0               0                    1           0   \n",
       "15607               0               0                    1           1   \n",
       "29045               1               0                    0           0   \n",
       "36494               0               0                    1           0   \n",
       "\n",
       "       Sex_Male  PhysicalActivity_Yes  AlcoholDrinking_Yes  KidneyDisease_Yes  \\\n",
       "12278         0                     1                    0                  0   \n",
       "15607         0                     1                    0                  0   \n",
       "29045         0                     0                    0                  0   \n",
       "36494         1                     1                    0                  0   \n",
       "\n",
       "       SkinCancer_Yes  Stroke_Yes  Diabetic_No, borderline diabetes  \\\n",
       "12278               0           0                                 0   \n",
       "15607               0           0                                 1   \n",
       "29045               0           0                                 0   \n",
       "36494               0           0                                 0   \n",
       "\n",
       "       Diabetic_Yes  Diabetic_Yes (during pregnancy)  \n",
       "12278             0                                0  \n",
       "15607             0                                0  \n",
       "29045             0                                0  \n",
       "36494             0                                0  "
      ]
     },
     "execution_count": 418,
     "metadata": {},
     "output_type": "execute_result"
    }
   ],
   "source": [
    "df2"
   ]
  },
  {
   "cell_type": "code",
   "execution_count": 419,
   "id": "3058083e",
   "metadata": {},
   "outputs": [
    {
     "data": {
      "text/plain": [
       "array([[0.94766117, 0.05233883],\n",
       "       [0.94766061, 0.05233939],\n",
       "       [0.94765095, 0.05234905],\n",
       "       [0.94765872, 0.05234128]])"
      ]
     },
     "execution_count": 419,
     "metadata": {},
     "output_type": "execute_result"
    }
   ],
   "source": [
    "proba = whitebox_model.predict_proba(df2)\n",
    "proba"
   ]
  },
  {
   "cell_type": "code",
   "execution_count": 421,
   "id": "12831ed1",
   "metadata": {},
   "outputs": [
    {
     "name": "stdout",
     "output_type": "stream",
     "text": [
      "0\n",
      "0\n",
      "0\n",
      "0\n"
     ]
    }
   ],
   "source": [
    "for prob in proba[:,1]:\n",
    "    print(1 if prob >= black_threshold else 0) #prediction is flipped to no heartdisease!"
   ]
  },
  {
   "cell_type": "code",
   "execution_count": null,
   "id": "aeed6ea7",
   "metadata": {},
   "outputs": [],
   "source": []
  },
  {
   "cell_type": "code",
   "execution_count": 425,
   "id": "984b1b3a",
   "metadata": {},
   "outputs": [
    {
     "data": {
      "text/html": [
       "<div>\n",
       "<style scoped>\n",
       "    .dataframe tbody tr th:only-of-type {\n",
       "        vertical-align: middle;\n",
       "    }\n",
       "\n",
       "    .dataframe tbody tr th {\n",
       "        vertical-align: top;\n",
       "    }\n",
       "\n",
       "    .dataframe thead th {\n",
       "        text-align: right;\n",
       "    }\n",
       "</style>\n",
       "<table border=\"1\" class=\"dataframe\">\n",
       "  <thead>\n",
       "    <tr style=\"text-align: right;\">\n",
       "      <th></th>\n",
       "      <th>BMI</th>\n",
       "      <th>PhysicalHealth</th>\n",
       "      <th>MentalHealth</th>\n",
       "      <th>SleepTime</th>\n",
       "      <th>AgeCategory</th>\n",
       "      <th>Race_White</th>\n",
       "      <th>Smoking_Yes</th>\n",
       "      <th>DiffWalking_Yes</th>\n",
       "      <th>GenHealth_Fair</th>\n",
       "      <th>GenHealth_Good</th>\n",
       "      <th>GenHealth_Poor</th>\n",
       "      <th>GenHealth_Very good</th>\n",
       "      <th>Asthma_Yes</th>\n",
       "      <th>Sex_Male</th>\n",
       "      <th>PhysicalActivity_Yes</th>\n",
       "      <th>AlcoholDrinking_Yes</th>\n",
       "      <th>KidneyDisease_Yes</th>\n",
       "      <th>SkinCancer_Yes</th>\n",
       "      <th>Stroke_Yes</th>\n",
       "      <th>Diabetic_No, borderline diabetes</th>\n",
       "      <th>Diabetic_Yes</th>\n",
       "      <th>Diabetic_Yes (during pregnancy)</th>\n",
       "    </tr>\n",
       "  </thead>\n",
       "  <tbody>\n",
       "    <tr>\n",
       "      <th>12278</th>\n",
       "      <td>21.79</td>\n",
       "      <td>0.0</td>\n",
       "      <td>0.0</td>\n",
       "      <td>6.0</td>\n",
       "      <td>80.0</td>\n",
       "      <td>0</td>\n",
       "      <td>0</td>\n",
       "      <td>0</td>\n",
       "      <td>0</td>\n",
       "      <td>0</td>\n",
       "      <td>0</td>\n",
       "      <td>1</td>\n",
       "      <td>0</td>\n",
       "      <td>0</td>\n",
       "      <td>1</td>\n",
       "      <td>0</td>\n",
       "      <td>0</td>\n",
       "      <td>0</td>\n",
       "      <td>0</td>\n",
       "      <td>0</td>\n",
       "      <td>0</td>\n",
       "      <td>0</td>\n",
       "    </tr>\n",
       "    <tr>\n",
       "      <th>15607</th>\n",
       "      <td>32.28</td>\n",
       "      <td>0.0</td>\n",
       "      <td>0.0</td>\n",
       "      <td>8.0</td>\n",
       "      <td>72.0</td>\n",
       "      <td>0</td>\n",
       "      <td>0</td>\n",
       "      <td>0</td>\n",
       "      <td>0</td>\n",
       "      <td>0</td>\n",
       "      <td>0</td>\n",
       "      <td>1</td>\n",
       "      <td>1</td>\n",
       "      <td>0</td>\n",
       "      <td>1</td>\n",
       "      <td>0</td>\n",
       "      <td>0</td>\n",
       "      <td>0</td>\n",
       "      <td>0</td>\n",
       "      <td>1</td>\n",
       "      <td>0</td>\n",
       "      <td>0</td>\n",
       "    </tr>\n",
       "  </tbody>\n",
       "</table>\n",
       "</div>"
      ],
      "text/plain": [
       "         BMI  PhysicalHealth  MentalHealth  SleepTime  AgeCategory  \\\n",
       "12278  21.79             0.0           0.0        6.0         80.0   \n",
       "15607  32.28             0.0           0.0        8.0         72.0   \n",
       "\n",
       "       Race_White  Smoking_Yes  DiffWalking_Yes  GenHealth_Fair  \\\n",
       "12278           0            0                0               0   \n",
       "15607           0            0                0               0   \n",
       "\n",
       "       GenHealth_Good  GenHealth_Poor  GenHealth_Very good  Asthma_Yes  \\\n",
       "12278               0               0                    1           0   \n",
       "15607               0               0                    1           1   \n",
       "\n",
       "       Sex_Male  PhysicalActivity_Yes  AlcoholDrinking_Yes  KidneyDisease_Yes  \\\n",
       "12278         0                     1                    0                  0   \n",
       "15607         0                     1                    0                  0   \n",
       "\n",
       "       SkinCancer_Yes  Stroke_Yes  Diabetic_No, borderline diabetes  \\\n",
       "12278               0           0                                 0   \n",
       "15607               0           0                                 1   \n",
       "\n",
       "       Diabetic_Yes  Diabetic_Yes (during pregnancy)  \n",
       "12278             0                                0  \n",
       "15607             0                                0  "
      ]
     },
     "execution_count": 425,
     "metadata": {},
     "output_type": "execute_result"
    }
   ],
   "source": [
    "df2[:2]"
   ]
  },
  {
   "cell_type": "code",
   "execution_count": 446,
   "id": "1f8f8d9c",
   "metadata": {},
   "outputs": [],
   "source": [
    "race_weight = whitebox_model[\"clf\"].coef_[0][4] #race"
   ]
  },
  {
   "cell_type": "code",
   "execution_count": 453,
   "id": "2f6d4813",
   "metadata": {},
   "outputs": [
    {
     "data": {
      "text/plain": [
       "0.9950316327354021"
      ]
     },
     "execution_count": 453,
     "metadata": {},
     "output_type": "execute_result"
    }
   ],
   "source": [
    "race_weight"
   ]
  },
  {
   "cell_type": "code",
   "execution_count": 451,
   "id": "561d6da3",
   "metadata": {},
   "outputs": [
    {
     "data": {
      "text/plain": [
       "2.7048099004621036"
      ]
     },
     "execution_count": 451,
     "metadata": {},
     "output_type": "execute_result"
    }
   ],
   "source": [
    "np.exp(race_weight*(0+1)-race_weight*0)"
   ]
  },
  {
   "cell_type": "markdown",
   "id": "04373974",
   "metadata": {},
   "source": [
    "    change in race, results in a change in the odds of healtdisease by 2.70 (i.e. exp(race_weight) -> exp(0.99))"
   ]
  },
  {
   "cell_type": "code",
   "execution_count": 455,
   "id": "147c6b87",
   "metadata": {},
   "outputs": [
    {
     "data": {
      "text/plain": [
       "True"
      ]
     },
     "execution_count": 455,
     "metadata": {},
     "output_type": "execute_result"
    }
   ],
   "source": [
    "np.exp(race_weight) == np.exp(race_weight*(0+1)-race_weight*0)"
   ]
  },
  {
   "cell_type": "code",
   "execution_count": null,
   "id": "a253de73",
   "metadata": {},
   "outputs": [],
   "source": []
  }
 ],
 "metadata": {
  "kernelspec": {
   "display_name": "Python 3 (ipykernel)",
   "language": "python",
   "name": "python3"
  },
  "language_info": {
   "codemirror_mode": {
    "name": "ipython",
    "version": 3
   },
   "file_extension": ".py",
   "mimetype": "text/x-python",
   "name": "python",
   "nbconvert_exporter": "python",
   "pygments_lexer": "ipython3",
   "version": "3.8.10"
  }
 },
 "nbformat": 4,
 "nbformat_minor": 5
}
