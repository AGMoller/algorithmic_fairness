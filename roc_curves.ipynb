{
 "cells": [
  {
   "cell_type": "code",
   "execution_count": 120,
   "id": "7020504c",
   "metadata": {},
   "outputs": [],
   "source": [
    "from typing import List\n",
    "\n",
    "import matplotlib.pyplot as plt\n",
    "import numpy as np\n",
    "import pandas as pd\n",
    "\n",
    "\n",
    "from sklearn.metrics import confusion_matrix\n",
    "from sklearn.metrics import classification_report, roc_curve, auc\n",
    "from sklearn.linear_model import LogisticRegression\n",
    "from sklearn.tree import DecisionTreeClassifier\n",
    "from sklearn.compose import ColumnTransformer\n",
    "from sklearn.preprocessing import StandardScaler\n",
    "from sklearn.pipeline import Pipeline\n",
    "\n",
    "import utils"
   ]
  },
  {
   "cell_type": "markdown",
   "id": "6cbf6bcd",
   "metadata": {},
   "source": [
    "# Preprocessing Data"
   ]
  },
  {
   "cell_type": "code",
   "execution_count": 172,
   "id": "059f5b40",
   "metadata": {},
   "outputs": [],
   "source": [
    "train = pd.read_csv('data/heart_train.csv')\n",
    "val = pd.read_csv('data/heart_val.csv')\n",
    "test = pd.read_csv('data/heart_test.csv')\n",
    "\n",
    "target_variable = \"HeartDisease\"\n",
    "\n",
    "continuous_features = list(train._get_numeric_data().columns) + [\"AgeCategory\"]\n",
    "categorical_features = list(set(train.columns) - set(continuous_features) - set([target_variable]))"
   ]
  },
  {
   "cell_type": "code",
   "execution_count": 173,
   "id": "91d2fa22",
   "metadata": {},
   "outputs": [],
   "source": [
    "def mean_of_age_category(row):\n",
    "    if \"older\" in row:\n",
    "        return 80\n",
    "    else:\n",
    "        return np.mean(list(map(int, row.split(\"-\"))))\n",
    "\n",
    "\n",
    "def data_preprocessing(data: pd.DataFrame, categorical_features: List[str], continuous_features: List[str], target_variable: str):\n",
    "\n",
    "    df = data.copy()\n",
    "    \n",
    "    # subset df\n",
    "    df = df[(df[\"Race\"]==\"White\") | (df[\"Race\"]==\"Black\")]\n",
    "    df[\"AgeCategory\"] = df[\"AgeCategory\"].apply(mean_of_age_category)\n",
    "    \n",
    "    # target\n",
    "    target = df[target_variable].values\n",
    "    d = {\"No\":0, \"Yes\":1}\n",
    "    target = np.array(list(map(lambda x: d[x], target)))\n",
    "\n",
    "    # protected variables\n",
    "    sex = df[\"Sex\"].values\n",
    "    age = df[\"AgeCategory\"].values\n",
    "    race = df[\"Race\"].values\n",
    "\n",
    "    df_processed = df[categorical_features + continuous_features].copy()\n",
    "    df_processed = pd.get_dummies(df_processed, prefix=None, prefix_sep='_',\n",
    "                                  dummy_na=False, columns=categorical_features, drop_first=True)\n",
    "\n",
    "    return df_processed, df, target, sex, age, race\n",
    "\n",
    "\n",
    "train_processed, train_original, train_target, train_sex, train_age, train_race = data_preprocessing(\n",
    "    train, categorical_features=categorical_features, continuous_features=continuous_features, target_variable=target_variable)\n",
    "\n",
    "val_processed, val_original, val_target, val_sex, val_age, val_race = data_preprocessing(\n",
    "    val, categorical_features=categorical_features, continuous_features=continuous_features, target_variable=target_variable)\n",
    "\n",
    "test_processed, test_original, test_target, test_sex, test_age, test_race = data_preprocessing(\n",
    "test, categorical_features=categorical_features, continuous_features=continuous_features, target_variable=target_variable)"
   ]
  },
  {
   "cell_type": "markdown",
   "id": "e5652dd4",
   "metadata": {},
   "source": [
    "# Equalized odds with roc curves"
   ]
  },
  {
   "cell_type": "markdown",
   "id": "03af919f",
   "metadata": {},
   "source": [
    "### Model Training"
   ]
  },
  {
   "cell_type": "code",
   "execution_count": 174,
   "id": "f1e0e4ae",
   "metadata": {},
   "outputs": [
    {
     "data": {
      "text/html": [
       "<style>#sk-container-id-4 {color: black;background-color: white;}#sk-container-id-4 pre{padding: 0;}#sk-container-id-4 div.sk-toggleable {background-color: white;}#sk-container-id-4 label.sk-toggleable__label {cursor: pointer;display: block;width: 100%;margin-bottom: 0;padding: 0.3em;box-sizing: border-box;text-align: center;}#sk-container-id-4 label.sk-toggleable__label-arrow:before {content: \"▸\";float: left;margin-right: 0.25em;color: #696969;}#sk-container-id-4 label.sk-toggleable__label-arrow:hover:before {color: black;}#sk-container-id-4 div.sk-estimator:hover label.sk-toggleable__label-arrow:before {color: black;}#sk-container-id-4 div.sk-toggleable__content {max-height: 0;max-width: 0;overflow: hidden;text-align: left;background-color: #f0f8ff;}#sk-container-id-4 div.sk-toggleable__content pre {margin: 0.2em;color: black;border-radius: 0.25em;background-color: #f0f8ff;}#sk-container-id-4 input.sk-toggleable__control:checked~div.sk-toggleable__content {max-height: 200px;max-width: 100%;overflow: auto;}#sk-container-id-4 input.sk-toggleable__control:checked~label.sk-toggleable__label-arrow:before {content: \"▾\";}#sk-container-id-4 div.sk-estimator input.sk-toggleable__control:checked~label.sk-toggleable__label {background-color: #d4ebff;}#sk-container-id-4 div.sk-label input.sk-toggleable__control:checked~label.sk-toggleable__label {background-color: #d4ebff;}#sk-container-id-4 input.sk-hidden--visually {border: 0;clip: rect(1px 1px 1px 1px);clip: rect(1px, 1px, 1px, 1px);height: 1px;margin: -1px;overflow: hidden;padding: 0;position: absolute;width: 1px;}#sk-container-id-4 div.sk-estimator {font-family: monospace;background-color: #f0f8ff;border: 1px dotted black;border-radius: 0.25em;box-sizing: border-box;margin-bottom: 0.5em;}#sk-container-id-4 div.sk-estimator:hover {background-color: #d4ebff;}#sk-container-id-4 div.sk-parallel-item::after {content: \"\";width: 100%;border-bottom: 1px solid gray;flex-grow: 1;}#sk-container-id-4 div.sk-label:hover label.sk-toggleable__label {background-color: #d4ebff;}#sk-container-id-4 div.sk-serial::before {content: \"\";position: absolute;border-left: 1px solid gray;box-sizing: border-box;top: 0;bottom: 0;left: 50%;z-index: 0;}#sk-container-id-4 div.sk-serial {display: flex;flex-direction: column;align-items: center;background-color: white;padding-right: 0.2em;padding-left: 0.2em;position: relative;}#sk-container-id-4 div.sk-item {position: relative;z-index: 1;}#sk-container-id-4 div.sk-parallel {display: flex;align-items: stretch;justify-content: center;background-color: white;position: relative;}#sk-container-id-4 div.sk-item::before, #sk-container-id-4 div.sk-parallel-item::before {content: \"\";position: absolute;border-left: 1px solid gray;box-sizing: border-box;top: 0;bottom: 0;left: 50%;z-index: -1;}#sk-container-id-4 div.sk-parallel-item {display: flex;flex-direction: column;z-index: 1;position: relative;background-color: white;}#sk-container-id-4 div.sk-parallel-item:first-child::after {align-self: flex-end;width: 50%;}#sk-container-id-4 div.sk-parallel-item:last-child::after {align-self: flex-start;width: 50%;}#sk-container-id-4 div.sk-parallel-item:only-child::after {width: 0;}#sk-container-id-4 div.sk-dashed-wrapped {border: 1px dashed gray;margin: 0 0.4em 0.5em 0.4em;box-sizing: border-box;padding-bottom: 0.4em;background-color: white;}#sk-container-id-4 div.sk-label label {font-family: monospace;font-weight: bold;display: inline-block;line-height: 1.2em;}#sk-container-id-4 div.sk-label-container {text-align: center;}#sk-container-id-4 div.sk-container {/* jupyter's `normalize.less` sets `[hidden] { display: none; }` but bootstrap.min.css set `[hidden] { display: none !important; }` so we also need the `!important` here to be able to override the default hidden behavior on the sphinx rendered scikit-learn.org. See: https://github.com/scikit-learn/scikit-learn/issues/21755 */display: inline-block !important;position: relative;}#sk-container-id-4 div.sk-text-repr-fallback {display: none;}</style><div id=\"sk-container-id-4\" class=\"sk-top-container\"><div class=\"sk-text-repr-fallback\"><pre>Pipeline(steps=[(&#x27;scaler&#x27;,\n",
       "                 ColumnTransformer(remainder=&#x27;passthrough&#x27;,\n",
       "                                   transformers=[(&#x27;scaler&#x27;, StandardScaler(),\n",
       "                                                  [&#x27;BMI&#x27;, &#x27;PhysicalHealth&#x27;,\n",
       "                                                   &#x27;MentalHealth&#x27;, &#x27;SleepTime&#x27;,\n",
       "                                                   &#x27;AgeCategory&#x27;])])),\n",
       "                (&#x27;clf&#x27;, LogisticRegression(max_iter=10000))])</pre><b>In a Jupyter environment, please rerun this cell to show the HTML representation or trust the notebook. <br />On GitHub, the HTML representation is unable to render, please try loading this page with nbviewer.org.</b></div><div class=\"sk-container\" hidden><div class=\"sk-item sk-dashed-wrapped\"><div class=\"sk-label-container\"><div class=\"sk-label sk-toggleable\"><input class=\"sk-toggleable__control sk-hidden--visually\" id=\"sk-estimator-id-22\" type=\"checkbox\" ><label for=\"sk-estimator-id-22\" class=\"sk-toggleable__label sk-toggleable__label-arrow\">Pipeline</label><div class=\"sk-toggleable__content\"><pre>Pipeline(steps=[(&#x27;scaler&#x27;,\n",
       "                 ColumnTransformer(remainder=&#x27;passthrough&#x27;,\n",
       "                                   transformers=[(&#x27;scaler&#x27;, StandardScaler(),\n",
       "                                                  [&#x27;BMI&#x27;, &#x27;PhysicalHealth&#x27;,\n",
       "                                                   &#x27;MentalHealth&#x27;, &#x27;SleepTime&#x27;,\n",
       "                                                   &#x27;AgeCategory&#x27;])])),\n",
       "                (&#x27;clf&#x27;, LogisticRegression(max_iter=10000))])</pre></div></div></div><div class=\"sk-serial\"><div class=\"sk-item sk-dashed-wrapped\"><div class=\"sk-label-container\"><div class=\"sk-label sk-toggleable\"><input class=\"sk-toggleable__control sk-hidden--visually\" id=\"sk-estimator-id-23\" type=\"checkbox\" ><label for=\"sk-estimator-id-23\" class=\"sk-toggleable__label sk-toggleable__label-arrow\">scaler: ColumnTransformer</label><div class=\"sk-toggleable__content\"><pre>ColumnTransformer(remainder=&#x27;passthrough&#x27;,\n",
       "                  transformers=[(&#x27;scaler&#x27;, StandardScaler(),\n",
       "                                 [&#x27;BMI&#x27;, &#x27;PhysicalHealth&#x27;, &#x27;MentalHealth&#x27;,\n",
       "                                  &#x27;SleepTime&#x27;, &#x27;AgeCategory&#x27;])])</pre></div></div></div><div class=\"sk-parallel\"><div class=\"sk-parallel-item\"><div class=\"sk-item\"><div class=\"sk-label-container\"><div class=\"sk-label sk-toggleable\"><input class=\"sk-toggleable__control sk-hidden--visually\" id=\"sk-estimator-id-24\" type=\"checkbox\" ><label for=\"sk-estimator-id-24\" class=\"sk-toggleable__label sk-toggleable__label-arrow\">scaler</label><div class=\"sk-toggleable__content\"><pre>[&#x27;BMI&#x27;, &#x27;PhysicalHealth&#x27;, &#x27;MentalHealth&#x27;, &#x27;SleepTime&#x27;, &#x27;AgeCategory&#x27;]</pre></div></div></div><div class=\"sk-serial\"><div class=\"sk-item\"><div class=\"sk-estimator sk-toggleable\"><input class=\"sk-toggleable__control sk-hidden--visually\" id=\"sk-estimator-id-25\" type=\"checkbox\" ><label for=\"sk-estimator-id-25\" class=\"sk-toggleable__label sk-toggleable__label-arrow\">StandardScaler</label><div class=\"sk-toggleable__content\"><pre>StandardScaler()</pre></div></div></div></div></div></div><div class=\"sk-parallel-item\"><div class=\"sk-item\"><div class=\"sk-label-container\"><div class=\"sk-label sk-toggleable\"><input class=\"sk-toggleable__control sk-hidden--visually\" id=\"sk-estimator-id-26\" type=\"checkbox\" ><label for=\"sk-estimator-id-26\" class=\"sk-toggleable__label sk-toggleable__label-arrow\">remainder</label><div class=\"sk-toggleable__content\"><pre>[&#x27;Race_White&#x27;, &#x27;Smoking_Yes&#x27;, &#x27;DiffWalking_Yes&#x27;, &#x27;GenHealth_Fair&#x27;, &#x27;GenHealth_Good&#x27;, &#x27;GenHealth_Poor&#x27;, &#x27;GenHealth_Very good&#x27;, &#x27;Asthma_Yes&#x27;, &#x27;Sex_Male&#x27;, &#x27;PhysicalActivity_Yes&#x27;, &#x27;AlcoholDrinking_Yes&#x27;, &#x27;KidneyDisease_Yes&#x27;, &#x27;SkinCancer_Yes&#x27;, &#x27;Stroke_Yes&#x27;, &#x27;Diabetic_No, borderline diabetes&#x27;, &#x27;Diabetic_Yes&#x27;, &#x27;Diabetic_Yes (during pregnancy)&#x27;]</pre></div></div></div><div class=\"sk-serial\"><div class=\"sk-item\"><div class=\"sk-estimator sk-toggleable\"><input class=\"sk-toggleable__control sk-hidden--visually\" id=\"sk-estimator-id-27\" type=\"checkbox\" ><label for=\"sk-estimator-id-27\" class=\"sk-toggleable__label sk-toggleable__label-arrow\">passthrough</label><div class=\"sk-toggleable__content\"><pre>passthrough</pre></div></div></div></div></div></div></div></div><div class=\"sk-item\"><div class=\"sk-estimator sk-toggleable\"><input class=\"sk-toggleable__control sk-hidden--visually\" id=\"sk-estimator-id-28\" type=\"checkbox\" ><label for=\"sk-estimator-id-28\" class=\"sk-toggleable__label sk-toggleable__label-arrow\">LogisticRegression</label><div class=\"sk-toggleable__content\"><pre>LogisticRegression(max_iter=10000)</pre></div></div></div></div></div></div></div>"
      ],
      "text/plain": [
       "Pipeline(steps=[('scaler',\n",
       "                 ColumnTransformer(remainder='passthrough',\n",
       "                                   transformers=[('scaler', StandardScaler(),\n",
       "                                                  ['BMI', 'PhysicalHealth',\n",
       "                                                   'MentalHealth', 'SleepTime',\n",
       "                                                   'AgeCategory'])])),\n",
       "                ('clf', LogisticRegression(max_iter=10000))])"
      ]
     },
     "execution_count": 174,
     "metadata": {},
     "output_type": "execute_result"
    }
   ],
   "source": [
    "scaler = ColumnTransformer(\n",
    "    [('scaler', StandardScaler(), continuous_features)], remainder='passthrough')\n",
    "\n",
    "whitebox_model = Pipeline(steps=[('scaler', scaler), ('clf', LogisticRegression(max_iter=10000))])\n",
    "\n",
    "whitebox_model.fit(train_processed, train_target)"
   ]
  },
  {
   "cell_type": "markdown",
   "id": "d4bbdf33",
   "metadata": {},
   "source": [
    "## Validation & Equalized Odds"
   ]
  },
  {
   "cell_type": "code",
   "execution_count": 175,
   "id": "3d150975",
   "metadata": {},
   "outputs": [
    {
     "name": "stdout",
     "output_type": "stream",
     "text": [
      "              precision    recall  f1-score   support\n",
      "\n",
      "           0       0.92      0.99      0.95     36506\n",
      "           1       0.55      0.11      0.19      3609\n",
      "\n",
      "    accuracy                           0.91     40115\n",
      "   macro avg       0.73      0.55      0.57     40115\n",
      "weighted avg       0.89      0.91      0.88     40115\n",
      "\n",
      "A                              TPR   FPR  \n",
      "------------------------------------------\n",
      "Black                          0.07  0.01 \n",
      "White                          0.12  0.01 \n",
      "All                            0.11  0.01 \n",
      "[[0.11388196 0.88611804]\n",
      " [0.00925875 0.99074125]]\n"
     ]
    }
   ],
   "source": [
    "y_pred_whitebox = whitebox_model.predict(val_processed)\n",
    "y_pred_proba_whitebox = whitebox_model.predict_proba(val_processed)\n",
    "\n",
    "print(classification_report(val_target, y_pred_whitebox))\n",
    "print(utils.classification_report(val_target, y_pred_whitebox, val_race))\n",
    "print(confusion_matrix(val_target, y_pred_whitebox, normalize='true', labels=[1, 0]))"
   ]
  },
  {
   "cell_type": "code",
   "execution_count": 176,
   "id": "b9a1b360",
   "metadata": {},
   "outputs": [],
   "source": [
    "def equalized_odds(preds, groups, test):\n",
    "    df = pd.DataFrame(list(zip(preds, groups, test)), columns=['preds', 'groups', 'test'])\n",
    "    targets = df['test'].unique()\n",
    "    groups = df['groups'].unique()\n",
    "    labels = []\n",
    "    y = []\n",
    "    \n",
    "    for target in targets:\n",
    "        temp_labels = []\n",
    "        temp_y = []\n",
    "        for group in groups:\n",
    "            selection = df.loc[(df['test'] == target) & (df['groups'] == group)]\n",
    "            corrects = selection.loc[selection['preds'] == target]\n",
    "            score = round(len(corrects) / len(selection), 3)\n",
    "            temp_labels.append(f'T: {target}, G: {group}')\n",
    "            temp_y.append(score)\n",
    "        labels.append(temp_labels)\n",
    "        y.append(temp_y)\n",
    "    \n",
    "\n",
    "    \n",
    "    # PLOTTING\n",
    "    fig, ax = plt.subplots(figsize=(8,6), sharey=True)\n",
    "    \n",
    "    x = np.arange(len(groups))  # the label locations\n",
    "    x = np.array([i*2 for i in x])\n",
    "    width = 0.8\n",
    "    \n",
    "    rects1 = ax.bar(x - width/2, y[0], width, label='No') #0\n",
    "    rects2 = ax.bar(x + width/2, y[1], width, label='Yes') #1\n",
    "    \n",
    "    # Add some text for labels, title and custom x-axis tick labels, etc.\n",
    "    ax.set_ylabel('Score')\n",
    "    ax.set_title('Scores by group and target')\n",
    "    ax.set_xticks(x, groups, rotation=10)\n",
    "    ax.legend(bbox_to_anchor=(1.01, 1), loc=2, borderaxespad=0.)\n",
    "    \n",
    "    ax.bar_label(rects1, padding=3)\n",
    "    ax.bar_label(rects2, padding=3)\n",
    "\n",
    "    plt.tight_layout()\n",
    "    plt.show()"
   ]
  },
  {
   "cell_type": "code",
   "execution_count": 177,
   "id": "d743c7ff",
   "metadata": {},
   "outputs": [
    {
     "data": {
      "image/png": "[encoded data removed]",
      "text/plain": [
       "<Figure size 576x432 with 1 Axes>"
      ]
     },
     "metadata": {
      "needs_background": "light"
     },
     "output_type": "display_data"
    }
   ],
   "source": [
    "equalized_odds(y_pred_whitebox, val_race, val_target)"
   ]
  },
  {
   "cell_type": "markdown",
   "id": "c258525d",
   "metadata": {},
   "source": [
    "### Roc curve\n"
   ]
  },
  {
   "cell_type": "code",
   "execution_count": 178,
   "id": "40fd6e5f",
   "metadata": {},
   "outputs": [
    {
     "data": {
      "text/plain": [
       "<matplotlib.legend.Legend at 0x7fa49e715d60>"
      ]
     },
     "execution_count": 178,
     "metadata": {},
     "output_type": "execute_result"
    },
    {
     "data": {
      "image/png": "[encoded data removed]",
      "text/plain": [
       "<Figure size 720x720 with 1 Axes>"
      ]
     },
     "metadata": {
      "needs_background": "light"
     },
     "output_type": "display_data"
    }
   ],
   "source": [
    "races = [\"White\", \"Black\"] #need to include last race\n",
    "\n",
    "fix, ax = plt.subplots(figsize=(10,10))\n",
    "parameters = {\"fpr\": [], \"tpr\": [], \"threshold\": []}\n",
    "\n",
    "for i in val_processed[\"Race_White\"].unique():\n",
    "    y_score = y_pred_proba_whitebox[val_processed[\"Race_White\"]==i]\n",
    "    fpr, tpr, threshold = roc_curve(val_target[val_processed[\"Race_White\"]==i], y_score[:, 1], drop_intermediate=False)\n",
    "    roc_auc = auc(fpr, tpr)\n",
    "    \n",
    "    ax.plot(\n",
    "        fpr,\n",
    "        tpr,\n",
    "        lw=1,\n",
    "        label=f\"ROC curve {i} (area = %0.2f)\" % roc_auc)\n",
    "    parameters[\"fpr\"].append(fpr)\n",
    "    parameters[\"tpr\"].append(tpr)\n",
    "    parameters[\"threshold\"].append(threshold)\n",
    "    \n",
    "plt.vlines(0.35, 0, 1) #example of desired fpr\n",
    "plt.legend()"
   ]
  },
  {
   "cell_type": "code",
   "execution_count": 179,
   "id": "d7404b28",
   "metadata": {},
   "outputs": [],
   "source": [
    "def find_thresholds(parameters, i, fpr_goal=0.35):\n",
    "    threshold = parameters[\"threshold\"][i]\n",
    "    fpr = parameters[\"fpr\"][i]\n",
    "    \n",
    "    idx = np.argmin(abs(fpr_goal - parameters[\"fpr\"][i]))\n",
    "    threshold = parameters[\"threshold\"][i][idx]\n",
    "    \n",
    "    return threshold"
   ]
  },
  {
   "cell_type": "code",
   "execution_count": 180,
   "id": "60d35bb0",
   "metadata": {},
   "outputs": [
    {
     "name": "stdout",
     "output_type": "stream",
     "text": [
      "0.06624852769216266 0.05431522517974116\n"
     ]
    }
   ],
   "source": [
    "races = [\"White\", \"Black\"]\n",
    "\n",
    "white_threshold = find_thresholds(parameters, 0)\n",
    "black_threshold = find_thresholds(parameters, 1)\n",
    "\n",
    "\n",
    "print(white_threshold, black_threshold)"
   ]
  },
  {
   "cell_type": "code",
   "execution_count": 181,
   "id": "39b0be7b",
   "metadata": {},
   "outputs": [],
   "source": [
    "# Re-calculate fairness metrics (equalized odds) with new thresholds\n",
    "# this could be done with more races\n",
    "\n",
    "y_pred_fair = list()\n",
    "for race, proba in zip(val_original['Race'], y_pred_proba_whitebox[:,1]):\n",
    "    if race == \"White\":\n",
    "        y_pred_fair.append(1 if proba >= white_threshold else 0)\n",
    "    elif race == \"Black\":\n",
    "        y_pred_fair.append(1 if proba >= black_threshold else 0)\n",
    "y_pred_fair = np.array(y_pred_fair)"
   ]
  },
  {
   "cell_type": "code",
   "execution_count": 182,
   "id": "14308d4a",
   "metadata": {},
   "outputs": [
    {
     "data": {
      "image/png": "[encoded data removed]",
      "text/plain": [
       "<Figure size 576x432 with 1 Axes>"
      ]
     },
     "metadata": {
      "needs_background": "light"
     },
     "output_type": "display_data"
    }
   ],
   "source": [
    "equalized_odds(y_pred_fair, val_race, val_target)"
   ]
  },
  {
   "cell_type": "code",
   "execution_count": 183,
   "id": "e08e4426",
   "metadata": {},
   "outputs": [
    {
     "name": "stdout",
     "output_type": "stream",
     "text": [
      "              precision    recall  f1-score   support\n",
      "\n",
      "           0       0.98      0.65      0.78     36506\n",
      "           1       0.20      0.86      0.32      3609\n",
      "\n",
      "    accuracy                           0.67     40115\n",
      "   macro avg       0.59      0.75      0.55     40115\n",
      "weighted avg       0.91      0.67      0.74     40115\n",
      "\n",
      "A                              TPR   FPR  \n",
      "------------------------------------------\n",
      "Black                          0.86  0.35 \n",
      "White                          0.86  0.35 \n",
      "All                            0.86  0.35 \n",
      "[[0.85979496 0.14020504]\n",
      " [0.34999726 0.65000274]]\n"
     ]
    }
   ],
   "source": [
    "print(classification_report(val_target, y_pred_fair))\n",
    "print(utils.classification_report(val_target, y_pred_fair, val_race))\n",
    "print(confusion_matrix(val_target, y_pred_fair, normalize='true', labels=[1, 0]))"
   ]
  },
  {
   "cell_type": "markdown",
   "id": "0faf128e",
   "metadata": {},
   "source": [
    "# Test set"
   ]
  },
  {
   "cell_type": "code",
   "execution_count": 184,
   "id": "316337f2",
   "metadata": {},
   "outputs": [],
   "source": [
    "y_pred_whitebox = whitebox_model.predict(test_processed)\n",
    "y_pred_proba_whitebox = whitebox_model.predict_proba(test_processed)"
   ]
  },
  {
   "cell_type": "code",
   "execution_count": 185,
   "id": "92e43580",
   "metadata": {},
   "outputs": [
    {
     "name": "stdout",
     "output_type": "stream",
     "text": [
      "              precision    recall  f1-score   support\n",
      "\n",
      "           0       0.92      0.99      0.95     36590\n",
      "           1       0.54      0.11      0.18      3643\n",
      "\n",
      "    accuracy                           0.91     40233\n",
      "   macro avg       0.73      0.55      0.57     40233\n",
      "weighted avg       0.88      0.91      0.88     40233\n",
      "\n",
      "A                              TPR   FPR  \n",
      "------------------------------------------\n",
      "Black                          0.11  0.01 \n",
      "White                          0.11  0.01 \n",
      "All                            0.11  0.01 \n",
      "[[0.10842712 0.89157288]\n",
      " [0.00915551 0.99084449]]\n"
     ]
    }
   ],
   "source": [
    "print(classification_report(test_target, y_pred_whitebox))\n",
    "print(utils.classification_report(test_target, y_pred_whitebox, test_race))\n",
    "print(confusion_matrix(test_target, y_pred_whitebox, normalize='true', labels=[1, 0]))"
   ]
  },
  {
   "cell_type": "code",
   "execution_count": 186,
   "id": "6efd892c",
   "metadata": {},
   "outputs": [],
   "source": [
    "y_pred_fair = list()\n",
    "for race, proba in zip(test_original['Race'], y_pred_proba_whitebox[:,1]):\n",
    "    if race == \"White\":\n",
    "        y_pred_fair.append(1 if proba >= white_threshold else 0)\n",
    "    elif race == \"Black\":\n",
    "        y_pred_fair.append(1 if proba >= black_threshold else 0)\n",
    "y_pred_fair = np.array(y_pred_fair)"
   ]
  },
  {
   "cell_type": "code",
   "execution_count": 187,
   "id": "592adf61",
   "metadata": {},
   "outputs": [
    {
     "data": {
      "image/png": "[encoded data removed]",
      "text/plain": [
       "<Figure size 576x432 with 1 Axes>"
      ]
     },
     "metadata": {
      "needs_background": "light"
     },
     "output_type": "display_data"
    }
   ],
   "source": [
    "equalized_odds(y_pred_fair, test_race, test_target)"
   ]
  },
  {
   "cell_type": "code",
   "execution_count": 188,
   "id": "e7acf0dd",
   "metadata": {},
   "outputs": [
    {
     "name": "stdout",
     "output_type": "stream",
     "text": [
      "              precision    recall  f1-score   support\n",
      "\n",
      "           0       0.98      0.65      0.78     36590\n",
      "           1       0.20      0.86      0.32      3643\n",
      "\n",
      "    accuracy                           0.67     40233\n",
      "   macro avg       0.59      0.75      0.55     40233\n",
      "weighted avg       0.91      0.67      0.74     40233\n",
      "\n",
      "A                              TPR   FPR  \n",
      "------------------------------------------\n",
      "Black                          0.83  0.33 \n",
      "White                          0.86  0.35 \n",
      "All                            0.86  0.35 \n",
      "[[0.856437   0.143563  ]\n",
      " [0.34845586 0.65154414]]\n"
     ]
    }
   ],
   "source": [
    "print(classification_report(test_target, y_pred_fair))\n",
    "print(utils.classification_report(test_target, y_pred_fair, test_race))\n",
    "print(confusion_matrix(test_target, y_pred_fair, normalize='true', labels=[1, 0]))"
   ]
  },
  {
   "cell_type": "markdown",
   "id": "2c835c75",
   "metadata": {},
   "source": [
    "# Counterfactual Tests"
   ]
  },
  {
   "cell_type": "code",
   "execution_count": 266,
   "id": "0a0cdc79",
   "metadata": {},
   "outputs": [
    {
     "data": {
      "text/html": [
       "<div>\n",
       "<style scoped>\n",
       "    .dataframe tbody tr th:only-of-type {\n",
       "        vertical-align: middle;\n",
       "    }\n",
       "\n",
       "    .dataframe tbody tr th {\n",
       "        vertical-align: top;\n",
       "    }\n",
       "\n",
       "    .dataframe thead th {\n",
       "        text-align: right;\n",
       "    }\n",
       "</style>\n",
       "<table border=\"1\" class=\"dataframe\">\n",
       "  <thead>\n",
       "    <tr style=\"text-align: right;\">\n",
       "      <th></th>\n",
       "      <th>BMI</th>\n",
       "      <th>PhysicalHealth</th>\n",
       "      <th>MentalHealth</th>\n",
       "      <th>SleepTime</th>\n",
       "      <th>AgeCategory</th>\n",
       "      <th>Race_White</th>\n",
       "      <th>Smoking_Yes</th>\n",
       "      <th>DiffWalking_Yes</th>\n",
       "      <th>GenHealth_Fair</th>\n",
       "      <th>GenHealth_Good</th>\n",
       "      <th>...</th>\n",
       "      <th>Asthma_Yes</th>\n",
       "      <th>Sex_Male</th>\n",
       "      <th>PhysicalActivity_Yes</th>\n",
       "      <th>AlcoholDrinking_Yes</th>\n",
       "      <th>KidneyDisease_Yes</th>\n",
       "      <th>SkinCancer_Yes</th>\n",
       "      <th>Stroke_Yes</th>\n",
       "      <th>Diabetic_No, borderline diabetes</th>\n",
       "      <th>Diabetic_Yes</th>\n",
       "      <th>Diabetic_Yes (during pregnancy)</th>\n",
       "    </tr>\n",
       "  </thead>\n",
       "  <tbody>\n",
       "    <tr>\n",
       "      <th>0</th>\n",
       "      <td>45.33</td>\n",
       "      <td>0.0</td>\n",
       "      <td>0.0</td>\n",
       "      <td>8.0</td>\n",
       "      <td>67.0</td>\n",
       "      <td>1.0</td>\n",
       "      <td>1.0</td>\n",
       "      <td>0.0</td>\n",
       "      <td>1.0</td>\n",
       "      <td>0.0</td>\n",
       "      <td>...</td>\n",
       "      <td>0.0</td>\n",
       "      <td>1.0</td>\n",
       "      <td>1.0</td>\n",
       "      <td>0.0</td>\n",
       "      <td>0.0</td>\n",
       "      <td>0.0</td>\n",
       "      <td>0.0</td>\n",
       "      <td>0.0</td>\n",
       "      <td>1.0</td>\n",
       "      <td>0.0</td>\n",
       "    </tr>\n",
       "  </tbody>\n",
       "</table>\n",
       "<p>1 rows × 22 columns</p>\n",
       "</div>"
      ],
      "text/plain": [
       "     BMI  PhysicalHealth  MentalHealth  SleepTime  AgeCategory  Race_White  \\\n",
       "0  45.33             0.0           0.0        8.0         67.0         1.0   \n",
       "\n",
       "   Smoking_Yes  DiffWalking_Yes  GenHealth_Fair  GenHealth_Good  ...  \\\n",
       "0          1.0              0.0             1.0             0.0  ...   \n",
       "\n",
       "   Asthma_Yes  Sex_Male  PhysicalActivity_Yes  AlcoholDrinking_Yes  \\\n",
       "0         0.0       1.0                   1.0                  0.0   \n",
       "\n",
       "   KidneyDisease_Yes  SkinCancer_Yes  Stroke_Yes  \\\n",
       "0                0.0             0.0         0.0   \n",
       "\n",
       "   Diabetic_No, borderline diabetes  Diabetic_Yes  \\\n",
       "0                               0.0           1.0   \n",
       "\n",
       "   Diabetic_Yes (during pregnancy)  \n",
       "0                              0.0  \n",
       "\n",
       "[1 rows x 22 columns]"
      ]
     },
     "execution_count": 266,
     "metadata": {},
     "output_type": "execute_result"
    }
   ],
   "source": [
    "# Example\n",
    "counter_factual_test = pd.DataFrame(test_processed.iloc[0]).T\n",
    "counter_factual_test"
   ]
  },
  {
   "cell_type": "code",
   "execution_count": 267,
   "id": "23d52393",
   "metadata": {},
   "outputs": [
    {
     "data": {
      "text/plain": [
       "array([0.63161718, 0.36838282])"
      ]
     },
     "execution_count": 267,
     "metadata": {},
     "output_type": "execute_result"
    }
   ],
   "source": [
    "y_pred_proba_whitebox[0] #this is the models probability for 0 and 1 for this row ^"
   ]
  },
  {
   "cell_type": "code",
   "execution_count": 269,
   "id": "7cc2a2be",
   "metadata": {},
   "outputs": [
    {
     "data": {
      "text/plain": [
       "array([[ True,  True]])"
      ]
     },
     "execution_count": 269,
     "metadata": {},
     "output_type": "execute_result"
    }
   ],
   "source": [
    "whitebox_model.predict_proba(counter_factual_test) == y_pred_proba_whitebox[0]"
   ]
  },
  {
   "cell_type": "code",
   "execution_count": 270,
   "id": "fbbd0813",
   "metadata": {},
   "outputs": [],
   "source": [
    "# changing the DiffWalking_Yes\n",
    "counter_factual_test[\"DiffWalking_Yes\"] = 1.0"
   ]
  },
  {
   "cell_type": "code",
   "execution_count": 272,
   "id": "215e8d28",
   "metadata": {},
   "outputs": [
    {
     "data": {
      "text/plain": [
       "array([[0.5792354, 0.4207646]])"
      ]
     },
     "execution_count": 272,
     "metadata": {},
     "output_type": "execute_result"
    }
   ],
   "source": [
    "whitebox_model.predict_proba(counter_factual_test) #probability of heartdisease increases as expected"
   ]
  },
  {
   "cell_type": "markdown",
   "id": "9b0facd4",
   "metadata": {},
   "source": [
    "    Now trying to change the race"
   ]
  },
  {
   "cell_type": "code",
   "execution_count": 275,
   "id": "848ef685",
   "metadata": {},
   "outputs": [],
   "source": [
    "counter_factual_test[\"DiffWalking_Yes\"] = 0 #changing it back for this experiment\n",
    "counter_factual_test[\"Race_White\"] = 0"
   ]
  },
  {
   "cell_type": "code",
   "execution_count": 277,
   "id": "6b9b6cfc",
   "metadata": {},
   "outputs": [
    {
     "data": {
      "text/plain": [
       "array([[0.68773385, 0.31226615]])"
      ]
     },
     "execution_count": 277,
     "metadata": {},
     "output_type": "execute_result"
    }
   ],
   "source": [
    "proba = whitebox_model.predict_proba(counter_factual_test) #we see a less change of heartdisease\n",
    "proba"
   ]
  },
  {
   "cell_type": "code",
   "execution_count": 280,
   "id": "45969d94",
   "metadata": {},
   "outputs": [
    {
     "data": {
      "text/plain": [
       "1"
      ]
     },
     "execution_count": 280,
     "metadata": {},
     "output_type": "execute_result"
    }
   ],
   "source": [
    "1 if proba[:, 1] >= black_threshold else 0 #however, the check to ensure equalized odds does it thing"
   ]
  },
  {
   "cell_type": "code",
   "execution_count": null,
   "id": "27cb848f",
   "metadata": {},
   "outputs": [],
   "source": []
  },
  {
   "cell_type": "markdown",
   "id": "c5810a47",
   "metadata": {},
   "source": [
    "    Testing some edge cases near the probability thresholds"
   ]
  },
  {
   "cell_type": "code",
   "execution_count": 406,
   "id": "fd55f688",
   "metadata": {},
   "outputs": [],
   "source": [
    "arr = y_pred_proba_whitebox"
   ]
  },
  {
   "cell_type": "code",
   "execution_count": 407,
   "id": "ac87aacf",
   "metadata": {},
   "outputs": [
    {
     "data": {
      "text/plain": [
       "array([10339, 13154, 24402, 30603])"
      ]
     },
     "execution_count": 407,
     "metadata": {},
     "output_type": "execute_result"
    }
   ],
   "source": [
    "indexes = np.where(abs(arr-white_threshold) < 0.00001)[0] #0 is indexes of the array\n",
    "indexes"
   ]
  },
  {
   "cell_type": "code",
   "execution_count": 408,
   "id": "f6a627f8",
   "metadata": {},
   "outputs": [
    {
     "data": {
      "text/html": [
       "<div>\n",
       "<style scoped>\n",
       "    .dataframe tbody tr th:only-of-type {\n",
       "        vertical-align: middle;\n",
       "    }\n",
       "\n",
       "    .dataframe tbody tr th {\n",
       "        vertical-align: top;\n",
       "    }\n",
       "\n",
       "    .dataframe thead th {\n",
       "        text-align: right;\n",
       "    }\n",
       "</style>\n",
       "<table border=\"1\" class=\"dataframe\">\n",
       "  <thead>\n",
       "    <tr style=\"text-align: right;\">\n",
       "      <th></th>\n",
       "      <th>BMI</th>\n",
       "      <th>PhysicalHealth</th>\n",
       "      <th>MentalHealth</th>\n",
       "      <th>SleepTime</th>\n",
       "      <th>AgeCategory</th>\n",
       "      <th>Race_White</th>\n",
       "      <th>Smoking_Yes</th>\n",
       "      <th>DiffWalking_Yes</th>\n",
       "      <th>GenHealth_Fair</th>\n",
       "      <th>GenHealth_Good</th>\n",
       "      <th>GenHealth_Poor</th>\n",
       "      <th>GenHealth_Very good</th>\n",
       "      <th>Asthma_Yes</th>\n",
       "      <th>Sex_Male</th>\n",
       "      <th>PhysicalActivity_Yes</th>\n",
       "      <th>AlcoholDrinking_Yes</th>\n",
       "      <th>KidneyDisease_Yes</th>\n",
       "      <th>SkinCancer_Yes</th>\n",
       "      <th>Stroke_Yes</th>\n",
       "      <th>Diabetic_No, borderline diabetes</th>\n",
       "      <th>Diabetic_Yes</th>\n",
       "      <th>Diabetic_Yes (during pregnancy)</th>\n",
       "    </tr>\n",
       "  </thead>\n",
       "  <tbody>\n",
       "    <tr>\n",
       "      <th>12278</th>\n",
       "      <td>21.79</td>\n",
       "      <td>0.0</td>\n",
       "      <td>0.0</td>\n",
       "      <td>6.0</td>\n",
       "      <td>80.0</td>\n",
       "      <td>1</td>\n",
       "      <td>0</td>\n",
       "      <td>0</td>\n",
       "      <td>0</td>\n",
       "      <td>0</td>\n",
       "      <td>0</td>\n",
       "      <td>1</td>\n",
       "      <td>0</td>\n",
       "      <td>0</td>\n",
       "      <td>1</td>\n",
       "      <td>0</td>\n",
       "      <td>0</td>\n",
       "      <td>0</td>\n",
       "      <td>0</td>\n",
       "      <td>0</td>\n",
       "      <td>0</td>\n",
       "      <td>0</td>\n",
       "    </tr>\n",
       "    <tr>\n",
       "      <th>15607</th>\n",
       "      <td>32.28</td>\n",
       "      <td>0.0</td>\n",
       "      <td>0.0</td>\n",
       "      <td>8.0</td>\n",
       "      <td>72.0</td>\n",
       "      <td>1</td>\n",
       "      <td>0</td>\n",
       "      <td>0</td>\n",
       "      <td>0</td>\n",
       "      <td>0</td>\n",
       "      <td>0</td>\n",
       "      <td>1</td>\n",
       "      <td>1</td>\n",
       "      <td>0</td>\n",
       "      <td>1</td>\n",
       "      <td>0</td>\n",
       "      <td>0</td>\n",
       "      <td>0</td>\n",
       "      <td>0</td>\n",
       "      <td>1</td>\n",
       "      <td>0</td>\n",
       "      <td>0</td>\n",
       "    </tr>\n",
       "    <tr>\n",
       "      <th>29045</th>\n",
       "      <td>28.97</td>\n",
       "      <td>0.0</td>\n",
       "      <td>20.0</td>\n",
       "      <td>7.0</td>\n",
       "      <td>62.0</td>\n",
       "      <td>1</td>\n",
       "      <td>1</td>\n",
       "      <td>0</td>\n",
       "      <td>0</td>\n",
       "      <td>1</td>\n",
       "      <td>0</td>\n",
       "      <td>0</td>\n",
       "      <td>0</td>\n",
       "      <td>0</td>\n",
       "      <td>0</td>\n",
       "      <td>0</td>\n",
       "      <td>0</td>\n",
       "      <td>0</td>\n",
       "      <td>0</td>\n",
       "      <td>0</td>\n",
       "      <td>0</td>\n",
       "      <td>0</td>\n",
       "    </tr>\n",
       "    <tr>\n",
       "      <th>36494</th>\n",
       "      <td>27.12</td>\n",
       "      <td>0.0</td>\n",
       "      <td>0.0</td>\n",
       "      <td>8.0</td>\n",
       "      <td>67.0</td>\n",
       "      <td>1</td>\n",
       "      <td>0</td>\n",
       "      <td>0</td>\n",
       "      <td>0</td>\n",
       "      <td>0</td>\n",
       "      <td>0</td>\n",
       "      <td>1</td>\n",
       "      <td>0</td>\n",
       "      <td>1</td>\n",
       "      <td>1</td>\n",
       "      <td>0</td>\n",
       "      <td>0</td>\n",
       "      <td>0</td>\n",
       "      <td>0</td>\n",
       "      <td>0</td>\n",
       "      <td>0</td>\n",
       "      <td>0</td>\n",
       "    </tr>\n",
       "  </tbody>\n",
       "</table>\n",
       "</div>"
      ],
      "text/plain": [
       "         BMI  PhysicalHealth  MentalHealth  SleepTime  AgeCategory  \\\n",
       "12278  21.79             0.0           0.0        6.0         80.0   \n",
       "15607  32.28             0.0           0.0        8.0         72.0   \n",
       "29045  28.97             0.0          20.0        7.0         62.0   \n",
       "36494  27.12             0.0           0.0        8.0         67.0   \n",
       "\n",
       "       Race_White  Smoking_Yes  DiffWalking_Yes  GenHealth_Fair  \\\n",
       "12278           1            0                0               0   \n",
       "15607           1            0                0               0   \n",
       "29045           1            1                0               0   \n",
       "36494           1            0                0               0   \n",
       "\n",
       "       GenHealth_Good  GenHealth_Poor  GenHealth_Very good  Asthma_Yes  \\\n",
       "12278               0               0                    1           0   \n",
       "15607               0               0                    1           1   \n",
       "29045               1               0                    0           0   \n",
       "36494               0               0                    1           0   \n",
       "\n",
       "       Sex_Male  PhysicalActivity_Yes  AlcoholDrinking_Yes  KidneyDisease_Yes  \\\n",
       "12278         0                     1                    0                  0   \n",
       "15607         0                     1                    0                  0   \n",
       "29045         0                     0                    0                  0   \n",
       "36494         1                     1                    0                  0   \n",
       "\n",
       "       SkinCancer_Yes  Stroke_Yes  Diabetic_No, borderline diabetes  \\\n",
       "12278               0           0                                 0   \n",
       "15607               0           0                                 1   \n",
       "29045               0           0                                 0   \n",
       "36494               0           0                                 0   \n",
       "\n",
       "       Diabetic_Yes  Diabetic_Yes (during pregnancy)  \n",
       "12278             0                                0  \n",
       "15607             0                                0  \n",
       "29045             0                                0  \n",
       "36494             0                                0  "
      ]
     },
     "execution_count": 408,
     "metadata": {},
     "output_type": "execute_result"
    }
   ],
   "source": [
    "df2 = test_processed.iloc[indexes].copy()\n",
    "df2"
   ]
  },
  {
   "cell_type": "code",
   "execution_count": 409,
   "id": "71f75d9d",
   "metadata": {},
   "outputs": [
    {
     "data": {
      "text/plain": [
       "array([0, 0, 0, 0])"
      ]
     },
     "execution_count": 409,
     "metadata": {},
     "output_type": "execute_result"
    }
   ],
   "source": [
    "test_target[indexes] #none of these have heartdisease!"
   ]
  },
  {
   "cell_type": "code",
   "execution_count": 410,
   "id": "2be28c67",
   "metadata": {},
   "outputs": [
    {
     "data": {
      "text/plain": [
       "array([[0.93375618, 0.06624382],\n",
       "       [0.93375549, 0.06624451],\n",
       "       [0.93374343, 0.06625657],\n",
       "       [0.93375313, 0.06624687]])"
      ]
     },
     "execution_count": 410,
     "metadata": {},
     "output_type": "execute_result"
    }
   ],
   "source": [
    "proba = whitebox_model.predict_proba(df2) #model predicts just that\n",
    "proba"
   ]
  },
  {
   "cell_type": "code",
   "execution_count": 411,
   "id": "a8032b27",
   "metadata": {},
   "outputs": [
    {
     "data": {
      "text/plain": [
       "(0.06624852769216266, 0.05431522517974116)"
      ]
     },
     "execution_count": 411,
     "metadata": {},
     "output_type": "execute_result"
    }
   ],
   "source": [
    "white_threshold, black_threshold"
   ]
  },
  {
   "cell_type": "code",
   "execution_count": 412,
   "id": "f3f5a14d",
   "metadata": {},
   "outputs": [
    {
     "name": "stdout",
     "output_type": "stream",
     "text": [
      "0\n",
      "0\n",
      "1\n",
      "0\n"
     ]
    }
   ],
   "source": [
    "for prob in proba[:,1]:\n",
    "    print(1 if prob >= white_threshold else 0) #the threshold predicts one of them to have heartdisease!"
   ]
  },
  {
   "cell_type": "code",
   "execution_count": 387,
   "id": "ed0aa5de",
   "metadata": {},
   "outputs": [],
   "source": [
    "df2.at[36494, \"GenHealth_Very good\"] = 0 #changing last person's healthcondition"
   ]
  },
  {
   "cell_type": "code",
   "execution_count": 388,
   "id": "c22b5a23",
   "metadata": {},
   "outputs": [],
   "source": [
    "df2.at[36494, \"GenHealth_Good\"] = 1"
   ]
  },
  {
   "cell_type": "code",
   "execution_count": 389,
   "id": "1eeeea9e",
   "metadata": {},
   "outputs": [
    {
     "data": {
      "text/html": [
       "<div>\n",
       "<style scoped>\n",
       "    .dataframe tbody tr th:only-of-type {\n",
       "        vertical-align: middle;\n",
       "    }\n",
       "\n",
       "    .dataframe tbody tr th {\n",
       "        vertical-align: top;\n",
       "    }\n",
       "\n",
       "    .dataframe thead th {\n",
       "        text-align: right;\n",
       "    }\n",
       "</style>\n",
       "<table border=\"1\" class=\"dataframe\">\n",
       "  <thead>\n",
       "    <tr style=\"text-align: right;\">\n",
       "      <th></th>\n",
       "      <th>BMI</th>\n",
       "      <th>PhysicalHealth</th>\n",
       "      <th>MentalHealth</th>\n",
       "      <th>SleepTime</th>\n",
       "      <th>AgeCategory</th>\n",
       "      <th>Race_White</th>\n",
       "      <th>Smoking_Yes</th>\n",
       "      <th>DiffWalking_Yes</th>\n",
       "      <th>GenHealth_Fair</th>\n",
       "      <th>GenHealth_Good</th>\n",
       "      <th>GenHealth_Poor</th>\n",
       "      <th>GenHealth_Very good</th>\n",
       "      <th>Asthma_Yes</th>\n",
       "      <th>Sex_Male</th>\n",
       "      <th>PhysicalActivity_Yes</th>\n",
       "      <th>AlcoholDrinking_Yes</th>\n",
       "      <th>KidneyDisease_Yes</th>\n",
       "      <th>SkinCancer_Yes</th>\n",
       "      <th>Stroke_Yes</th>\n",
       "      <th>Diabetic_No, borderline diabetes</th>\n",
       "      <th>Diabetic_Yes</th>\n",
       "      <th>Diabetic_Yes (during pregnancy)</th>\n",
       "      <th>GenHealth_VeryGood</th>\n",
       "    </tr>\n",
       "  </thead>\n",
       "  <tbody>\n",
       "    <tr>\n",
       "      <th>12278</th>\n",
       "      <td>21.79</td>\n",
       "      <td>0.0</td>\n",
       "      <td>0.0</td>\n",
       "      <td>6.0</td>\n",
       "      <td>80.0</td>\n",
       "      <td>1</td>\n",
       "      <td>0</td>\n",
       "      <td>0</td>\n",
       "      <td>0</td>\n",
       "      <td>0</td>\n",
       "      <td>0</td>\n",
       "      <td>1</td>\n",
       "      <td>0</td>\n",
       "      <td>0</td>\n",
       "      <td>1</td>\n",
       "      <td>0</td>\n",
       "      <td>0</td>\n",
       "      <td>0</td>\n",
       "      <td>0</td>\n",
       "      <td>0</td>\n",
       "      <td>0</td>\n",
       "      <td>0</td>\n",
       "      <td>NaN</td>\n",
       "    </tr>\n",
       "    <tr>\n",
       "      <th>15607</th>\n",
       "      <td>32.28</td>\n",
       "      <td>0.0</td>\n",
       "      <td>0.0</td>\n",
       "      <td>8.0</td>\n",
       "      <td>72.0</td>\n",
       "      <td>1</td>\n",
       "      <td>0</td>\n",
       "      <td>0</td>\n",
       "      <td>0</td>\n",
       "      <td>0</td>\n",
       "      <td>0</td>\n",
       "      <td>1</td>\n",
       "      <td>1</td>\n",
       "      <td>0</td>\n",
       "      <td>1</td>\n",
       "      <td>0</td>\n",
       "      <td>0</td>\n",
       "      <td>0</td>\n",
       "      <td>0</td>\n",
       "      <td>1</td>\n",
       "      <td>0</td>\n",
       "      <td>0</td>\n",
       "      <td>NaN</td>\n",
       "    </tr>\n",
       "    <tr>\n",
       "      <th>29045</th>\n",
       "      <td>28.97</td>\n",
       "      <td>0.0</td>\n",
       "      <td>20.0</td>\n",
       "      <td>7.0</td>\n",
       "      <td>62.0</td>\n",
       "      <td>1</td>\n",
       "      <td>1</td>\n",
       "      <td>0</td>\n",
       "      <td>0</td>\n",
       "      <td>1</td>\n",
       "      <td>0</td>\n",
       "      <td>0</td>\n",
       "      <td>0</td>\n",
       "      <td>0</td>\n",
       "      <td>0</td>\n",
       "      <td>0</td>\n",
       "      <td>0</td>\n",
       "      <td>0</td>\n",
       "      <td>0</td>\n",
       "      <td>0</td>\n",
       "      <td>0</td>\n",
       "      <td>0</td>\n",
       "      <td>NaN</td>\n",
       "    </tr>\n",
       "    <tr>\n",
       "      <th>36494</th>\n",
       "      <td>27.12</td>\n",
       "      <td>0.0</td>\n",
       "      <td>0.0</td>\n",
       "      <td>8.0</td>\n",
       "      <td>67.0</td>\n",
       "      <td>1</td>\n",
       "      <td>0</td>\n",
       "      <td>0</td>\n",
       "      <td>0</td>\n",
       "      <td>1</td>\n",
       "      <td>0</td>\n",
       "      <td>0</td>\n",
       "      <td>0</td>\n",
       "      <td>1</td>\n",
       "      <td>1</td>\n",
       "      <td>0</td>\n",
       "      <td>0</td>\n",
       "      <td>0</td>\n",
       "      <td>0</td>\n",
       "      <td>0</td>\n",
       "      <td>0</td>\n",
       "      <td>0</td>\n",
       "      <td>0.0</td>\n",
       "    </tr>\n",
       "  </tbody>\n",
       "</table>\n",
       "</div>"
      ],
      "text/plain": [
       "         BMI  PhysicalHealth  MentalHealth  SleepTime  AgeCategory  \\\n",
       "12278  21.79             0.0           0.0        6.0         80.0   \n",
       "15607  32.28             0.0           0.0        8.0         72.0   \n",
       "29045  28.97             0.0          20.0        7.0         62.0   \n",
       "36494  27.12             0.0           0.0        8.0         67.0   \n",
       "\n",
       "       Race_White  Smoking_Yes  DiffWalking_Yes  GenHealth_Fair  \\\n",
       "12278           1            0                0               0   \n",
       "15607           1            0                0               0   \n",
       "29045           1            1                0               0   \n",
       "36494           1            0                0               0   \n",
       "\n",
       "       GenHealth_Good  GenHealth_Poor  GenHealth_Very good  Asthma_Yes  \\\n",
       "12278               0               0                    1           0   \n",
       "15607               0               0                    1           1   \n",
       "29045               1               0                    0           0   \n",
       "36494               1               0                    0           0   \n",
       "\n",
       "       Sex_Male  PhysicalActivity_Yes  AlcoholDrinking_Yes  KidneyDisease_Yes  \\\n",
       "12278         0                     1                    0                  0   \n",
       "15607         0                     1                    0                  0   \n",
       "29045         0                     0                    0                  0   \n",
       "36494         1                     1                    0                  0   \n",
       "\n",
       "       SkinCancer_Yes  Stroke_Yes  Diabetic_No, borderline diabetes  \\\n",
       "12278               0           0                                 0   \n",
       "15607               0           0                                 1   \n",
       "29045               0           0                                 0   \n",
       "36494               0           0                                 0   \n",
       "\n",
       "       Diabetic_Yes  Diabetic_Yes (during pregnancy)  GenHealth_VeryGood  \n",
       "12278             0                                0                 NaN  \n",
       "15607             0                                0                 NaN  \n",
       "29045             0                                0                 NaN  \n",
       "36494             0                                0                 0.0  "
      ]
     },
     "execution_count": 389,
     "metadata": {},
     "output_type": "execute_result"
    }
   ],
   "source": [
    "df2"
   ]
  },
  {
   "cell_type": "code",
   "execution_count": 390,
   "id": "1381fbdb",
   "metadata": {},
   "outputs": [
    {
     "data": {
      "text/plain": [
       "array([[0.93375618, 0.06624382],\n",
       "       [0.93375549, 0.06624451],\n",
       "       [0.93374343, 0.06625657],\n",
       "       [0.88588372, 0.11411628]])"
      ]
     },
     "execution_count": 390,
     "metadata": {},
     "output_type": "execute_result"
    }
   ],
   "source": [
    "proba = whitebox_model.predict_proba(df2) #model predicts just that\n",
    "proba"
   ]
  },
  {
   "cell_type": "code",
   "execution_count": 391,
   "id": "acd89b5c",
   "metadata": {},
   "outputs": [
    {
     "name": "stdout",
     "output_type": "stream",
     "text": [
      "0\n",
      "0\n",
      "1\n",
      "1\n"
     ]
    }
   ],
   "source": [
    "for prob in proba[:,1]:\n",
    "    print(1 if prob >= white_threshold else 0) #the threshold predicts one of them to have heartdisease!"
   ]
  },
  {
   "cell_type": "markdown",
   "id": "ce028316",
   "metadata": {},
   "source": [
    "    Just above we see that changing a person's health from very good to good, means that our fair approach reports that thee person has heart disease! And by a lot in probability. Also, person with index 29045 has Good Health but his probability is a lot lower? "
   ]
  },
  {
   "cell_type": "code",
   "execution_count": 393,
   "id": "3f6fe3a9",
   "metadata": {},
   "outputs": [],
   "source": [
    "pd.set_option('display.max_columns', None)"
   ]
  },
  {
   "cell_type": "code",
   "execution_count": 395,
   "id": "5f6f8055",
   "metadata": {},
   "outputs": [
    {
     "data": {
      "text/html": [
       "<div>\n",
       "<style scoped>\n",
       "    .dataframe tbody tr th:only-of-type {\n",
       "        vertical-align: middle;\n",
       "    }\n",
       "\n",
       "    .dataframe tbody tr th {\n",
       "        vertical-align: top;\n",
       "    }\n",
       "\n",
       "    .dataframe thead th {\n",
       "        text-align: right;\n",
       "    }\n",
       "</style>\n",
       "<table border=\"1\" class=\"dataframe\">\n",
       "  <thead>\n",
       "    <tr style=\"text-align: right;\">\n",
       "      <th></th>\n",
       "      <th>BMI</th>\n",
       "      <th>PhysicalHealth</th>\n",
       "      <th>MentalHealth</th>\n",
       "      <th>SleepTime</th>\n",
       "      <th>AgeCategory</th>\n",
       "      <th>Race_White</th>\n",
       "      <th>Smoking_Yes</th>\n",
       "      <th>DiffWalking_Yes</th>\n",
       "      <th>GenHealth_Fair</th>\n",
       "      <th>GenHealth_Good</th>\n",
       "      <th>GenHealth_Poor</th>\n",
       "      <th>GenHealth_Very good</th>\n",
       "      <th>Asthma_Yes</th>\n",
       "      <th>Sex_Male</th>\n",
       "      <th>PhysicalActivity_Yes</th>\n",
       "      <th>AlcoholDrinking_Yes</th>\n",
       "      <th>KidneyDisease_Yes</th>\n",
       "      <th>SkinCancer_Yes</th>\n",
       "      <th>Stroke_Yes</th>\n",
       "      <th>Diabetic_No, borderline diabetes</th>\n",
       "      <th>Diabetic_Yes</th>\n",
       "      <th>Diabetic_Yes (during pregnancy)</th>\n",
       "      <th>GenHealth_VeryGood</th>\n",
       "    </tr>\n",
       "  </thead>\n",
       "  <tbody>\n",
       "    <tr>\n",
       "      <th>29045</th>\n",
       "      <td>28.97</td>\n",
       "      <td>0.0</td>\n",
       "      <td>20.0</td>\n",
       "      <td>7.0</td>\n",
       "      <td>62.0</td>\n",
       "      <td>1.0</td>\n",
       "      <td>1.0</td>\n",
       "      <td>0.0</td>\n",
       "      <td>0.0</td>\n",
       "      <td>1.0</td>\n",
       "      <td>0.0</td>\n",
       "      <td>0.0</td>\n",
       "      <td>0.0</td>\n",
       "      <td>0.0</td>\n",
       "      <td>0.0</td>\n",
       "      <td>0.0</td>\n",
       "      <td>0.0</td>\n",
       "      <td>0.0</td>\n",
       "      <td>0.0</td>\n",
       "      <td>0.0</td>\n",
       "      <td>0.0</td>\n",
       "      <td>0.0</td>\n",
       "      <td>NaN</td>\n",
       "    </tr>\n",
       "    <tr>\n",
       "      <th>36494</th>\n",
       "      <td>27.12</td>\n",
       "      <td>0.0</td>\n",
       "      <td>0.0</td>\n",
       "      <td>8.0</td>\n",
       "      <td>67.0</td>\n",
       "      <td>1.0</td>\n",
       "      <td>0.0</td>\n",
       "      <td>0.0</td>\n",
       "      <td>0.0</td>\n",
       "      <td>1.0</td>\n",
       "      <td>0.0</td>\n",
       "      <td>0.0</td>\n",
       "      <td>0.0</td>\n",
       "      <td>1.0</td>\n",
       "      <td>1.0</td>\n",
       "      <td>0.0</td>\n",
       "      <td>0.0</td>\n",
       "      <td>0.0</td>\n",
       "      <td>0.0</td>\n",
       "      <td>0.0</td>\n",
       "      <td>0.0</td>\n",
       "      <td>0.0</td>\n",
       "      <td>0.0</td>\n",
       "    </tr>\n",
       "  </tbody>\n",
       "</table>\n",
       "</div>"
      ],
      "text/plain": [
       "         BMI  PhysicalHealth  MentalHealth  SleepTime  AgeCategory  \\\n",
       "29045  28.97             0.0          20.0        7.0         62.0   \n",
       "36494  27.12             0.0           0.0        8.0         67.0   \n",
       "\n",
       "       Race_White  Smoking_Yes  DiffWalking_Yes  GenHealth_Fair  \\\n",
       "29045         1.0          1.0              0.0             0.0   \n",
       "36494         1.0          0.0              0.0             0.0   \n",
       "\n",
       "       GenHealth_Good  GenHealth_Poor  GenHealth_Very good  Asthma_Yes  \\\n",
       "29045             1.0             0.0                  0.0         0.0   \n",
       "36494             1.0             0.0                  0.0         0.0   \n",
       "\n",
       "       Sex_Male  PhysicalActivity_Yes  AlcoholDrinking_Yes  KidneyDisease_Yes  \\\n",
       "29045       0.0                   0.0                  0.0                0.0   \n",
       "36494       1.0                   1.0                  0.0                0.0   \n",
       "\n",
       "       SkinCancer_Yes  Stroke_Yes  Diabetic_No, borderline diabetes  \\\n",
       "29045             0.0         0.0                               0.0   \n",
       "36494             0.0         0.0                               0.0   \n",
       "\n",
       "       Diabetic_Yes  Diabetic_Yes (during pregnancy)  GenHealth_VeryGood  \n",
       "29045           0.0                              0.0                 NaN  \n",
       "36494           0.0                              0.0                 0.0  "
      ]
     },
     "execution_count": 395,
     "metadata": {},
     "output_type": "execute_result"
    }
   ],
   "source": [
    "pd.DataFrame([df2.xs(29045), df2.xs(36494)]) #well, we notice that he is younger."
   ]
  },
  {
   "cell_type": "markdown",
   "id": "c6918e63",
   "metadata": {},
   "source": [
    "    changing race"
   ]
  },
  {
   "cell_type": "code",
   "execution_count": 413,
   "id": "a05d303e",
   "metadata": {},
   "outputs": [
    {
     "data": {
      "text/html": [
       "<div>\n",
       "<style scoped>\n",
       "    .dataframe tbody tr th:only-of-type {\n",
       "        vertical-align: middle;\n",
       "    }\n",
       "\n",
       "    .dataframe tbody tr th {\n",
       "        vertical-align: top;\n",
       "    }\n",
       "\n",
       "    .dataframe thead th {\n",
       "        text-align: right;\n",
       "    }\n",
       "</style>\n",
       "<table border=\"1\" class=\"dataframe\">\n",
       "  <thead>\n",
       "    <tr style=\"text-align: right;\">\n",
       "      <th></th>\n",
       "      <th>BMI</th>\n",
       "      <th>PhysicalHealth</th>\n",
       "      <th>MentalHealth</th>\n",
       "      <th>SleepTime</th>\n",
       "      <th>AgeCategory</th>\n",
       "      <th>Race_White</th>\n",
       "      <th>Smoking_Yes</th>\n",
       "      <th>DiffWalking_Yes</th>\n",
       "      <th>GenHealth_Fair</th>\n",
       "      <th>GenHealth_Good</th>\n",
       "      <th>GenHealth_Poor</th>\n",
       "      <th>GenHealth_Very good</th>\n",
       "      <th>Asthma_Yes</th>\n",
       "      <th>Sex_Male</th>\n",
       "      <th>PhysicalActivity_Yes</th>\n",
       "      <th>AlcoholDrinking_Yes</th>\n",
       "      <th>KidneyDisease_Yes</th>\n",
       "      <th>SkinCancer_Yes</th>\n",
       "      <th>Stroke_Yes</th>\n",
       "      <th>Diabetic_No, borderline diabetes</th>\n",
       "      <th>Diabetic_Yes</th>\n",
       "      <th>Diabetic_Yes (during pregnancy)</th>\n",
       "    </tr>\n",
       "  </thead>\n",
       "  <tbody>\n",
       "    <tr>\n",
       "      <th>12278</th>\n",
       "      <td>21.79</td>\n",
       "      <td>0.0</td>\n",
       "      <td>0.0</td>\n",
       "      <td>6.0</td>\n",
       "      <td>80.0</td>\n",
       "      <td>1</td>\n",
       "      <td>0</td>\n",
       "      <td>0</td>\n",
       "      <td>0</td>\n",
       "      <td>0</td>\n",
       "      <td>0</td>\n",
       "      <td>1</td>\n",
       "      <td>0</td>\n",
       "      <td>0</td>\n",
       "      <td>1</td>\n",
       "      <td>0</td>\n",
       "      <td>0</td>\n",
       "      <td>0</td>\n",
       "      <td>0</td>\n",
       "      <td>0</td>\n",
       "      <td>0</td>\n",
       "      <td>0</td>\n",
       "    </tr>\n",
       "    <tr>\n",
       "      <th>15607</th>\n",
       "      <td>32.28</td>\n",
       "      <td>0.0</td>\n",
       "      <td>0.0</td>\n",
       "      <td>8.0</td>\n",
       "      <td>72.0</td>\n",
       "      <td>1</td>\n",
       "      <td>0</td>\n",
       "      <td>0</td>\n",
       "      <td>0</td>\n",
       "      <td>0</td>\n",
       "      <td>0</td>\n",
       "      <td>1</td>\n",
       "      <td>1</td>\n",
       "      <td>0</td>\n",
       "      <td>1</td>\n",
       "      <td>0</td>\n",
       "      <td>0</td>\n",
       "      <td>0</td>\n",
       "      <td>0</td>\n",
       "      <td>1</td>\n",
       "      <td>0</td>\n",
       "      <td>0</td>\n",
       "    </tr>\n",
       "    <tr>\n",
       "      <th>29045</th>\n",
       "      <td>28.97</td>\n",
       "      <td>0.0</td>\n",
       "      <td>20.0</td>\n",
       "      <td>7.0</td>\n",
       "      <td>62.0</td>\n",
       "      <td>1</td>\n",
       "      <td>1</td>\n",
       "      <td>0</td>\n",
       "      <td>0</td>\n",
       "      <td>1</td>\n",
       "      <td>0</td>\n",
       "      <td>0</td>\n",
       "      <td>0</td>\n",
       "      <td>0</td>\n",
       "      <td>0</td>\n",
       "      <td>0</td>\n",
       "      <td>0</td>\n",
       "      <td>0</td>\n",
       "      <td>0</td>\n",
       "      <td>0</td>\n",
       "      <td>0</td>\n",
       "      <td>0</td>\n",
       "    </tr>\n",
       "    <tr>\n",
       "      <th>36494</th>\n",
       "      <td>27.12</td>\n",
       "      <td>0.0</td>\n",
       "      <td>0.0</td>\n",
       "      <td>8.0</td>\n",
       "      <td>67.0</td>\n",
       "      <td>1</td>\n",
       "      <td>0</td>\n",
       "      <td>0</td>\n",
       "      <td>0</td>\n",
       "      <td>0</td>\n",
       "      <td>0</td>\n",
       "      <td>1</td>\n",
       "      <td>0</td>\n",
       "      <td>1</td>\n",
       "      <td>1</td>\n",
       "      <td>0</td>\n",
       "      <td>0</td>\n",
       "      <td>0</td>\n",
       "      <td>0</td>\n",
       "      <td>0</td>\n",
       "      <td>0</td>\n",
       "      <td>0</td>\n",
       "    </tr>\n",
       "  </tbody>\n",
       "</table>\n",
       "</div>"
      ],
      "text/plain": [
       "         BMI  PhysicalHealth  MentalHealth  SleepTime  AgeCategory  \\\n",
       "12278  21.79             0.0           0.0        6.0         80.0   \n",
       "15607  32.28             0.0           0.0        8.0         72.0   \n",
       "29045  28.97             0.0          20.0        7.0         62.0   \n",
       "36494  27.12             0.0           0.0        8.0         67.0   \n",
       "\n",
       "       Race_White  Smoking_Yes  DiffWalking_Yes  GenHealth_Fair  \\\n",
       "12278           1            0                0               0   \n",
       "15607           1            0                0               0   \n",
       "29045           1            1                0               0   \n",
       "36494           1            0                0               0   \n",
       "\n",
       "       GenHealth_Good  GenHealth_Poor  GenHealth_Very good  Asthma_Yes  \\\n",
       "12278               0               0                    1           0   \n",
       "15607               0               0                    1           1   \n",
       "29045               1               0                    0           0   \n",
       "36494               0               0                    1           0   \n",
       "\n",
       "       Sex_Male  PhysicalActivity_Yes  AlcoholDrinking_Yes  KidneyDisease_Yes  \\\n",
       "12278         0                     1                    0                  0   \n",
       "15607         0                     1                    0                  0   \n",
       "29045         0                     0                    0                  0   \n",
       "36494         1                     1                    0                  0   \n",
       "\n",
       "       SkinCancer_Yes  Stroke_Yes  Diabetic_No, borderline diabetes  \\\n",
       "12278               0           0                                 0   \n",
       "15607               0           0                                 1   \n",
       "29045               0           0                                 0   \n",
       "36494               0           0                                 0   \n",
       "\n",
       "       Diabetic_Yes  Diabetic_Yes (during pregnancy)  \n",
       "12278             0                                0  \n",
       "15607             0                                0  \n",
       "29045             0                                0  \n",
       "36494             0                                0  "
      ]
     },
     "execution_count": 413,
     "metadata": {},
     "output_type": "execute_result"
    }
   ],
   "source": [
    "df2 = test_processed.iloc[indexes].copy()\n",
    "df2"
   ]
  },
  {
   "cell_type": "code",
   "execution_count": 414,
   "id": "29ccb90e",
   "metadata": {},
   "outputs": [
    {
     "data": {
      "text/plain": [
       "array([[0.93375618, 0.06624382],\n",
       "       [0.93375549, 0.06624451],\n",
       "       [0.93374343, 0.06625657],\n",
       "       [0.93375313, 0.06624687]])"
      ]
     },
     "execution_count": 414,
     "metadata": {},
     "output_type": "execute_result"
    }
   ],
   "source": [
    "proba = whitebox_model.predict_proba(df2)\n",
    "proba"
   ]
  },
  {
   "cell_type": "code",
   "execution_count": 416,
   "id": "14eeacf2",
   "metadata": {},
   "outputs": [
    {
     "name": "stdout",
     "output_type": "stream",
     "text": [
      "0\n",
      "0\n",
      "1\n",
      "0\n"
     ]
    }
   ],
   "source": [
    "for prob in proba[:,1]:\n",
    "    print(1 if prob >= white_threshold else 0)"
   ]
  },
  {
   "cell_type": "code",
   "execution_count": 417,
   "id": "3d4cd7e8",
   "metadata": {},
   "outputs": [],
   "source": [
    "df2.loc[:, \"Race_White\"] = 0"
   ]
  },
  {
   "cell_type": "code",
   "execution_count": 418,
   "id": "e6555816",
   "metadata": {},
   "outputs": [
    {
     "data": {
      "text/html": [
       "<div>\n",
       "<style scoped>\n",
       "    .dataframe tbody tr th:only-of-type {\n",
       "        vertical-align: middle;\n",
       "    }\n",
       "\n",
       "    .dataframe tbody tr th {\n",
       "        vertical-align: top;\n",
       "    }\n",
       "\n",
       "    .dataframe thead th {\n",
       "        text-align: right;\n",
       "    }\n",
       "</style>\n",
       "<table border=\"1\" class=\"dataframe\">\n",
       "  <thead>\n",
       "    <tr style=\"text-align: right;\">\n",
       "      <th></th>\n",
       "      <th>BMI</th>\n",
       "      <th>PhysicalHealth</th>\n",
       "      <th>MentalHealth</th>\n",
       "      <th>SleepTime</th>\n",
       "      <th>AgeCategory</th>\n",
       "      <th>Race_White</th>\n",
       "      <th>Smoking_Yes</th>\n",
       "      <th>DiffWalking_Yes</th>\n",
       "      <th>GenHealth_Fair</th>\n",
       "      <th>GenHealth_Good</th>\n",
       "      <th>GenHealth_Poor</th>\n",
       "      <th>GenHealth_Very good</th>\n",
       "      <th>Asthma_Yes</th>\n",
       "      <th>Sex_Male</th>\n",
       "      <th>PhysicalActivity_Yes</th>\n",
       "      <th>AlcoholDrinking_Yes</th>\n",
       "      <th>KidneyDisease_Yes</th>\n",
       "      <th>SkinCancer_Yes</th>\n",
       "      <th>Stroke_Yes</th>\n",
       "      <th>Diabetic_No, borderline diabetes</th>\n",
       "      <th>Diabetic_Yes</th>\n",
       "      <th>Diabetic_Yes (during pregnancy)</th>\n",
       "    </tr>\n",
       "  </thead>\n",
       "  <tbody>\n",
       "    <tr>\n",
       "      <th>12278</th>\n",
       "      <td>21.79</td>\n",
       "      <td>0.0</td>\n",
       "      <td>0.0</td>\n",
       "      <td>6.0</td>\n",
       "      <td>80.0</td>\n",
       "      <td>0</td>\n",
       "      <td>0</td>\n",
       "      <td>0</td>\n",
       "      <td>0</td>\n",
       "      <td>0</td>\n",
       "      <td>0</td>\n",
       "      <td>1</td>\n",
       "      <td>0</td>\n",
       "      <td>0</td>\n",
       "      <td>1</td>\n",
       "      <td>0</td>\n",
       "      <td>0</td>\n",
       "      <td>0</td>\n",
       "      <td>0</td>\n",
       "      <td>0</td>\n",
       "      <td>0</td>\n",
       "      <td>0</td>\n",
       "    </tr>\n",
       "    <tr>\n",
       "      <th>15607</th>\n",
       "      <td>32.28</td>\n",
       "      <td>0.0</td>\n",
       "      <td>0.0</td>\n",
       "      <td>8.0</td>\n",
       "      <td>72.0</td>\n",
       "      <td>0</td>\n",
       "      <td>0</td>\n",
       "      <td>0</td>\n",
       "      <td>0</td>\n",
       "      <td>0</td>\n",
       "      <td>0</td>\n",
       "      <td>1</td>\n",
       "      <td>1</td>\n",
       "      <td>0</td>\n",
       "      <td>1</td>\n",
       "      <td>0</td>\n",
       "      <td>0</td>\n",
       "      <td>0</td>\n",
       "      <td>0</td>\n",
       "      <td>1</td>\n",
       "      <td>0</td>\n",
       "      <td>0</td>\n",
       "    </tr>\n",
       "    <tr>\n",
       "      <th>29045</th>\n",
       "      <td>28.97</td>\n",
       "      <td>0.0</td>\n",
       "      <td>20.0</td>\n",
       "      <td>7.0</td>\n",
       "      <td>62.0</td>\n",
       "      <td>0</td>\n",
       "      <td>1</td>\n",
       "      <td>0</td>\n",
       "      <td>0</td>\n",
       "      <td>1</td>\n",
       "      <td>0</td>\n",
       "      <td>0</td>\n",
       "      <td>0</td>\n",
       "      <td>0</td>\n",
       "      <td>0</td>\n",
       "      <td>0</td>\n",
       "      <td>0</td>\n",
       "      <td>0</td>\n",
       "      <td>0</td>\n",
       "      <td>0</td>\n",
       "      <td>0</td>\n",
       "      <td>0</td>\n",
       "    </tr>\n",
       "    <tr>\n",
       "      <th>36494</th>\n",
       "      <td>27.12</td>\n",
       "      <td>0.0</td>\n",
       "      <td>0.0</td>\n",
       "      <td>8.0</td>\n",
       "      <td>67.0</td>\n",
       "      <td>0</td>\n",
       "      <td>0</td>\n",
       "      <td>0</td>\n",
       "      <td>0</td>\n",
       "      <td>0</td>\n",
       "      <td>0</td>\n",
       "      <td>1</td>\n",
       "      <td>0</td>\n",
       "      <td>1</td>\n",
       "      <td>1</td>\n",
       "      <td>0</td>\n",
       "      <td>0</td>\n",
       "      <td>0</td>\n",
       "      <td>0</td>\n",
       "      <td>0</td>\n",
       "      <td>0</td>\n",
       "      <td>0</td>\n",
       "    </tr>\n",
       "  </tbody>\n",
       "</table>\n",
       "</div>"
      ],
      "text/plain": [
       "         BMI  PhysicalHealth  MentalHealth  SleepTime  AgeCategory  \\\n",
       "12278  21.79             0.0           0.0        6.0         80.0   \n",
       "15607  32.28             0.0           0.0        8.0         72.0   \n",
       "29045  28.97             0.0          20.0        7.0         62.0   \n",
       "36494  27.12             0.0           0.0        8.0         67.0   \n",
       "\n",
       "       Race_White  Smoking_Yes  DiffWalking_Yes  GenHealth_Fair  \\\n",
       "12278           0            0                0               0   \n",
       "15607           0            0                0               0   \n",
       "29045           0            1                0               0   \n",
       "36494           0            0                0               0   \n",
       "\n",
       "       GenHealth_Good  GenHealth_Poor  GenHealth_Very good  Asthma_Yes  \\\n",
       "12278               0               0                    1           0   \n",
       "15607               0               0                    1           1   \n",
       "29045               1               0                    0           0   \n",
       "36494               0               0                    1           0   \n",
       "\n",
       "       Sex_Male  PhysicalActivity_Yes  AlcoholDrinking_Yes  KidneyDisease_Yes  \\\n",
       "12278         0                     1                    0                  0   \n",
       "15607         0                     1                    0                  0   \n",
       "29045         0                     0                    0                  0   \n",
       "36494         1                     1                    0                  0   \n",
       "\n",
       "       SkinCancer_Yes  Stroke_Yes  Diabetic_No, borderline diabetes  \\\n",
       "12278               0           0                                 0   \n",
       "15607               0           0                                 1   \n",
       "29045               0           0                                 0   \n",
       "36494               0           0                                 0   \n",
       "\n",
       "       Diabetic_Yes  Diabetic_Yes (during pregnancy)  \n",
       "12278             0                                0  \n",
       "15607             0                                0  \n",
       "29045             0                                0  \n",
       "36494             0                                0  "
      ]
     },
     "execution_count": 418,
     "metadata": {},
     "output_type": "execute_result"
    }
   ],
   "source": [
    "df2"
   ]
  },
  {
   "cell_type": "code",
   "execution_count": 419,
   "id": "feeb14a1",
   "metadata": {},
   "outputs": [
    {
     "data": {
      "text/plain": [
       "array([[0.94766117, 0.05233883],\n",
       "       [0.94766061, 0.05233939],\n",
       "       [0.94765095, 0.05234905],\n",
       "       [0.94765872, 0.05234128]])"
      ]
     },
     "execution_count": 419,
     "metadata": {},
     "output_type": "execute_result"
    }
   ],
   "source": [
    "proba = whitebox_model.predict_proba(df2)\n",
    "proba"
   ]
  },
  {
   "cell_type": "code",
   "execution_count": 421,
   "id": "832c7b8e",
   "metadata": {},
   "outputs": [
    {
     "name": "stdout",
     "output_type": "stream",
     "text": [
      "0\n",
      "0\n",
      "0\n",
      "0\n"
     ]
    }
   ],
   "source": [
    "for prob in proba[:,1]:\n",
    "    print(1 if prob >= black_threshold else 0) #prediction is flipped to no heartdisease!"
   ]
  },
  {
   "cell_type": "code",
   "execution_count": null,
   "id": "64772092",
   "metadata": {},
   "outputs": [],
   "source": []
  }
 ],
 "metadata": {
  "kernelspec": {
   "display_name": "Python 3 (ipykernel)",
   "language": "python",
   "name": "python3"
  },
  "language_info": {
   "codemirror_mode": {
    "name": "ipython",
    "version": 3
   },
   "file_extension": ".py",
   "mimetype": "text/x-python",
   "name": "python",
   "nbconvert_exporter": "python",
   "pygments_lexer": "ipython3",
   "version": "3.8.10"
  }
 },
 "nbformat": 4,
 "nbformat_minor": 5
}
