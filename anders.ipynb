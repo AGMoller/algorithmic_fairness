{
 "cells": [
  {
   "cell_type": "code",
   "execution_count": 1,
   "metadata": {},
   "outputs": [
    {
     "name": "stderr",
     "output_type": "stream",
     "text": [
      "/Users/hrmussa/Insync/andersgiovanni@gmail.com/Google Drive/kds/2sem/algorithmic_fairness/exam_project/algorithmic_fairness/.venv/lib/python3.8/site-packages/tqdm/auto.py:22: TqdmWarning: IProgress not found. Please update jupyter and ipywidgets. See https://ipywidgets.readthedocs.io/en/stable/user_install.html\n",
      "  from .autonotebook import tqdm as notebook_tqdm\n"
     ]
    }
   ],
   "source": [
    "import optuna\n",
    "from sklearn import metrics\n",
    "from typing import Callable, List\n",
    "from typing import Dict, List, Tuple\n",
    "\n",
    "import matplotlib.pyplot as plt\n",
    "import numpy as np\n",
    "import pandas as pd\n",
    "from sklearn import tree\n",
    "from sklearn.compose import ColumnTransformer\n",
    "from sklearn.metrics import classification_report\n",
    "from sklearn.model_selection import train_test_split\n",
    "from sklearn.pipeline import Pipeline\n",
    "from sklearn.preprocessing import StandardScaler\n",
    "from sklearn.tree import DecisionTreeClassifier"
   ]
  },
  {
   "cell_type": "code",
   "execution_count": 3,
   "metadata": {},
   "outputs": [],
   "source": [
    "# Load data\n",
    "# df = pd.read_csv(\"data/heart_2020_cleaned.csv\")\n",
    "# train, val = train_test_split(df, test_size=0.3, random_state=42, stratify=df[\"HeartDisease\"])\n",
    "# val, test = train_test_split(val, test_size=0.5, random_state=42, stratify=val[\"HeartDisease\"])\n",
    "# train.to_csv(\"data/heart_train.csv\", index=False)\n",
    "# val.to_csv(\"data/heart_val.csv\", index=False)\n",
    "# test.to_csv(\"data/heart_test.csv\", index=False)"
   ]
  },
  {
   "cell_type": "code",
   "execution_count": 49,
   "metadata": {},
   "outputs": [],
   "source": [
    "train = pd.read_csv('data/heart_train.csv').iloc[:150000, :]\n",
    "val = pd.read_csv('data/heart_val.csv')\n",
    "test = pd.read_csv('data/heart_test.csv')"
   ]
  },
  {
   "cell_type": "code",
   "execution_count": 50,
   "metadata": {},
   "outputs": [],
   "source": [
    "# Preprocessing data\n",
    "\n",
    "categorical_features = [\n",
    "    \"Smoking\",\n",
    "    \"AlcoholDrinking\",\n",
    "    \"Stroke\",\n",
    "    \"DiffWalking\",\n",
    "    \"Sex\",\n",
    "    \"AgeCategory\",\n",
    "    \"Race\",\n",
    "    \"Diabetic\",\n",
    "    \"PhysicalActivity\",\n",
    "    \"GenHealth\",\n",
    "    \"Asthma\",\n",
    "    \"KidneyDisease\",\n",
    "    \"SkinCancer\"\n",
    "]\n",
    "\n",
    "continuos_features = [\n",
    "    \"BMI\",\n",
    "    \"PhysicalHealth\",\n",
    "    \"MentalHealth\"\n",
    "]\n",
    "\n",
    "target_variable = \"HeartDisease\"\n",
    "\n",
    "def data_preprocessing(data: pd.DataFrame, categorical_features: List[str], continuous_features: List[str], target_variable: str):\n",
    "\n",
    "    df = data.copy()\n",
    "\n",
    "    # protected variables\n",
    "    sex = df[\"Sex\"].values\n",
    "    age = df[\"AgeCategory\"].values\n",
    "    race = df[\"Race\"].values\n",
    "\n",
    "    # target\n",
    "    target = df[target_variable].values\n",
    "\n",
    "    df_processed = df[categorical_features + continuous_features]\n",
    "    df_processed = pd.get_dummies(df_processed, prefix=None, prefix_sep='_', dummy_na=False, columns=categorical_features, drop_first=True)\n",
    "\n",
    "    return df_processed, df, target, sex, age, race\n",
    "\n",
    "#df_processed, df_original, target, sex, age, race = data_preprocessing(df, categorical_features=categorical_features, continuous_features=continuos_features, target_variable=target_variable)\n",
    "train_processed, train_original, train_target, train_sex, train_age, train_race = data_preprocessing(train, categorical_features=categorical_features, continuous_features=continuos_features, target_variable=target_variable)\n",
    "val_processed, val_original, val_target, val_sex, val_age, val_race = data_preprocessing(val, categorical_features=categorical_features, continuous_features=continuos_features, target_variable=target_variable)"
   ]
  },
  {
   "cell_type": "code",
   "execution_count": 51,
   "metadata": {},
   "outputs": [],
   "source": [
    "# just renaming stuff\n",
    "# X_train, X_val = train_processed.values, val_processed.values\n",
    "y_train, y_val = train_target, val_target"
   ]
  },
  {
   "cell_type": "code",
   "execution_count": 56,
   "metadata": {},
   "outputs": [
    {
     "name": "stdout",
     "output_type": "stream",
     "text": [
      "0\n"
     ]
    }
   ],
   "source": [
    "# Fairness metric function\n",
    "import itertools\n",
    "\n",
    "def equailized_odds(preds: np.ndarray, groups: np.ndarray, test: np.ndarray, sum_of_differences: bool = True, verbose: bool = False):\n",
    "    \"\"\"\n",
    "    Calculates the equailized odds of a binary classification problem.\n",
    "    preds: predictions of the model\n",
    "    groups: group labels of the test data\n",
    "    test: test data\n",
    "    sum_of_differences: if True, the sum of the differences is returned, else the mean of the differences is returned\n",
    "    verbose: if True, prints the results\n",
    "    \"\"\"\n",
    "\n",
    "    df = pd.DataFrame(list(zip(preds, groups, test)), columns=['preds', 'groups', 'test'])\n",
    "    \n",
    "    total_class_difference = 0\n",
    "    for target in df['test'].unique():\n",
    "        results = {}\n",
    "        for group in df['groups'].unique():\n",
    "            \n",
    "            # get the group and amount of corrects in the group\n",
    "            selection = df.loc[(df['test'] == target) & (df['groups'] == group)]\n",
    "            corrects = selection.loc[selection['preds'] == \"Yes\"]\n",
    "    \n",
    "            # if there are no corrects in the group, skip\n",
    "            if len(corrects) == 0 or len(selection) == 0:\n",
    "                results[group] = float('inf')\n",
    "                #results[group] = 1\n",
    "                continue\n",
    "\n",
    "            # get the odds ratio\n",
    "            score = round(len(corrects) / len(selection), 3)\n",
    "\n",
    "            # add the score to the results\n",
    "            results[group] = score\n",
    "\n",
    "            if verbose:\n",
    "                print(f'Target [{target}] and group [{group}]: {score} ')\n",
    "    \n",
    "        if verbose:\n",
    "            print(results)\n",
    "        group_combinations = list(itertools.combinations(list(results.keys()), 2))\n",
    "    \n",
    "        # save differences between groups (pairwise)\n",
    "        class_differences = 0\n",
    "    \n",
    "        # for each combination of groups\n",
    "        for combination in group_combinations:\n",
    "            difference = abs(results[combination[0]] - results[combination[1]])\n",
    "            class_differences += difference\n",
    "\n",
    "        # sum up differences or take average\n",
    "        if sum_of_differences:\n",
    "            total_class_difference += class_differences\n",
    "        else:\n",
    "            total_class_difference += class_differences / len(group_combinations)\n",
    "\n",
    "    if verbose:\n",
    "        print(f'Total class difference: {total_class_difference}')\n",
    "\n",
    "    return total_class_difference\n",
    "\n",
    "preds = [0,1,1,1,1]\n",
    "groups = [\"A\", \"A\", \"B\", \"B\", \"C\"]\n",
    "test = [0,0,1,1,1]\n",
    "\n",
    "print(equailized_odds(preds, groups, test))"
   ]
  },
  {
   "cell_type": "code",
   "execution_count": 53,
   "metadata": {},
   "outputs": [
    {
     "name": "stderr",
     "output_type": "stream",
     "text": [
      "/Users/hrmussa/Insync/andersgiovanni@gmail.com/Google Drive/kds/2sem/algorithmic_fairness/exam_project/algorithmic_fairness/.venv/lib/python3.8/site-packages/sklearn/tree/_classes.py:298: FutureWarning: `max_features='auto'` has been deprecated in 1.1 and will be removed in 1.3. To keep the past behaviour, explicitly set `max_features='sqrt'`.\n",
      "  warnings.warn(\n"
     ]
    },
    {
     "name": "stdout",
     "output_type": "stream",
     "text": [
      "Counter({'No': 47969})\n"
     ]
    },
    {
     "name": "stderr",
     "output_type": "stream",
     "text": [
      "/Users/hrmussa/Insync/andersgiovanni@gmail.com/Google Drive/kds/2sem/algorithmic_fairness/exam_project/algorithmic_fairness/.venv/lib/python3.8/site-packages/sklearn/metrics/_classification.py:1327: UndefinedMetricWarning: Precision and F-score are ill-defined and being set to 0.0 in labels with no predicted samples. Use `zero_division` parameter to control this behavior.\n",
      "  _warn_prf(average, modifier, msg_start, len(result))\n",
      "/Users/hrmussa/Insync/andersgiovanni@gmail.com/Google Drive/kds/2sem/algorithmic_fairness/exam_project/algorithmic_fairness/.venv/lib/python3.8/site-packages/sklearn/metrics/_classification.py:1327: UndefinedMetricWarning: Precision and F-score are ill-defined and being set to 0.0 in labels with no predicted samples. Use `zero_division` parameter to control this behavior.\n",
      "  _warn_prf(average, modifier, msg_start, len(result))\n"
     ]
    },
    {
     "name": "stdout",
     "output_type": "stream",
     "text": [
      "              precision    recall  f1-score   support\n",
      "\n",
      "          No       0.91      1.00      0.96     43863\n",
      "         Yes       0.00      0.00      0.00      4106\n",
      "\n",
      "    accuracy                           0.91     47969\n",
      "   macro avg       0.46      0.50      0.48     47969\n",
      "weighted avg       0.84      0.91      0.87     47969\n",
      "\n",
      "{'White': inf, 'Black': inf, 'Other': inf, 'Asian': inf, 'Hispanic': inf, 'American Indian/Alaskan Native': inf}\n",
      "{'White': inf, 'Black': inf, 'Other': inf, 'Asian': inf, 'Hispanic': inf, 'American Indian/Alaskan Native': inf}\n",
      "Total class difference: nan\n",
      "nan\n"
     ]
    },
    {
     "name": "stderr",
     "output_type": "stream",
     "text": [
      "/Users/hrmussa/Insync/andersgiovanni@gmail.com/Google Drive/kds/2sem/algorithmic_fairness/exam_project/algorithmic_fairness/.venv/lib/python3.8/site-packages/sklearn/metrics/_classification.py:1327: UndefinedMetricWarning: Precision and F-score are ill-defined and being set to 0.0 in labels with no predicted samples. Use `zero_division` parameter to control this behavior.\n",
      "  _warn_prf(average, modifier, msg_start, len(result))\n"
     ]
    }
   ],
   "source": [
    "# Train whitebox model\n",
    "\n",
    "# Scale continuous variables\n",
    "from sklearn.compose import ColumnTransformer\n",
    "from sklearn.preprocessing import StandardScaler\n",
    "# scaler = ColumnTransformer([('scaler', StandardScaler(), continuos_features)], remainder='passthrough')\n",
    "\n",
    "# Whitebox model\n",
    "from sklearn.tree import DecisionTreeClassifier\n",
    "from sklearn.metrics import classification_report\n",
    "from sklearn import tree\n",
    "import matplotlib.pyplot as plt\n",
    "from sklearn.pipeline import Pipeline\n",
    "\n",
    "scaler = ColumnTransformer(\n",
    "    [('scaler', StandardScaler(), continuos_features)], remainder='passthrough')\n",
    "    \n",
    "whitebox_model = Pipeline(steps=[('scaler', scaler), ('clf', DecisionTreeClassifier(min_samples_split = 0.01, min_samples_leaf= 0.01, max_features=\"auto\", max_depth = 5, criterion = \"gini\", random_state = 42))])\n",
    "# whitebox_model = Pipeline(steps=[('scaler', scaler), ('clf', DecisionTreeClassifier(random_state = 42))])\n",
    "\n",
    "whitebox_model.fit(train_processed, y_train)\n",
    "y_pred_whitebox = whitebox_model.predict(val_processed)\n",
    "y_pred_proba_whitebox = whitebox_model.predict_proba(val_processed)\n",
    "\n",
    "print(Counter(y_pred_whitebox))\n",
    "\n",
    "print(classification_report(y_val, y_pred_whitebox))\n",
    "\n",
    "print(equailized_odds(y_pred_whitebox, val_race, y_val, verbose=True))\n",
    "\n",
    "# # plot tree\n",
    "# plt.figure(figsize=(25,20))  # set plot size (denoted in inches)\n",
    "# tree.plot_tree(whitebox_model['clf'], fontsize=9, feature_names=df_processed.columns)\n",
    "# plt.show()"
   ]
  },
  {
   "cell_type": "markdown",
   "metadata": {},
   "source": [
    "# Optuna Study"
   ]
  },
  {
   "cell_type": "code",
   "execution_count": 57,
   "metadata": {},
   "outputs": [],
   "source": [
    "optuna.logging.set_verbosity(1)\n",
    "\n",
    "\n",
    "class Objective(object):\n",
    "    def __init__(\n",
    "        self,\n",
    "        X_train: np.ndarray,\n",
    "        X_val: np.ndarray,\n",
    "        y_train: np.ndarray,\n",
    "        y_val: np.ndarray,\n",
    "        group_val: np.ndarray,\n",
    "        evaluation_func: Callable,\n",
    "    ):\n",
    "        self.X_train = X_train\n",
    "        self.X_val = X_val\n",
    "        self.y_train = y_train\n",
    "        self.y_val = y_val\n",
    "        self.group_val = group_val\n",
    "        self.evaluation_func = evaluation_func\n",
    "\n",
    "    def __call__(self, trial) -> float:\n",
    "        \"\"\"This method is called by Optuna to compute the objective\n",
    "        function.\"\"\"\n",
    "        # Initialize general hyper parameters\n",
    "\n",
    "        params = {\n",
    "            \"criterion\": trial.suggest_categorical(\"criterion\", [\"gini\", \"entropy\"]),\n",
    "            \"max_depth\": trial.suggest_int(\"max_depth\", 5, 15, step=2),\n",
    "            \"min_samples_split\": trial.suggest_loguniform(\"min_samples_split\", 1e-3, 0.01),\n",
    "            \"min_samples_leaf\": trial.suggest_loguniform(\"min_samples_leaf\", 1e-3, 0.01),\n",
    "        }\n",
    "\n",
    "        # parameters for fitting a model\n",
    "        whitebox_model = DecisionTreeClassifier(\n",
    "            **params, random_state=42).fit(self.X_train, self.y_train)\n",
    "\n",
    "        preds: np.ndarray = whitebox_model.predict(self.X_val)\n",
    "\n",
    "        return self.evaluation_func(preds, self.group_val, self.y_val)"
   ]
  },
  {
   "cell_type": "code",
   "execution_count": 58,
   "metadata": {},
   "outputs": [
    {
     "name": "stderr",
     "output_type": "stream",
     "text": [
      "\u001b[32m[I 2022-05-21 15:53:55,079]\u001b[0m A new study created in memory with name: no-name-fc3c9665-9697-45e6-a8b0-e145f622d5d0\u001b[0m\n",
      "/Users/hrmussa/Insync/andersgiovanni@gmail.com/Google Drive/kds/2sem/algorithmic_fairness/exam_project/algorithmic_fairness/.venv/lib/python3.8/site-packages/optuna/study/study.py:393: FutureWarning: `n_jobs` argument has been deprecated in v2.7.0. This feature will be removed in v4.0.0. See https://github.com/optuna/optuna/releases/tag/v2.7.0.\n",
      "  warnings.warn(\n",
      "/Users/hrmussa/Insync/andersgiovanni@gmail.com/Google Drive/kds/2sem/algorithmic_fairness/exam_project/algorithmic_fairness/.venv/lib/python3.8/site-packages/optuna/study/_optimize.py:80: UserWarning: Progress bar only supports serial execution (`n_jobs=1`).\n",
      "  warnings.warn(\"Progress bar only supports serial execution (`n_jobs=1`).\")\n",
      "\u001b[32m[I 2022-05-21 15:53:56,342]\u001b[0m Trial 7 finished with value: 0.552 and parameters: {'criterion': 'entropy', 'max_depth': 5, 'min_samples_split': 0.002890827925115521, 'min_samples_leaf': 0.004398391722995249}. Best is trial 7 with value: 0.552.\u001b[0m\n",
      "\u001b[32m[I 2022-05-21 15:53:56,369]\u001b[0m Trial 2 finished with value: 0.552 and parameters: {'criterion': 'gini', 'max_depth': 5, 'min_samples_split': 0.0014690761337544014, 'min_samples_leaf': 0.0033885231400634552}. Best is trial 7 with value: 0.552.\u001b[0m\n",
      "\u001b[32m[I 2022-05-21 15:53:56,379]\u001b[0m Trial 1 finished with value: 0.485 and parameters: {'criterion': 'entropy', 'max_depth': 5, 'min_samples_split': 0.0014312015195407566, 'min_samples_leaf': 0.0012098629736921607}. Best is trial 1 with value: 0.485.\u001b[0m\n",
      "\u001b[32m[I 2022-05-21 15:53:56,668]\u001b[0m Trial 5 finished with value: 0.552 and parameters: {'criterion': 'entropy', 'max_depth': 7, 'min_samples_split': 0.0078703134584274, 'min_samples_leaf': 0.004543134859724257}. Best is trial 1 with value: 0.485.\u001b[0m\n",
      "\u001b[32m[I 2022-05-21 15:53:56,758]\u001b[0m Trial 4 finished with value: 0.191 and parameters: {'criterion': 'gini', 'max_depth': 9, 'min_samples_split': 0.0021491638463914703, 'min_samples_leaf': 0.006720764222467111}. Best is trial 4 with value: 0.191.\u001b[0m\n",
      "\u001b[32m[I 2022-05-21 15:53:56,803]\u001b[0m Trial 3 finished with value: 0.552 and parameters: {'criterion': 'gini', 'max_depth': 9, 'min_samples_split': 0.0021676724090527667, 'min_samples_leaf': 0.003929181756340295}. Best is trial 4 with value: 0.191.\u001b[0m\n",
      "\u001b[32m[I 2022-05-21 15:53:57,035]\u001b[0m Trial 0 finished with value: 0.0 and parameters: {'criterion': 'entropy', 'max_depth': 9, 'min_samples_split': 0.008515532694739222, 'min_samples_leaf': 0.009570977132308832}. Best is trial 0 with value: 0.0.\u001b[0m\n",
      "\u001b[32m[I 2022-05-21 15:53:57,300]\u001b[0m Trial 6 finished with value: 0.6240000000000001 and parameters: {'criterion': 'entropy', 'max_depth': 13, 'min_samples_split': 0.001708080503012958, 'min_samples_leaf': 0.0012707023231299038}. Best is trial 0 with value: 0.0.\u001b[0m\n",
      "\u001b[32m[I 2022-05-21 15:53:57,567]\u001b[0m Trial 9 finished with value: 0.552 and parameters: {'criterion': 'entropy', 'max_depth': 5, 'min_samples_split': 0.004030762554058198, 'min_samples_leaf': 0.002636274442002086}. Best is trial 0 with value: 0.0.\u001b[0m\n",
      "\u001b[32m[I 2022-05-21 15:53:57,621]\u001b[0m Trial 8 finished with value: 0.552 and parameters: {'criterion': 'gini', 'max_depth': 13, 'min_samples_split': 0.0010335175616837135, 'min_samples_leaf': 0.0044826270955568345}. Best is trial 0 with value: 0.0.\u001b[0m\n",
      "\u001b[32m[I 2022-05-21 15:53:57,917]\u001b[0m Trial 10 finished with value: 0.552 and parameters: {'criterion': 'gini', 'max_depth': 11, 'min_samples_split': 0.005901848244253477, 'min_samples_leaf': 0.002626466811305734}. Best is trial 0 with value: 0.0.\u001b[0m\n",
      "\u001b[32m[I 2022-05-21 15:53:57,928]\u001b[0m Trial 11 finished with value: 0.552 and parameters: {'criterion': 'gini', 'max_depth': 7, 'min_samples_split': 0.008572319093382241, 'min_samples_leaf': 0.0026074283150526022}. Best is trial 0 with value: 0.0.\u001b[0m\n",
      "\u001b[32m[I 2022-05-21 15:53:58,127]\u001b[0m Trial 14 finished with value: 0.552 and parameters: {'criterion': 'gini', 'max_depth': 7, 'min_samples_split': 0.002915190664112244, 'min_samples_leaf': 0.002671721498550416}. Best is trial 0 with value: 0.0.\u001b[0m\n",
      "\u001b[32m[I 2022-05-21 15:53:58,239]\u001b[0m Trial 12 finished with value: 0.34400000000000003 and parameters: {'criterion': 'entropy', 'max_depth': 13, 'min_samples_split': 0.001231905043516321, 'min_samples_leaf': 0.0017698239577054466}. Best is trial 0 with value: 0.0.\u001b[0m\n",
      "\u001b[32m[I 2022-05-21 15:53:58,512]\u001b[0m Trial 15 finished with value: 0.552 and parameters: {'criterion': 'entropy', 'max_depth': 9, 'min_samples_split': 0.002667320695604266, 'min_samples_leaf': 0.002696791736182513}. Best is trial 0 with value: 0.0.\u001b[0m\n",
      "\u001b[32m[I 2022-05-21 15:53:58,525]\u001b[0m Trial 13 finished with value: 0.552 and parameters: {'criterion': 'gini', 'max_depth': 13, 'min_samples_split': 0.009048401354643089, 'min_samples_leaf': 0.0014566237121929452}. Best is trial 0 with value: 0.0.\u001b[0m\n",
      "\u001b[32m[I 2022-05-21 15:53:58,908]\u001b[0m Trial 16 finished with value: 0.4790000000000001 and parameters: {'criterion': 'gini', 'max_depth': 11, 'min_samples_split': 0.002238066640825978, 'min_samples_leaf': 0.0011366700984307575}. Best is trial 0 with value: 0.0.\u001b[0m\n",
      "\u001b[32m[I 2022-05-21 15:53:59,026]\u001b[0m Trial 17 finished with value: 0.0 and parameters: {'criterion': 'entropy', 'max_depth': 15, 'min_samples_split': 0.009799239074727068, 'min_samples_leaf': 0.009826432122648455}. Best is trial 0 with value: 0.0.\u001b[0m\n",
      "\u001b[32m[I 2022-05-21 15:53:59,078]\u001b[0m Trial 18 finished with value: 0.0 and parameters: {'criterion': 'entropy', 'max_depth': 9, 'min_samples_split': 0.0038833381773451686, 'min_samples_leaf': 0.009938994478718084}. Best is trial 0 with value: 0.0.\u001b[0m\n",
      "\u001b[32m[I 2022-05-21 15:53:59,272]\u001b[0m Trial 19 finished with value: 0.0 and parameters: {'criterion': 'entropy', 'max_depth': 9, 'min_samples_split': 0.004190824163488497, 'min_samples_leaf': 0.008340837834804136}. Best is trial 0 with value: 0.0.\u001b[0m\n",
      "\u001b[32m[I 2022-05-21 15:53:59,275]\u001b[0m Trial 20 finished with value: 0.0 and parameters: {'criterion': 'entropy', 'max_depth': 9, 'min_samples_split': 0.00413284353409676, 'min_samples_leaf': 0.009646789319515878}. Best is trial 0 with value: 0.0.\u001b[0m\n",
      "\u001b[32m[I 2022-05-21 15:53:59,627]\u001b[0m Trial 21 finished with value: 0.0 and parameters: {'criterion': 'entropy', 'max_depth': 9, 'min_samples_split': 0.004477762517975813, 'min_samples_leaf': 0.008912795166948194}. Best is trial 0 with value: 0.0.\u001b[0m\n",
      "\u001b[32m[I 2022-05-21 15:53:59,698]\u001b[0m Trial 22 finished with value: 0.0 and parameters: {'criterion': 'entropy', 'max_depth': 11, 'min_samples_split': 0.0045468890922611685, 'min_samples_leaf': 0.009397948019806833}. Best is trial 0 with value: 0.0.\u001b[0m\n",
      "\u001b[32m[I 2022-05-21 15:53:59,878]\u001b[0m Trial 23 finished with value: 0.0 and parameters: {'criterion': 'gini', 'max_depth': 11, 'min_samples_split': 0.004227114514691377, 'min_samples_leaf': 0.00990820453234783}. Best is trial 0 with value: 0.0.\u001b[0m\n",
      "\u001b[32m[I 2022-05-21 15:54:00,209]\u001b[0m Trial 24 finished with value: 0.0 and parameters: {'criterion': 'entropy', 'max_depth': 15, 'min_samples_split': 0.004320671782407406, 'min_samples_leaf': 0.009624282839557926}. Best is trial 0 with value: 0.0.\u001b[0m\n",
      "\u001b[32m[I 2022-05-21 15:54:00,456]\u001b[0m Trial 26 finished with value: 0.0 and parameters: {'criterion': 'entropy', 'max_depth': 15, 'min_samples_split': 0.005958579904267189, 'min_samples_leaf': 0.00927272238547677}. Best is trial 0 with value: 0.0.\u001b[0m\n",
      "\u001b[32m[I 2022-05-21 15:54:00,469]\u001b[0m Trial 25 finished with value: 0.0 and parameters: {'criterion': 'entropy', 'max_depth': 15, 'min_samples_split': 0.006151209610107246, 'min_samples_leaf': 0.009120682618181346}. Best is trial 0 with value: 0.0.\u001b[0m\n",
      "\u001b[32m[I 2022-05-21 15:54:00,513]\u001b[0m Trial 27 finished with value: 0.191 and parameters: {'criterion': 'entropy', 'max_depth': 15, 'min_samples_split': 0.005764065642269123, 'min_samples_leaf': 0.006380436828653144}. Best is trial 0 with value: 0.0.\u001b[0m\n",
      "\u001b[32m[I 2022-05-21 15:54:00,668]\u001b[0m Trial 28 finished with value: 0.191 and parameters: {'criterion': 'entropy', 'max_depth': 15, 'min_samples_split': 0.005311131781410643, 'min_samples_leaf': 0.006138934941862922}. Best is trial 0 with value: 0.0.\u001b[0m\n",
      "\u001b[32m[I 2022-05-21 15:54:01,009]\u001b[0m Trial 29 finished with value: 0.191 and parameters: {'criterion': 'entropy', 'max_depth': 7, 'min_samples_split': 0.005991512066663778, 'min_samples_leaf': 0.006730697772742689}. Best is trial 0 with value: 0.0.\u001b[0m\n",
      "\u001b[32m[I 2022-05-21 15:54:01,092]\u001b[0m Trial 31 finished with value: 0.191 and parameters: {'criterion': 'entropy', 'max_depth': 7, 'min_samples_split': 0.006233355326030581, 'min_samples_leaf': 0.006380885087813803}. Best is trial 0 with value: 0.0.\u001b[0m\n",
      "\u001b[32m[I 2022-05-21 15:54:01,106]\u001b[0m Trial 30 finished with value: 0.191 and parameters: {'criterion': 'entropy', 'max_depth': 7, 'min_samples_split': 0.006272000195208649, 'min_samples_leaf': 0.006726430713550695}. Best is trial 0 with value: 0.0.\u001b[0m\n",
      "\u001b[32m[I 2022-05-21 15:54:01,580]\u001b[0m Trial 32 finished with value: 0.191 and parameters: {'criterion': 'entropy', 'max_depth': 11, 'min_samples_split': 0.005932021714255338, 'min_samples_leaf': 0.006301992633390132}. Best is trial 0 with value: 0.0.\u001b[0m\n",
      "\u001b[32m[I 2022-05-21 15:54:01,641]\u001b[0m Trial 33 finished with value: 0.0 and parameters: {'criterion': 'gini', 'max_depth': 11, 'min_samples_split': 0.007150510903256165, 'min_samples_leaf': 0.006878271434091761}. Best is trial 0 with value: 0.0.\u001b[0m\n",
      "\u001b[32m[I 2022-05-21 15:54:01,911]\u001b[0m Trial 35 finished with value: 0.0 and parameters: {'criterion': 'entropy', 'max_depth': 15, 'min_samples_split': 0.007155870545531584, 'min_samples_leaf': 0.0076235256278025165}. Best is trial 0 with value: 0.0.\u001b[0m\n",
      "\u001b[32m[I 2022-05-21 15:54:01,990]\u001b[0m Trial 34 finished with value: 0.0 and parameters: {'criterion': 'entropy', 'max_depth': 15, 'min_samples_split': 0.0071906473080921955, 'min_samples_leaf': 0.007323650483497021}. Best is trial 0 with value: 0.0.\u001b[0m\n",
      "\u001b[32m[I 2022-05-21 15:54:02,016]\u001b[0m Trial 36 finished with value: 0.0 and parameters: {'criterion': 'entropy', 'max_depth': 13, 'min_samples_split': 0.007344419355083212, 'min_samples_leaf': 0.0073200295571071595}. Best is trial 0 with value: 0.0.\u001b[0m\n",
      "\u001b[32m[I 2022-05-21 15:54:02,474]\u001b[0m Trial 37 finished with value: 0.0 and parameters: {'criterion': 'entropy', 'max_depth': 13, 'min_samples_split': 0.007399467325565696, 'min_samples_leaf': 0.007833235299547926}. Best is trial 0 with value: 0.0.\u001b[0m\n",
      "\u001b[32m[I 2022-05-21 15:54:02,494]\u001b[0m Trial 38 finished with value: 0.0 and parameters: {'criterion': 'entropy', 'max_depth': 15, 'min_samples_split': 0.007230399670983004, 'min_samples_leaf': 0.007656711057651612}. Best is trial 0 with value: 0.0.\u001b[0m\n",
      "\u001b[32m[I 2022-05-21 15:54:02,557]\u001b[0m Trial 39 finished with value: 0.0 and parameters: {'criterion': 'entropy', 'max_depth': 15, 'min_samples_split': 0.007550181383889543, 'min_samples_leaf': 0.008001357330336755}. Best is trial 0 with value: 0.0.\u001b[0m\n",
      "\u001b[32m[I 2022-05-21 15:54:02,963]\u001b[0m Trial 40 finished with value: 0.0 and parameters: {'criterion': 'entropy', 'max_depth': 15, 'min_samples_split': 0.00823591828822548, 'min_samples_leaf': 0.007899047808789663}. Best is trial 0 with value: 0.0.\u001b[0m\n",
      "\u001b[32m[I 2022-05-21 15:54:03,061]\u001b[0m Trial 41 finished with value: 0.0 and parameters: {'criterion': 'entropy', 'max_depth': 15, 'min_samples_split': 0.007185408114673354, 'min_samples_leaf': 0.007996905559215969}. Best is trial 0 with value: 0.0.\u001b[0m\n",
      "\u001b[32m[I 2022-05-21 15:54:03,340]\u001b[0m Trial 43 finished with value: 0.191 and parameters: {'criterion': 'gini', 'max_depth': 13, 'min_samples_split': 0.008128120628620545, 'min_samples_leaf': 0.005751459271072849}. Best is trial 0 with value: 0.0.\u001b[0m\n",
      "\u001b[32m[I 2022-05-21 15:54:03,371]\u001b[0m Trial 42 finished with value: 0.191 and parameters: {'criterion': 'entropy', 'max_depth': 13, 'min_samples_split': 0.0074404007684323115, 'min_samples_leaf': 0.0051229727140277995}. Best is trial 0 with value: 0.0.\u001b[0m\n",
      "\u001b[32m[I 2022-05-21 15:54:03,380]\u001b[0m Trial 44 finished with value: 0.191 and parameters: {'criterion': 'gini', 'max_depth': 13, 'min_samples_split': 0.008058141758545407, 'min_samples_leaf': 0.005440296738084474}. Best is trial 0 with value: 0.0.\u001b[0m\n",
      "\u001b[32m[I 2022-05-21 15:54:03,881]\u001b[0m Trial 45 finished with value: 0.191 and parameters: {'criterion': 'entropy', 'max_depth': 13, 'min_samples_split': 0.008299566463286747, 'min_samples_leaf': 0.0052728501282195295}. Best is trial 0 with value: 0.0.\u001b[0m\n",
      "\u001b[32m[I 2022-05-21 15:54:03,939]\u001b[0m Trial 46 finished with value: 0.552 and parameters: {'criterion': 'entropy', 'max_depth': 13, 'min_samples_split': 0.008451665729209678, 'min_samples_leaf': 0.0036528969810655184}. Best is trial 0 with value: 0.0.\u001b[0m\n",
      "\u001b[32m[I 2022-05-21 15:54:03,998]\u001b[0m Trial 47 finished with value: 0.191 and parameters: {'criterion': 'entropy', 'max_depth': 13, 'min_samples_split': 0.008568287838985406, 'min_samples_leaf': 0.004959499153003897}. Best is trial 0 with value: 0.0.\u001b[0m\n",
      "\u001b[32m[I 2022-05-21 15:54:04,106]\u001b[0m Trial 48 finished with value: 0.191 and parameters: {'criterion': 'entropy', 'max_depth': 9, 'min_samples_split': 0.005014608898991472, 'min_samples_leaf': 0.005354319294423299}. Best is trial 0 with value: 0.0.\u001b[0m\n",
      "\u001b[32m[I 2022-05-21 15:54:04,189]\u001b[0m Trial 49 finished with value: 0.191 and parameters: {'criterion': 'gini', 'max_depth': 11, 'min_samples_split': 0.004783454153803249, 'min_samples_leaf': 0.005364909328824127}. Best is trial 0 with value: 0.0.\u001b[0m\n",
      "\u001b[32m[I 2022-05-21 15:54:04,708]\u001b[0m Trial 51 finished with value: 0.552 and parameters: {'criterion': 'gini', 'max_depth': 9, 'min_samples_split': 0.003501394431375031, 'min_samples_leaf': 0.0037082525797143195}. Best is trial 0 with value: 0.0.\u001b[0m\n",
      "\u001b[32m[I 2022-05-21 15:54:04,746]\u001b[0m Trial 50 finished with value: 0.552 and parameters: {'criterion': 'gini', 'max_depth': 9, 'min_samples_split': 0.0034693769685418736, 'min_samples_leaf': 0.0035680251256787155}. Best is trial 0 with value: 0.0.\u001b[0m\n",
      "\u001b[32m[I 2022-05-21 15:54:04,785]\u001b[0m Trial 52 finished with value: 0.0 and parameters: {'criterion': 'gini', 'max_depth': 9, 'min_samples_split': 0.0034822590013302373, 'min_samples_leaf': 0.008670280098234347}. Best is trial 0 with value: 0.0.\u001b[0m\n",
      "\u001b[32m[I 2022-05-21 15:54:05,210]\u001b[0m Trial 53 finished with value: 0.0 and parameters: {'criterion': 'gini', 'max_depth': 9, 'min_samples_split': 0.004797704107096702, 'min_samples_leaf': 0.008728012698150793}. Best is trial 0 with value: 0.0.\u001b[0m\n",
      "\u001b[32m[I 2022-05-21 15:54:05,261]\u001b[0m Trial 54 finished with value: 0.0 and parameters: {'criterion': 'entropy', 'max_depth': 9, 'min_samples_split': 0.0034419923659919274, 'min_samples_leaf': 0.008778854126372028}. Best is trial 0 with value: 0.0.\u001b[0m\n",
      "\u001b[32m[I 2022-05-21 15:54:05,389]\u001b[0m Trial 55 finished with value: 0.0 and parameters: {'criterion': 'entropy', 'max_depth': 9, 'min_samples_split': 0.0033716899147347348, 'min_samples_leaf': 0.00872825084833181}. Best is trial 0 with value: 0.0.\u001b[0m\n",
      "\u001b[32m[I 2022-05-21 15:54:05,589]\u001b[0m Trial 56 finished with value: 0.0 and parameters: {'criterion': 'gini', 'max_depth': 11, 'min_samples_split': 0.0033196949462056314, 'min_samples_leaf': 0.008666254827478216}. Best is trial 0 with value: 0.0.\u001b[0m\n",
      "\u001b[32m[I 2022-05-21 15:54:05,611]\u001b[0m Trial 57 finished with value: 0.0 and parameters: {'criterion': 'gini', 'max_depth': 9, 'min_samples_split': 0.0035651236370119865, 'min_samples_leaf': 0.009122465437132804}. Best is trial 0 with value: 0.0.\u001b[0m\n",
      "\u001b[32m[I 2022-05-21 15:54:05,894]\u001b[0m Trial 58 finished with value: 0.0 and parameters: {'criterion': 'gini', 'max_depth': 11, 'min_samples_split': 0.004379978726258508, 'min_samples_leaf': 0.008814818218515277}. Best is trial 0 with value: 0.0.\u001b[0m\n",
      "\u001b[32m[I 2022-05-21 15:54:06,223]\u001b[0m Trial 59 finished with value: 0.0 and parameters: {'criterion': 'entropy', 'max_depth': 11, 'min_samples_split': 0.0044918069737758005, 'min_samples_leaf': 0.00989031639917229}. Best is trial 0 with value: 0.0.\u001b[0m\n",
      "\u001b[32m[I 2022-05-21 15:54:06,262]\u001b[0m Trial 60 finished with value: 0.0 and parameters: {'criterion': 'entropy', 'max_depth': 11, 'min_samples_split': 0.004591038958052766, 'min_samples_leaf': 0.009962583895963184}. Best is trial 0 with value: 0.0.\u001b[0m\n",
      "\u001b[32m[I 2022-05-21 15:54:06,447]\u001b[0m Trial 62 finished with value: 0.0 and parameters: {'criterion': 'entropy', 'max_depth': 11, 'min_samples_split': 0.003876219713955105, 'min_samples_leaf': 0.0094264176913929}. Best is trial 0 with value: 0.0.\u001b[0m\n",
      "\u001b[32m[I 2022-05-21 15:54:06,636]\u001b[0m Trial 61 finished with value: 0.0 and parameters: {'criterion': 'entropy', 'max_depth': 11, 'min_samples_split': 0.005402759238248135, 'min_samples_leaf': 0.009432918000225506}. Best is trial 0 with value: 0.0.\u001b[0m\n",
      "\u001b[32m[I 2022-05-21 15:54:06,816]\u001b[0m Trial 63 finished with value: 0.0 and parameters: {'criterion': 'entropy', 'max_depth': 11, 'min_samples_split': 0.005214835799560483, 'min_samples_leaf': 0.009928481049874916}. Best is trial 0 with value: 0.0.\u001b[0m\n",
      "\u001b[32m[I 2022-05-21 15:54:06,822]\u001b[0m Trial 64 finished with value: 0.0 and parameters: {'criterion': 'gini', 'max_depth': 11, 'min_samples_split': 0.002435767047431347, 'min_samples_leaf': 0.00997643864069668}. Best is trial 0 with value: 0.0.\u001b[0m\n",
      "\u001b[32m[I 2022-05-21 15:54:07,249]\u001b[0m Trial 65 finished with value: 0.473 and parameters: {'criterion': 'gini', 'max_depth': 11, 'min_samples_split': 0.0024657983008345733, 'min_samples_leaf': 0.0021969088126290413}. Best is trial 0 with value: 0.0.\u001b[0m\n",
      "\u001b[32m[I 2022-05-21 15:54:07,251]\u001b[0m Trial 66 finished with value: 0.552 and parameters: {'criterion': 'gini', 'max_depth': 15, 'min_samples_split': 0.00648957418241547, 'min_samples_leaf': 0.0019529592017465422}. Best is trial 0 with value: 0.0.\u001b[0m\n",
      "\u001b[32m[I 2022-05-21 15:54:07,587]\u001b[0m Trial 67 finished with value: 0.552 and parameters: {'criterion': 'gini', 'max_depth': 15, 'min_samples_split': 0.006673957988423738, 'min_samples_leaf': 0.0022823188609605973}. Best is trial 0 with value: 0.0.\u001b[0m\n",
      "\u001b[32m[I 2022-05-21 15:54:07,647]\u001b[0m Trial 68 finished with value: 0.0 and parameters: {'criterion': 'entropy', 'max_depth': 15, 'min_samples_split': 0.006575520022638934, 'min_samples_leaf': 0.0071788767326541264}. Best is trial 0 with value: 0.0.\u001b[0m\n",
      "\u001b[32m[I 2022-05-21 15:54:07,888]\u001b[0m Trial 69 finished with value: 0.0 and parameters: {'criterion': 'entropy', 'max_depth': 15, 'min_samples_split': 0.0067054295388088115, 'min_samples_leaf': 0.0072116307307075}. Best is trial 0 with value: 0.0.\u001b[0m\n",
      "\u001b[32m[I 2022-05-21 15:54:08,015]\u001b[0m Trial 71 finished with value: 0.0 and parameters: {'criterion': 'entropy', 'max_depth': 13, 'min_samples_split': 0.009301329690170551, 'min_samples_leaf': 0.007018960400752502}. Best is trial 0 with value: 0.0.\u001b[0m\n",
      "\u001b[32m[I 2022-05-21 15:54:08,214]\u001b[0m Trial 72 finished with value: 0.0 and parameters: {'criterion': 'entropy', 'max_depth': 13, 'min_samples_split': 0.009754393073226727, 'min_samples_leaf': 0.00709958953977142}. Best is trial 0 with value: 0.0.\u001b[0m\n",
      "\u001b[32m[I 2022-05-21 15:54:08,222]\u001b[0m Trial 70 finished with value: 0.0 and parameters: {'criterion': 'entropy', 'max_depth': 15, 'min_samples_split': 0.00954202989676771, 'min_samples_leaf': 0.007270036073439703}. Best is trial 0 with value: 0.0.\u001b[0m\n",
      "\u001b[32m[I 2022-05-21 15:54:08,412]\u001b[0m Trial 73 finished with value: 0.0 and parameters: {'criterion': 'entropy', 'max_depth': 15, 'min_samples_split': 0.009812245671350686, 'min_samples_leaf': 0.00735909739001304}. Best is trial 0 with value: 0.0.\u001b[0m\n",
      "\u001b[32m[I 2022-05-21 15:54:08,431]\u001b[0m Trial 74 finished with value: 0.0 and parameters: {'criterion': 'entropy', 'max_depth': 15, 'min_samples_split': 0.009843577603986438, 'min_samples_leaf': 0.0071877460976950795}. Best is trial 0 with value: 0.0.\u001b[0m\n",
      "\u001b[32m[I 2022-05-21 15:54:08,728]\u001b[0m Trial 75 finished with value: 0.0 and parameters: {'criterion': 'entropy', 'max_depth': 15, 'min_samples_split': 0.009881704336043249, 'min_samples_leaf': 0.007512995962019495}. Best is trial 0 with value: 0.0.\u001b[0m\n",
      "\u001b[32m[I 2022-05-21 15:54:08,994]\u001b[0m Trial 76 finished with value: 0.0 and parameters: {'criterion': 'entropy', 'max_depth': 13, 'min_samples_split': 0.0099921750300944, 'min_samples_leaf': 0.0074009977871353026}. Best is trial 0 with value: 0.0.\u001b[0m\n",
      "\u001b[32m[I 2022-05-21 15:54:09,334]\u001b[0m Trial 77 finished with value: 0.0 and parameters: {'criterion': 'entropy', 'max_depth': 13, 'min_samples_split': 0.009132230276924664, 'min_samples_leaf': 0.007528943314492282}. Best is trial 0 with value: 0.0.\u001b[0m\n",
      "\u001b[32m[I 2022-05-21 15:54:09,390]\u001b[0m Trial 78 finished with value: 0.0 and parameters: {'criterion': 'entropy', 'max_depth': 15, 'min_samples_split': 0.009978659498068308, 'min_samples_leaf': 0.007702152298299697}. Best is trial 0 with value: 0.0.\u001b[0m\n",
      "\u001b[32m[I 2022-05-21 15:54:09,697]\u001b[0m Trial 79 finished with value: 0.0 and parameters: {'criterion': 'entropy', 'max_depth': 15, 'min_samples_split': 0.007602769932352446, 'min_samples_leaf': 0.007884239980089249}. Best is trial 0 with value: 0.0.\u001b[0m\n",
      "\u001b[32m[I 2022-05-21 15:54:09,901]\u001b[0m Trial 80 finished with value: 0.0 and parameters: {'criterion': 'entropy', 'max_depth': 15, 'min_samples_split': 0.007690927024234525, 'min_samples_leaf': 0.007912020827746571}. Best is trial 0 with value: 0.0.\u001b[0m\n",
      "\u001b[32m[I 2022-05-21 15:54:10,165]\u001b[0m Trial 81 finished with value: 0.552 and parameters: {'criterion': 'entropy', 'max_depth': 15, 'min_samples_split': 0.008915748034777324, 'min_samples_leaf': 0.004696018768871515}. Best is trial 0 with value: 0.0.\u001b[0m\n",
      "\u001b[32m[I 2022-05-21 15:54:10,166]\u001b[0m Trial 82 finished with value: 0.0 and parameters: {'criterion': 'entropy', 'max_depth': 15, 'min_samples_split': 0.009003469470413241, 'min_samples_leaf': 0.007941272558394961}. Best is trial 0 with value: 0.0.\u001b[0m\n",
      "\u001b[32m[I 2022-05-21 15:54:10,171]\u001b[0m Trial 83 finished with value: 0.0 and parameters: {'criterion': 'entropy', 'max_depth': 15, 'min_samples_split': 0.007714609685419675, 'min_samples_leaf': 0.007958798439753442}. Best is trial 0 with value: 0.0.\u001b[0m\n",
      "\u001b[32m[I 2022-05-21 15:54:10,349]\u001b[0m Trial 84 finished with value: 0.0 and parameters: {'criterion': 'entropy', 'max_depth': 15, 'min_samples_split': 0.008867993744266058, 'min_samples_leaf': 0.0077780749370809565}. Best is trial 0 with value: 0.0.\u001b[0m\n",
      "\u001b[32m[I 2022-05-21 15:54:10,621]\u001b[0m Trial 85 finished with value: 0.0 and parameters: {'criterion': 'entropy', 'max_depth': 15, 'min_samples_split': 0.0077091121811012076, 'min_samples_leaf': 0.007949774778913619}. Best is trial 0 with value: 0.0.\u001b[0m\n",
      "\u001b[32m[I 2022-05-21 15:54:10,798]\u001b[0m Trial 86 finished with value: 0.0 and parameters: {'criterion': 'entropy', 'max_depth': 13, 'min_samples_split': 0.008821040523058477, 'min_samples_leaf': 0.00792075222451061}. Best is trial 0 with value: 0.0.\u001b[0m\n",
      "\u001b[32m[I 2022-05-21 15:54:10,981]\u001b[0m Trial 87 finished with value: 0.0 and parameters: {'criterion': 'entropy', 'max_depth': 15, 'min_samples_split': 0.007149172224674538, 'min_samples_leaf': 0.00807804977588965}. Best is trial 0 with value: 0.0.\u001b[0m\n",
      "\u001b[32m[I 2022-05-21 15:54:11,125]\u001b[0m Trial 88 finished with value: 0.0 and parameters: {'criterion': 'entropy', 'max_depth': 9, 'min_samples_split': 0.0019164086288620916, 'min_samples_leaf': 0.008350108707032362}. Best is trial 0 with value: 0.0.\u001b[0m\n",
      "\u001b[32m[I 2022-05-21 15:54:11,241]\u001b[0m Trial 90 finished with value: 0.0 and parameters: {'criterion': 'gini', 'max_depth': 9, 'min_samples_split': 0.0019123203323835325, 'min_samples_leaf': 0.008450049413479472}. Best is trial 0 with value: 0.0.\u001b[0m\n",
      "\u001b[32m[I 2022-05-21 15:54:11,502]\u001b[0m Trial 91 finished with value: 0.0 and parameters: {'criterion': 'gini', 'max_depth': 9, 'min_samples_split': 0.002893947878368847, 'min_samples_leaf': 0.00868471416901913}. Best is trial 0 with value: 0.0.\u001b[0m\n",
      "\u001b[32m[I 2022-05-21 15:54:11,509]\u001b[0m Trial 89 finished with value: 0.0 and parameters: {'criterion': 'gini', 'max_depth': 9, 'min_samples_split': 0.0019358433498427308, 'min_samples_leaf': 0.008360463311102814}. Best is trial 0 with value: 0.0.\u001b[0m\n",
      "\u001b[32m[I 2022-05-21 15:54:11,673]\u001b[0m Trial 92 finished with value: 0.0 and parameters: {'criterion': 'gini', 'max_depth': 9, 'min_samples_split': 0.0030830252767288305, 'min_samples_leaf': 0.008908795782373989}. Best is trial 0 with value: 0.0.\u001b[0m\n",
      "\u001b[32m[I 2022-05-21 15:54:11,905]\u001b[0m Trial 94 finished with value: 0.0 and parameters: {'criterion': 'gini', 'max_depth': 11, 'min_samples_split': 0.003829856485260151, 'min_samples_leaf': 0.009247963304294003}. Best is trial 0 with value: 0.0.\u001b[0m\n",
      "\u001b[32m[I 2022-05-21 15:54:11,921]\u001b[0m Trial 93 finished with value: 0.0 and parameters: {'criterion': 'gini', 'max_depth': 9, 'min_samples_split': 0.0030125874183659688, 'min_samples_leaf': 0.0091184264319594}. Best is trial 0 with value: 0.0.\u001b[0m\n",
      "\u001b[32m[I 2022-05-21 15:54:12,062]\u001b[0m Trial 96 finished with value: 0.0 and parameters: {'criterion': 'gini', 'max_depth': 11, 'min_samples_split': 0.003937460643025855, 'min_samples_leaf': 0.009446510138476465}. Best is trial 0 with value: 0.0.\u001b[0m\n",
      "\u001b[32m[I 2022-05-21 15:54:12,125]\u001b[0m Trial 95 finished with value: 0.0 and parameters: {'criterion': 'gini', 'max_depth': 11, 'min_samples_split': 0.004023541641296596, 'min_samples_leaf': 0.009363847131798773}. Best is trial 0 with value: 0.0.\u001b[0m\n",
      "\u001b[32m[I 2022-05-21 15:54:12,153]\u001b[0m Trial 97 finished with value: 0.0 and parameters: {'criterion': 'gini', 'max_depth': 11, 'min_samples_split': 0.003923269299212952, 'min_samples_leaf': 0.009339474648141523}. Best is trial 0 with value: 0.0.\u001b[0m\n",
      "\u001b[32m[I 2022-05-21 15:54:12,257]\u001b[0m Trial 98 finished with value: 0.0 and parameters: {'criterion': 'entropy', 'max_depth': 11, 'min_samples_split': 0.005559153499474979, 'min_samples_leaf': 0.00999033412871164}. Best is trial 0 with value: 0.0.\u001b[0m\n",
      "\u001b[32m[I 2022-05-21 15:54:12,331]\u001b[0m Trial 99 finished with value: 0.0 and parameters: {'criterion': 'entropy', 'max_depth': 11, 'min_samples_split': 0.005513828188666833, 'min_samples_leaf': 0.009931553617045445}. Best is trial 0 with value: 0.0.\u001b[0m\n"
     ]
    },
    {
     "name": "stdout",
     "output_type": "stream",
     "text": [
      "{'criterion': 'entropy', 'max_depth': 9, 'min_samples_split': 0.008515532694739222, 'min_samples_leaf': 0.009570977132308832}\n",
      "Counter({'No': 47969})\n"
     ]
    },
    {
     "name": "stderr",
     "output_type": "stream",
     "text": [
      "/Users/hrmussa/Insync/andersgiovanni@gmail.com/Google Drive/kds/2sem/algorithmic_fairness/exam_project/algorithmic_fairness/.venv/lib/python3.8/site-packages/sklearn/metrics/_classification.py:1327: UndefinedMetricWarning: Precision and F-score are ill-defined and being set to 0.0 in labels with no predicted samples. Use `zero_division` parameter to control this behavior.\n",
      "  _warn_prf(average, modifier, msg_start, len(result))\n",
      "/Users/hrmussa/Insync/andersgiovanni@gmail.com/Google Drive/kds/2sem/algorithmic_fairness/exam_project/algorithmic_fairness/.venv/lib/python3.8/site-packages/sklearn/metrics/_classification.py:1327: UndefinedMetricWarning: Precision and F-score are ill-defined and being set to 0.0 in labels with no predicted samples. Use `zero_division` parameter to control this behavior.\n",
      "  _warn_prf(average, modifier, msg_start, len(result))\n"
     ]
    },
    {
     "name": "stdout",
     "output_type": "stream",
     "text": [
      "              precision    recall  f1-score   support\n",
      "\n",
      "          No       0.91      1.00      0.96     43863\n",
      "         Yes       0.00      0.00      0.00      4106\n",
      "\n",
      "    accuracy                           0.91     47969\n",
      "   macro avg       0.46      0.50      0.48     47969\n",
      "weighted avg       0.84      0.91      0.87     47969\n",
      "\n",
      "{'White': 1, 'Black': 1, 'Other': 1, 'Asian': 1, 'Hispanic': 1, 'American Indian/Alaskan Native': 1}\n",
      "{'White': 1, 'Black': 1, 'Other': 1, 'Asian': 1, 'Hispanic': 1, 'American Indian/Alaskan Native': 1}\n",
      "Total class difference: 0\n",
      "0\n"
     ]
    },
    {
     "name": "stderr",
     "output_type": "stream",
     "text": [
      "/Users/hrmussa/Insync/andersgiovanni@gmail.com/Google Drive/kds/2sem/algorithmic_fairness/exam_project/algorithmic_fairness/.venv/lib/python3.8/site-packages/sklearn/metrics/_classification.py:1327: UndefinedMetricWarning: Precision and F-score are ill-defined and being set to 0.0 in labels with no predicted samples. Use `zero_division` parameter to control this behavior.\n",
      "  _warn_prf(average, modifier, msg_start, len(result))\n"
     ]
    }
   ],
   "source": [
    "# Run optimization\n",
    "study = optuna.create_study(direction=\"minimize\")\n",
    "\n",
    "# Scaling\n",
    "# Scale continuous variables\n",
    "scaler = ColumnTransformer(\n",
    "    [('scaler', StandardScaler(), continuos_features)], remainder='passthrough')\n",
    "X_train = scaler.fit_transform(train_processed)\n",
    "X_val = scaler.transform(val_processed)\n",
    "\n",
    "# Define objective\n",
    "objective = Objective(X_train, X_val, y_train, y_val, val_race, equailized_odds)\n",
    "\n",
    "# Make a study to optimize the objective.\n",
    "study.optimize(objective, n_trials=100, n_jobs=-1, show_progress_bar=True)\n",
    "\n",
    "best_params = study.best_params\n",
    "\n",
    "print(best_params)\n",
    "\n",
    "scaler = ColumnTransformer(\n",
    "    [('scaler', StandardScaler(), continuos_features)], remainder='passthrough')\n",
    "    \n",
    "whitebox_model = Pipeline(steps=[('scaler', scaler), ('clf', DecisionTreeClassifier(**best_params, random_state = 42))])\n",
    "# whitebox_model = Pipeline(steps=[('scaler', scaler), ('clf', DecisionTreeClassifier(random_state = 42))])\n",
    "\n",
    "whitebox_model.fit(train_processed, y_train)\n",
    "y_pred_whitebox = whitebox_model.predict(val_processed)\n",
    "y_pred_proba_whitebox = whitebox_model.predict_proba(val_processed)\n",
    "\n",
    "print(Counter(y_pred_whitebox))\n",
    "\n",
    "print(classification_report(y_val, y_pred_whitebox))\n",
    "\n",
    "print(equailized_odds(y_pred_whitebox, val_race, y_val, verbose=True))"
   ]
  },
  {
   "cell_type": "code",
   "execution_count": 30,
   "metadata": {},
   "outputs": [
    {
     "data": {
      "text/plain": [
       "Counter({'White': 36714,\n",
       "         'Black': 3401,\n",
       "         'Other': 1697,\n",
       "         'Asian': 1189,\n",
       "         'Hispanic': 4139,\n",
       "         'American Indian/Alaskan Native': 829})"
      ]
     },
     "execution_count": 30,
     "metadata": {},
     "output_type": "execute_result"
    }
   ],
   "source": [
    "from collections import Counter\n",
    "Counter(val_race)"
   ]
  },
  {
   "cell_type": "code",
   "execution_count": null,
   "metadata": {},
   "outputs": [],
   "source": []
  },
  {
   "cell_type": "code",
   "execution_count": null,
   "metadata": {},
   "outputs": [],
   "source": []
  },
  {
   "cell_type": "code",
   "execution_count": null,
   "metadata": {},
   "outputs": [],
   "source": []
  },
  {
   "cell_type": "markdown",
   "metadata": {},
   "source": [
    "# EDA"
   ]
  },
  {
   "cell_type": "code",
   "execution_count": null,
   "metadata": {},
   "outputs": [],
   "source": [
    "plt.rcParams[\"figure.figsize\"] = (20,20)\n",
    "\n",
    "# Checking for correlation between variables\n",
    "from dython import nominal\n",
    "\n",
    "data_test = train_original.copy()\n",
    "\n",
    "# Encode the object as an enumerated type or categorical variable.\n",
    "data_test[categorical_features] = data_test[categorical_features].apply(lambda x : pd.factorize(x)[0])\n",
    "nominal.associations(data_test)"
   ]
  }
 ],
 "metadata": {
  "interpreter": {
   "hash": "4168ca1474844f3f5fca761e685cf164ea20722acc5773b61bcc07160dedfd10"
  },
  "kernelspec": {
   "display_name": "Python 3.8.12 ('.venv': venv)",
   "language": "python",
   "name": "python3"
  },
  "language_info": {
   "codemirror_mode": {
    "name": "ipython",
    "version": 3
   },
   "file_extension": ".py",
   "mimetype": "text/x-python",
   "name": "python",
   "nbconvert_exporter": "python",
   "pygments_lexer": "ipython3",
   "version": "3.8.12"
  },
  "orig_nbformat": 4
 },
 "nbformat": 4,
 "nbformat_minor": 2
}
